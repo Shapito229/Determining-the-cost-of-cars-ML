{
 "cells": [
  {
   "cell_type": "markdown",
   "metadata": {},
   "source": [
    "# Определение стоимости автомобилей"
   ]
  },
  {
   "cell_type": "markdown",
   "metadata": {},
   "source": [
    "Сервис по продаже автомобилей с пробегом «Не бит, не крашен» разрабатывает приложение для привлечения новых клиентов. В нём можно быстро узнать рыночную стоимость своего автомобиля. В вашем распоряжении исторические данные: технические характеристики, комплектации и цены автомобилей. Вам нужно построить модель для определения стоимости. \n",
    "\n",
    "Заказчику важны:\n",
    "\n",
    "- качество предсказания;\n",
    "- скорость предсказания;\n",
    "- время обучения."
   ]
  },
  {
   "cell_type": "markdown",
   "metadata": {},
   "source": [
    "## Подготовка данных"
   ]
  },
  {
   "cell_type": "code",
   "execution_count": 1,
   "metadata": {},
   "outputs": [
    {
     "name": "stdout",
     "output_type": "stream",
     "text": [
      "Defaulting to user installation because normal site-packages is not writeable\n",
      "Collecting missingno\n",
      "  Downloading missingno-0.5.0-py3-none-any.whl (8.8 kB)\n",
      "Requirement already satisfied: scipy in /opt/conda/lib/python3.7/site-packages (from missingno) (1.4.1)\n",
      "Requirement already satisfied: seaborn in /opt/conda/lib/python3.7/site-packages (from missingno) (0.9.0)\n",
      "Requirement already satisfied: numpy in /opt/conda/lib/python3.7/site-packages (from missingno) (1.19.5)\n",
      "Requirement already satisfied: matplotlib in /opt/conda/lib/python3.7/site-packages (from missingno) (3.1.0)\n",
      "Requirement already satisfied: pandas>=0.15.2 in /opt/conda/lib/python3.7/site-packages (from seaborn->missingno) (0.25.1)\n",
      "Requirement already satisfied: python-dateutil>=2.1 in /opt/conda/lib/python3.7/site-packages (from matplotlib->missingno) (2.8.1)\n",
      "Requirement already satisfied: pyparsing!=2.0.4,!=2.1.2,!=2.1.6,>=2.0.1 in /opt/conda/lib/python3.7/site-packages (from matplotlib->missingno) (2.4.7)\n",
      "Requirement already satisfied: cycler>=0.10 in /opt/conda/lib/python3.7/site-packages (from matplotlib->missingno) (0.10.0)\n",
      "Requirement already satisfied: kiwisolver>=1.0.1 in /opt/conda/lib/python3.7/site-packages (from matplotlib->missingno) (1.3.1)\n",
      "Requirement already satisfied: pytz>=2017.2 in /opt/conda/lib/python3.7/site-packages (from pandas>=0.15.2->seaborn->missingno) (2021.1)\n",
      "Requirement already satisfied: six>=1.5 in /opt/conda/lib/python3.7/site-packages (from python-dateutil>=2.1->matplotlib->missingno) (1.15.0)\n",
      "Installing collected packages: missingno\n",
      "Successfully installed missingno-0.5.0\n",
      "Note: you may need to restart the kernel to use updated packages.\n"
     ]
    }
   ],
   "source": [
    "pip install missingno"
   ]
  },
  {
   "cell_type": "code",
   "execution_count": 2,
   "metadata": {},
   "outputs": [],
   "source": [
    "import pandas as pd\n",
    "import numpy as np\n",
    "import seaborn as sns\n",
    "import warnings\n",
    "import matplotlib.pyplot as plt\n",
    "import lightgbm as lgb\n",
    "import missingno as msno\n",
    "from IPython.display import display\n",
    "from sklearn.metrics import mean_absolute_error\n",
    "from sklearn.linear_model import LinearRegression\n",
    "from sklearn.metrics import r2_score\n",
    "from sklearn.model_selection import train_test_split\n",
    "from sklearn.linear_model import LinearRegression\n",
    "from sklearn.metrics import mean_squared_error\n",
    "from catboost import CatBoostRegressor\n",
    "from sklearn.linear_model import SGDRegressor\n",
    "from sklearn.preprocessing import StandardScaler \n",
    "from lightgbm import LGBMClassifier\n",
    "from sklearn.model_selection import GridSearchCV\n",
    "from sklearn.preprocessing import OneHotEncoder"
   ]
  },
  {
   "cell_type": "code",
   "execution_count": 3,
   "metadata": {},
   "outputs": [],
   "source": [
    "warnings.filterwarnings(\"ignore\")"
   ]
  },
  {
   "cell_type": "code",
   "execution_count": 41,
   "metadata": {},
   "outputs": [
    {
     "data": {
      "text/html": [
       "<div>\n",
       "<style scoped>\n",
       "    .dataframe tbody tr th:only-of-type {\n",
       "        vertical-align: middle;\n",
       "    }\n",
       "\n",
       "    .dataframe tbody tr th {\n",
       "        vertical-align: top;\n",
       "    }\n",
       "\n",
       "    .dataframe thead th {\n",
       "        text-align: right;\n",
       "    }\n",
       "</style>\n",
       "<table border=\"1\" class=\"dataframe\">\n",
       "  <thead>\n",
       "    <tr style=\"text-align: right;\">\n",
       "      <th></th>\n",
       "      <th>DateCrawled</th>\n",
       "      <th>Price</th>\n",
       "      <th>VehicleType</th>\n",
       "      <th>RegistrationYear</th>\n",
       "      <th>Gearbox</th>\n",
       "      <th>Power</th>\n",
       "      <th>Model</th>\n",
       "      <th>Kilometer</th>\n",
       "      <th>RegistrationMonth</th>\n",
       "      <th>FuelType</th>\n",
       "      <th>Brand</th>\n",
       "      <th>NotRepaired</th>\n",
       "      <th>DateCreated</th>\n",
       "      <th>NumberOfPictures</th>\n",
       "      <th>PostalCode</th>\n",
       "      <th>LastSeen</th>\n",
       "    </tr>\n",
       "  </thead>\n",
       "  <tbody>\n",
       "    <tr>\n",
       "      <td>0</td>\n",
       "      <td>2016-03-24 11:52:17</td>\n",
       "      <td>480</td>\n",
       "      <td>NaN</td>\n",
       "      <td>1993</td>\n",
       "      <td>manual</td>\n",
       "      <td>0</td>\n",
       "      <td>golf</td>\n",
       "      <td>150000</td>\n",
       "      <td>0</td>\n",
       "      <td>petrol</td>\n",
       "      <td>volkswagen</td>\n",
       "      <td>NaN</td>\n",
       "      <td>2016-03-24 00:00:00</td>\n",
       "      <td>0</td>\n",
       "      <td>70435</td>\n",
       "      <td>2016-04-07 03:16:57</td>\n",
       "    </tr>\n",
       "    <tr>\n",
       "      <td>1</td>\n",
       "      <td>2016-03-24 10:58:45</td>\n",
       "      <td>18300</td>\n",
       "      <td>coupe</td>\n",
       "      <td>2011</td>\n",
       "      <td>manual</td>\n",
       "      <td>190</td>\n",
       "      <td>NaN</td>\n",
       "      <td>125000</td>\n",
       "      <td>5</td>\n",
       "      <td>gasoline</td>\n",
       "      <td>audi</td>\n",
       "      <td>yes</td>\n",
       "      <td>2016-03-24 00:00:00</td>\n",
       "      <td>0</td>\n",
       "      <td>66954</td>\n",
       "      <td>2016-04-07 01:46:50</td>\n",
       "    </tr>\n",
       "    <tr>\n",
       "      <td>2</td>\n",
       "      <td>2016-03-14 12:52:21</td>\n",
       "      <td>9800</td>\n",
       "      <td>suv</td>\n",
       "      <td>2004</td>\n",
       "      <td>auto</td>\n",
       "      <td>163</td>\n",
       "      <td>grand</td>\n",
       "      <td>125000</td>\n",
       "      <td>8</td>\n",
       "      <td>gasoline</td>\n",
       "      <td>jeep</td>\n",
       "      <td>NaN</td>\n",
       "      <td>2016-03-14 00:00:00</td>\n",
       "      <td>0</td>\n",
       "      <td>90480</td>\n",
       "      <td>2016-04-05 12:47:46</td>\n",
       "    </tr>\n",
       "    <tr>\n",
       "      <td>3</td>\n",
       "      <td>2016-03-17 16:54:04</td>\n",
       "      <td>1500</td>\n",
       "      <td>small</td>\n",
       "      <td>2001</td>\n",
       "      <td>manual</td>\n",
       "      <td>75</td>\n",
       "      <td>golf</td>\n",
       "      <td>150000</td>\n",
       "      <td>6</td>\n",
       "      <td>petrol</td>\n",
       "      <td>volkswagen</td>\n",
       "      <td>no</td>\n",
       "      <td>2016-03-17 00:00:00</td>\n",
       "      <td>0</td>\n",
       "      <td>91074</td>\n",
       "      <td>2016-03-17 17:40:17</td>\n",
       "    </tr>\n",
       "    <tr>\n",
       "      <td>4</td>\n",
       "      <td>2016-03-31 17:25:20</td>\n",
       "      <td>3600</td>\n",
       "      <td>small</td>\n",
       "      <td>2008</td>\n",
       "      <td>manual</td>\n",
       "      <td>69</td>\n",
       "      <td>fabia</td>\n",
       "      <td>90000</td>\n",
       "      <td>7</td>\n",
       "      <td>gasoline</td>\n",
       "      <td>skoda</td>\n",
       "      <td>no</td>\n",
       "      <td>2016-03-31 00:00:00</td>\n",
       "      <td>0</td>\n",
       "      <td>60437</td>\n",
       "      <td>2016-04-06 10:17:21</td>\n",
       "    </tr>\n",
       "  </tbody>\n",
       "</table>\n",
       "</div>"
      ],
      "text/plain": [
       "           DateCrawled  Price VehicleType  RegistrationYear Gearbox  Power  \\\n",
       "0  2016-03-24 11:52:17    480         NaN              1993  manual      0   \n",
       "1  2016-03-24 10:58:45  18300       coupe              2011  manual    190   \n",
       "2  2016-03-14 12:52:21   9800         suv              2004    auto    163   \n",
       "3  2016-03-17 16:54:04   1500       small              2001  manual     75   \n",
       "4  2016-03-31 17:25:20   3600       small              2008  manual     69   \n",
       "\n",
       "   Model  Kilometer  RegistrationMonth  FuelType       Brand NotRepaired  \\\n",
       "0   golf     150000                  0    petrol  volkswagen         NaN   \n",
       "1    NaN     125000                  5  gasoline        audi         yes   \n",
       "2  grand     125000                  8  gasoline        jeep         NaN   \n",
       "3   golf     150000                  6    petrol  volkswagen          no   \n",
       "4  fabia      90000                  7  gasoline       skoda          no   \n",
       "\n",
       "           DateCreated  NumberOfPictures  PostalCode             LastSeen  \n",
       "0  2016-03-24 00:00:00                 0       70435  2016-04-07 03:16:57  \n",
       "1  2016-03-24 00:00:00                 0       66954  2016-04-07 01:46:50  \n",
       "2  2016-03-14 00:00:00                 0       90480  2016-04-05 12:47:46  \n",
       "3  2016-03-17 00:00:00                 0       91074  2016-03-17 17:40:17  \n",
       "4  2016-03-31 00:00:00                 0       60437  2016-04-06 10:17:21  "
      ]
     },
     "metadata": {},
     "output_type": "display_data"
    }
   ],
   "source": [
    "data=pd.read_csv('/datasets/autos.csv')\n",
    "display(data.head())"
   ]
  },
  {
   "cell_type": "code",
   "execution_count": 5,
   "metadata": {},
   "outputs": [
    {
     "name": "stdout",
     "output_type": "stream",
     "text": [
      "**Общая информация датафрейма**\n",
      "<class 'pandas.core.frame.DataFrame'>\n",
      "RangeIndex: 354369 entries, 0 to 354368\n",
      "Data columns (total 16 columns):\n",
      "DateCrawled          354369 non-null object\n",
      "Price                354369 non-null int64\n",
      "VehicleType          316879 non-null object\n",
      "RegistrationYear     354369 non-null int64\n",
      "Gearbox              334536 non-null object\n",
      "Power                354369 non-null int64\n",
      "Model                334664 non-null object\n",
      "Kilometer            354369 non-null int64\n",
      "RegistrationMonth    354369 non-null int64\n",
      "FuelType             321474 non-null object\n",
      "Brand                354369 non-null object\n",
      "NotRepaired          283215 non-null object\n",
      "DateCreated          354369 non-null object\n",
      "NumberOfPictures     354369 non-null int64\n",
      "PostalCode           354369 non-null int64\n",
      "LastSeen             354369 non-null object\n",
      "dtypes: int64(7), object(9)\n",
      "memory usage: 43.3+ MB\n",
      "None\n",
      "-------------------------------------------------------------------------------------------------------------\n",
      "**Просмотр статистических данных**\n",
      "               Price  RegistrationYear          Power      Kilometer  \\\n",
      "count  354369.000000     354369.000000  354369.000000  354369.000000   \n",
      "mean     4416.656776       2004.234448     110.094337  128211.172535   \n",
      "std      4514.158514         90.227958     189.850405   37905.341530   \n",
      "min         0.000000       1000.000000       0.000000    5000.000000   \n",
      "25%      1050.000000       1999.000000      69.000000  125000.000000   \n",
      "50%      2700.000000       2003.000000     105.000000  150000.000000   \n",
      "75%      6400.000000       2008.000000     143.000000  150000.000000   \n",
      "max     20000.000000       9999.000000   20000.000000  150000.000000   \n",
      "\n",
      "       RegistrationMonth  NumberOfPictures     PostalCode  \n",
      "count      354369.000000          354369.0  354369.000000  \n",
      "mean            5.714645               0.0   50508.689087  \n",
      "std             3.726421               0.0   25783.096248  \n",
      "min             0.000000               0.0    1067.000000  \n",
      "25%             3.000000               0.0   30165.000000  \n",
      "50%             6.000000               0.0   49413.000000  \n",
      "75%             9.000000               0.0   71083.000000  \n",
      "max            12.000000               0.0   99998.000000  \n",
      "-------------------------------------------------------------------------------------------------------------\n",
      "**Вывод рандомных строк датафрейма**\n",
      "                DateCrawled  Price VehicleType  RegistrationYear Gearbox  \\\n",
      "60723   2016-03-10 09:53:50  12899         bus              2008  manual   \n",
      "234141  2016-03-18 00:55:59   5980       wagon              2008    auto   \n",
      "149319  2016-03-07 17:50:57  14000         bus              2008  manual   \n",
      "\n",
      "        Power     Model  Kilometer  RegistrationMonth  FuelType  \\\n",
      "60723     116    sharan     125000                 11       lpg   \n",
      "234141    140    passat     150000                  4  gasoline   \n",
      "149319    108  sprinter     100000                 10  gasoline   \n",
      "\n",
      "                Brand NotRepaired          DateCreated  NumberOfPictures  \\\n",
      "60723      volkswagen          no  2016-03-10 00:00:00                 0   \n",
      "234141     volkswagen          no  2016-03-17 00:00:00                 0   \n",
      "149319  mercedes_benz          no  2016-03-07 00:00:00                 0   \n",
      "\n",
      "        PostalCode             LastSeen  \n",
      "60723        48607  2016-04-06 07:16:55  \n",
      "234141       36043  2016-03-29 12:18:15  \n",
      "149319       25524  2016-04-06 19:18:03  \n",
      "-------------------------------------------------------------------------------------------------------------\n",
      "**Вывод первых пяти строк датафрейма**\n",
      "           DateCrawled  Price VehicleType  RegistrationYear Gearbox  Power  \\\n",
      "0  2016-03-24 11:52:17    480         NaN              1993  manual      0   \n",
      "1  2016-03-24 10:58:45  18300       coupe              2011  manual    190   \n",
      "2  2016-03-14 12:52:21   9800         suv              2004    auto    163   \n",
      "3  2016-03-17 16:54:04   1500       small              2001  manual     75   \n",
      "4  2016-03-31 17:25:20   3600       small              2008  manual     69   \n",
      "\n",
      "   Model  Kilometer  RegistrationMonth  FuelType       Brand NotRepaired  \\\n",
      "0   golf     150000                  0    petrol  volkswagen         NaN   \n",
      "1    NaN     125000                  5  gasoline        audi         yes   \n",
      "2  grand     125000                  8  gasoline        jeep         NaN   \n",
      "3   golf     150000                  6    petrol  volkswagen          no   \n",
      "4  fabia      90000                  7  gasoline       skoda          no   \n",
      "\n",
      "           DateCreated  NumberOfPictures  PostalCode             LastSeen  \n",
      "0  2016-03-24 00:00:00                 0       70435  2016-04-07 03:16:57  \n",
      "1  2016-03-24 00:00:00                 0       66954  2016-04-07 01:46:50  \n",
      "2  2016-03-14 00:00:00                 0       90480  2016-04-05 12:47:46  \n",
      "3  2016-03-17 00:00:00                 0       91074  2016-03-17 17:40:17  \n",
      "4  2016-03-31 00:00:00                 0       60437  2016-04-06 10:17:21  \n",
      "-------------------------------------------------------------------------------------------------------------\n",
      "**Вывод количесва дубликатов датафрейма**\n",
      "4\n",
      "-------------------------------------------------------------------------------------------------------------\n",
      "**Вывод количесва пропущеных значений датафрейма**\n",
      "DateCrawled              0\n",
      "Price                    0\n",
      "VehicleType          37490\n",
      "RegistrationYear         0\n",
      "Gearbox              19833\n",
      "Power                    0\n",
      "Model                19705\n",
      "Kilometer                0\n",
      "RegistrationMonth        0\n",
      "FuelType             32895\n",
      "Brand                    0\n",
      "NotRepaired          71154\n",
      "DateCreated              0\n",
      "NumberOfPictures         0\n",
      "PostalCode               0\n",
      "LastSeen                 0\n",
      "dtype: int64\n",
      "-------------------------------------------------------------------------------------------------------------\n",
      "None\n"
     ]
    }
   ],
   "source": [
    "def fun_date(data):\n",
    "    print('**Общая информация датафрейма**')\n",
    "    print(data.info())\n",
    "    print('-------------------------------------------------------------------------------------------------------------')\n",
    "    print('**Просмотр статистических данных**')\n",
    "    print(data.describe())\n",
    "    print('-------------------------------------------------------------------------------------------------------------')\n",
    "    print('**Вывод рандомных строк датафрейма**')\n",
    "    print(data.sample(n=3, random_state=1))\n",
    "    print('-------------------------------------------------------------------------------------------------------------')\n",
    "    print('**Вывод первых пяти строк датафрейма**')\n",
    "    print(data.head())\n",
    "    print('-------------------------------------------------------------------------------------------------------------')\n",
    "    print('**Вывод количесва дубликатов датафрейма**')\n",
    "    print(data.duplicated().sum())\n",
    "    print('-------------------------------------------------------------------------------------------------------------')\n",
    "    print('**Вывод количесва пропущеных значений датафрейма**')\n",
    "    print(data.isnull().sum())\n",
    "    #print(msno.heatmap(data))\n",
    "    print('-------------------------------------------------------------------------------------------------------------')\n",
    "print(fun_date(data))"
   ]
  },
  {
   "cell_type": "code",
   "execution_count": 6,
   "metadata": {},
   "outputs": [
    {
     "data": {
      "text/html": [
       "<div>\n",
       "<style scoped>\n",
       "    .dataframe tbody tr th:only-of-type {\n",
       "        vertical-align: middle;\n",
       "    }\n",
       "\n",
       "    .dataframe tbody tr th {\n",
       "        vertical-align: top;\n",
       "    }\n",
       "\n",
       "    .dataframe thead th {\n",
       "        text-align: right;\n",
       "    }\n",
       "</style>\n",
       "<table border=\"1\" class=\"dataframe\">\n",
       "  <thead>\n",
       "    <tr style=\"text-align: right;\">\n",
       "      <th></th>\n",
       "      <th>DateCrawled</th>\n",
       "      <th>Price</th>\n",
       "      <th>VehicleType</th>\n",
       "      <th>RegistrationYear</th>\n",
       "      <th>Gearbox</th>\n",
       "      <th>Power</th>\n",
       "      <th>Model</th>\n",
       "      <th>Kilometer</th>\n",
       "      <th>RegistrationMonth</th>\n",
       "      <th>FuelType</th>\n",
       "      <th>Brand</th>\n",
       "      <th>NotRepaired</th>\n",
       "      <th>DateCreated</th>\n",
       "      <th>NumberOfPictures</th>\n",
       "      <th>PostalCode</th>\n",
       "      <th>LastSeen</th>\n",
       "    </tr>\n",
       "  </thead>\n",
       "  <tbody>\n",
       "    <tr>\n",
       "      <td>0</td>\n",
       "      <td>2016-03-24 11:52:17</td>\n",
       "      <td>480</td>\n",
       "      <td>NaN</td>\n",
       "      <td>1993</td>\n",
       "      <td>manual</td>\n",
       "      <td>0</td>\n",
       "      <td>golf</td>\n",
       "      <td>150000</td>\n",
       "      <td>0</td>\n",
       "      <td>petrol</td>\n",
       "      <td>volkswagen</td>\n",
       "      <td>NaN</td>\n",
       "      <td>2016-03-24 00:00:00</td>\n",
       "      <td>0</td>\n",
       "      <td>70435</td>\n",
       "      <td>2016-04-07 03:16:57</td>\n",
       "    </tr>\n",
       "    <tr>\n",
       "      <td>1</td>\n",
       "      <td>2016-03-24 10:58:45</td>\n",
       "      <td>18300</td>\n",
       "      <td>coupe</td>\n",
       "      <td>2011</td>\n",
       "      <td>manual</td>\n",
       "      <td>190</td>\n",
       "      <td>NaN</td>\n",
       "      <td>125000</td>\n",
       "      <td>5</td>\n",
       "      <td>gasoline</td>\n",
       "      <td>audi</td>\n",
       "      <td>yes</td>\n",
       "      <td>2016-03-24 00:00:00</td>\n",
       "      <td>0</td>\n",
       "      <td>66954</td>\n",
       "      <td>2016-04-07 01:46:50</td>\n",
       "    </tr>\n",
       "    <tr>\n",
       "      <td>2</td>\n",
       "      <td>2016-03-14 12:52:21</td>\n",
       "      <td>9800</td>\n",
       "      <td>suv</td>\n",
       "      <td>2004</td>\n",
       "      <td>auto</td>\n",
       "      <td>163</td>\n",
       "      <td>grand</td>\n",
       "      <td>125000</td>\n",
       "      <td>8</td>\n",
       "      <td>gasoline</td>\n",
       "      <td>jeep</td>\n",
       "      <td>NaN</td>\n",
       "      <td>2016-03-14 00:00:00</td>\n",
       "      <td>0</td>\n",
       "      <td>90480</td>\n",
       "      <td>2016-04-05 12:47:46</td>\n",
       "    </tr>\n",
       "  </tbody>\n",
       "</table>\n",
       "</div>"
      ],
      "text/plain": [
       "           DateCrawled  Price VehicleType  RegistrationYear Gearbox  Power  \\\n",
       "0  2016-03-24 11:52:17    480         NaN              1993  manual      0   \n",
       "1  2016-03-24 10:58:45  18300       coupe              2011  manual    190   \n",
       "2  2016-03-14 12:52:21   9800         suv              2004    auto    163   \n",
       "\n",
       "   Model  Kilometer  RegistrationMonth  FuelType       Brand NotRepaired  \\\n",
       "0   golf     150000                  0    petrol  volkswagen         NaN   \n",
       "1    NaN     125000                  5  gasoline        audi         yes   \n",
       "2  grand     125000                  8  gasoline        jeep         NaN   \n",
       "\n",
       "           DateCreated  NumberOfPictures  PostalCode             LastSeen  \n",
       "0  2016-03-24 00:00:00                 0       70435  2016-04-07 03:16:57  \n",
       "1  2016-03-24 00:00:00                 0       66954  2016-04-07 01:46:50  \n",
       "2  2016-03-14 00:00:00                 0       90480  2016-04-05 12:47:46  "
      ]
     },
     "execution_count": 6,
     "metadata": {},
     "output_type": "execute_result"
    }
   ],
   "source": [
    "data.drop_duplicates().reset_index(drop= True).head(3)"
   ]
  },
  {
   "cell_type": "code",
   "execution_count": 7,
   "metadata": {},
   "outputs": [],
   "source": [
    "data['NotRepaired'].value_counts()\n",
    "data['NotRepaired'] = data['NotRepaired'].fillna('no')"
   ]
  },
  {
   "cell_type": "code",
   "execution_count": 8,
   "metadata": {},
   "outputs": [],
   "source": [
    "data['DateCrawled'] = pd.to_datetime(data['DateCrawled'], format='%Y-%m-%dT%H:%M:%S')\n",
    "data['LastSeen'] = pd.to_datetime(data['LastSeen'], format='%Y-%m-%dT%H:%M:%S')\n",
    "data['DateCreated'] = pd.to_datetime(data['DateCreated'], format='%Y-%m-%dT%H:%M:%S')\n"
   ]
  },
  {
   "cell_type": "code",
   "execution_count": 9,
   "metadata": {},
   "outputs": [
    {
     "data": {
      "text/plain": [
       "<matplotlib.axes._subplots.AxesSubplot at 0x7f692b3c9ad0>"
      ]
     },
     "execution_count": 9,
     "metadata": {},
     "output_type": "execute_result"
    },
    {
     "data": {
      "image/png": "[encoded data removed]",
      "text/plain": [
       "<Figure size 1440x864 with 2 Axes>"
      ]
     },
     "metadata": {
      "needs_background": "light"
     },
     "output_type": "display_data"
    }
   ],
   "source": [
    "msno.heatmap(data)"
   ]
  },
  {
   "cell_type": "code",
   "execution_count": 10,
   "metadata": {},
   "outputs": [],
   "source": [
    "#filtered_data = msno.nullity_filter(data, filter='bottom', n=15, p=0.999) # or filter='top'\n",
    "#msno.matrix(filtered_data.sample(250))"
   ]
  },
  {
   "cell_type": "code",
   "execution_count": 11,
   "metadata": {},
   "outputs": [],
   "source": [
    "#data['VehicleType'] = data['VehicleType'].fillna('unknown')\n",
    "#data['Gearbox'] = data['Gearbox'].fillna('unknown')\n",
    "#data['FuelType'] = data['FuelType'].fillna('unknown')\n",
    "#data['Model'] = data['Model'].fillna('unknown')"
   ]
  },
  {
   "cell_type": "code",
   "execution_count": 12,
   "metadata": {},
   "outputs": [
    {
     "name": "stdout",
     "output_type": "stream",
     "text": [
      "Количесво строк до удаления пропусков: 354369\n"
     ]
    }
   ],
   "source": [
    "print('Количесво строк до удаления пропусков:',data.shape[0])"
   ]
  },
  {
   "cell_type": "code",
   "execution_count": 13,
   "metadata": {},
   "outputs": [],
   "source": [
    "data.dropna(subset=['VehicleType', 'Gearbox', 'Model', 'FuelType', 'NotRepaired'], inplace=True)"
   ]
  },
  {
   "cell_type": "code",
   "execution_count": 14,
   "metadata": {},
   "outputs": [
    {
     "name": "stdout",
     "output_type": "stream",
     "text": [
      "Количесво строк после удаления пропусков: 284126\n"
     ]
    }
   ],
   "source": [
    "print('Количесво строк после удаления пропусков:',data.shape[0])"
   ]
  },
  {
   "cell_type": "markdown",
   "metadata": {},
   "source": [
    "\n",
    "Удалено 70243 строки - почти 20%\n"
   ]
  },
  {
   "cell_type": "code",
   "execution_count": 15,
   "metadata": {},
   "outputs": [
    {
     "data": {
      "text/plain": [
       "<matplotlib.axes._subplots.AxesSubplot at 0x7f691c836510>"
      ]
     },
     "execution_count": 15,
     "metadata": {},
     "output_type": "execute_result"
    },
    {
     "data": {
      "image/png": "[encoded data removed]",
      "text/plain": [
       "<Figure size 1800x720 with 2 Axes>"
      ]
     },
     "metadata": {
      "needs_background": "light"
     },
     "output_type": "display_data"
    }
   ],
   "source": [
    "sorted_data = msno.nullity_sort(data, sort='descending') # or sort='ascending'\n",
    "msno.matrix(sorted_data.sample(250))"
   ]
  },
  {
   "cell_type": "code",
   "execution_count": 16,
   "metadata": {},
   "outputs": [
    {
     "data": {
      "text/plain": [
       "Text(0, 0.5, 'count')"
      ]
     },
     "execution_count": 16,
     "metadata": {},
     "output_type": "execute_result"
    },
    {
     "data": {
      "image/png": "[encoded data removed]",
      "text/plain": [
       "<Figure size 432x288 with 1 Axes>"
      ]
     },
     "metadata": {
      "needs_background": "light"
     },
     "output_type": "display_data"
    }
   ],
   "source": [
    "plt.title('График распределения сил машины', fontweight='bold')\n",
    "fig = sns.kdeplot(data['Power'],color='r', legend=True,shade=True)\n",
    "plt.xlabel('power', fontweight='bold', fontsize=16)\n",
    "plt.ylabel('count', fontweight='light', fontsize=14)"
   ]
  },
  {
   "cell_type": "code",
   "execution_count": 17,
   "metadata": {},
   "outputs": [
    {
     "data": {
      "text/plain": [
       "Text(0, 0.5, 'count')"
      ]
     },
     "execution_count": 17,
     "metadata": {},
     "output_type": "execute_result"
    },
    {
     "data": {
      "image/png": "[encoded data removed]",
      "text/plain": [
       "<Figure size 432x288 with 1 Axes>"
      ]
     },
     "metadata": {
      "needs_background": "light"
     },
     "output_type": "display_data"
    }
   ],
   "source": [
    "plt.title('График распределения цены машины', fontweight='bold')\n",
    "fig = sns.kdeplot(data['Price'],color='g', legend=True,shade=True)\n",
    "plt.xlabel('price', fontweight='bold', fontsize=16)\n",
    "plt.ylabel('count', fontweight='light', fontsize=14)"
   ]
  },
  {
   "cell_type": "code",
   "execution_count": 18,
   "metadata": {},
   "outputs": [
    {
     "data": {
      "text/plain": [
       "Text(0, 0.5, 'count')"
      ]
     },
     "execution_count": 18,
     "metadata": {},
     "output_type": "execute_result"
    },
    {
     "data": {
      "image/png": "[encoded data removed]",
      "text/plain": [
       "<Figure size 432x288 with 1 Axes>"
      ]
     },
     "metadata": {
      "needs_background": "light"
     },
     "output_type": "display_data"
    }
   ],
   "source": [
    "plt.title('График распределения месяца подачи заявления', fontweight='bold')\n",
    "fig = sns.kdeplot(data['RegistrationMonth'],color='b', legend=True,shade=True)\n",
    "plt.xlabel('month', fontweight='bold', fontsize=16)\n",
    "plt.ylabel('count', fontweight='light', fontsize=14)"
   ]
  },
  {
   "cell_type": "markdown",
   "metadata": {},
   "source": [
    "<font color='blue'>Заменты аномалии в нулевых значениях!"
   ]
  },
  {
   "cell_type": "code",
   "execution_count": 19,
   "metadata": {},
   "outputs": [],
   "source": [
    "data=data.query('Power > 50  & Price > 1000 & RegistrationMonth>1')\n"
   ]
  },
  {
   "cell_type": "code",
   "execution_count": 20,
   "metadata": {},
   "outputs": [
    {
     "data": {
      "text/plain": [
       "<matplotlib.axes._subplots.AxesSubplot at 0x7f691c12e450>"
      ]
     },
     "execution_count": 20,
     "metadata": {},
     "output_type": "execute_result"
    },
    {
     "data": {
      "image/png": "[encoded data removed]",
      "text/plain": [
       "<Figure size 432x288 with 1 Axes>"
      ]
     },
     "metadata": {
      "needs_background": "light"
     },
     "output_type": "display_data"
    }
   ],
   "source": [
    "data.boxplot('Power')"
   ]
  },
  {
   "cell_type": "code",
   "execution_count": 21,
   "metadata": {},
   "outputs": [
    {
     "data": {
      "text/plain": [
       "<matplotlib.axes._subplots.AxesSubplot at 0x7f691c0ad090>"
      ]
     },
     "execution_count": 21,
     "metadata": {},
     "output_type": "execute_result"
    },
    {
     "data": {
      "image/png": "[encoded data removed]",
      "text/plain": [
       "<Figure size 432x288 with 1 Axes>"
      ]
     },
     "metadata": {
      "needs_background": "light"
     },
     "output_type": "display_data"
    }
   ],
   "source": [
    "data.boxplot('Price')"
   ]
  },
  {
   "cell_type": "code",
   "execution_count": 22,
   "metadata": {},
   "outputs": [
    {
     "data": {
      "text/plain": [
       "<matplotlib.axes._subplots.AxesSubplot at 0x7f691c0bcd10>"
      ]
     },
     "execution_count": 22,
     "metadata": {},
     "output_type": "execute_result"
    },
    {
     "data": {
      "image/png": "[encoded data removed]",
      "text/plain": [
       "<Figure size 432x288 with 1 Axes>"
      ]
     },
     "metadata": {
      "needs_background": "light"
     },
     "output_type": "display_data"
    }
   ],
   "source": [
    "data.boxplot('RegistrationMonth')"
   ]
  },
  {
   "cell_type": "markdown",
   "metadata": {},
   "source": [
    "<font color='blue'>Уменьшили разброс данных. Если уменьшать их еще больше, то данных совсем не останется с учетом удаления пропусков.У меня удалось полностью убрать выбросы, но дамми перестают работать...кошмар какой-то(: Поэтому так ¯\\_(ツ)_/¯"
   ]
  },
  {
   "cell_type": "markdown",
   "metadata": {},
   "source": [
    "<div class=\"alert alert-info\"> \n",
    "<b>Сделии предобработку данных:</b>\n",
    "    \n",
    "- перевели столбец с датой в нужный формат. \n",
    "\n",
    "- имеются дубликаты- от них избавляемся.\n",
    "    \n",
    "- заполнили пропуски в колонке 'NotRepaired' на 'no', предполагая, что машина не была в ремонте;\n",
    "    \n",
    "- избавились от аномальных значений;\n",
    "</div>\n"
   ]
  },
  {
   "cell_type": "markdown",
   "metadata": {},
   "source": [
    "<div class=\"alert alert-info\"> \n",
    "Колонки VehicleType,Gearbox,FuelType,Model имеют много пропусков, но судя по метрике их по сути не так уж и много, все входят в диапозон до 0.5(или 10%) - можно удалять и не жалеть.\n",
    "</div>"
   ]
  },
  {
   "cell_type": "markdown",
   "metadata": {},
   "source": [
    "<div class=\"alert alert-info\"> \n",
    "Изначально я заменил все пропуски на 'unknown', но изза этого я не смог перевести категорийные данные в дамми...очень много способов перепробовал. Единсвенное подошло закинуть весь датафрейм в дамми, но потом не смог обучать модель.\n",
    "    \n",
    "    Что имею по итогу, удалил пропуски - смог перекинуть все, что хотел в дамми и плюс ко всему увеличилась точность моделей.\n",
    "</div>"
   ]
  },
  {
   "cell_type": "markdown",
   "metadata": {},
   "source": [
    "## Обучение моделей"
   ]
  },
  {
   "cell_type": "code",
   "execution_count": 23,
   "metadata": {},
   "outputs": [],
   "source": [
    "#data=pd.get_dummies(data)\n"
   ]
  },
  {
   "cell_type": "code",
   "execution_count": 24,
   "metadata": {},
   "outputs": [],
   "source": [
    "d_ohe=pd.get_dummies(data['VehicleType'])\n",
    "d_ohe1=pd.get_dummies(data['Gearbox'])\n",
    "d_ohe2=pd.get_dummies(data['Brand'])\n",
    "d_ohe3=pd.get_dummies(data['NotRepaired'])\n",
    "d_ohe4=pd.get_dummies(data['FuelType'])\n",
    "df1=d_ohe.join(d_ohe1.drop('auto', axis=1)).join(d_ohe2).join(d_ohe4.drop('other', axis=1))\n",
    "df1['Repaired']=d_ohe3['no']\n",
    "df1['DateCrawled']=data['DateCrawled']\n",
    "df2=data.merge(df1, on='DateCrawled')"
   ]
  },
  {
   "cell_type": "markdown",
   "metadata": {},
   "source": [
    "<font color='blue'>Перевели категорийные данные в дамми "
   ]
  },
  {
   "cell_type": "code",
   "execution_count": 25,
   "metadata": {},
   "outputs": [
    {
     "data": {
      "text/html": [
       "<div>\n",
       "<style scoped>\n",
       "    .dataframe tbody tr th:only-of-type {\n",
       "        vertical-align: middle;\n",
       "    }\n",
       "\n",
       "    .dataframe tbody tr th {\n",
       "        vertical-align: top;\n",
       "    }\n",
       "\n",
       "    .dataframe thead th {\n",
       "        text-align: right;\n",
       "    }\n",
       "</style>\n",
       "<table border=\"1\" class=\"dataframe\">\n",
       "  <thead>\n",
       "    <tr style=\"text-align: right;\">\n",
       "      <th></th>\n",
       "      <th>DateCrawled</th>\n",
       "      <th>Price</th>\n",
       "      <th>VehicleType</th>\n",
       "      <th>RegistrationYear</th>\n",
       "      <th>Gearbox</th>\n",
       "      <th>Power</th>\n",
       "      <th>Model</th>\n",
       "      <th>Kilometer</th>\n",
       "      <th>RegistrationMonth</th>\n",
       "      <th>FuelType</th>\n",
       "      <th>...</th>\n",
       "      <th>trabant</th>\n",
       "      <th>volkswagen</th>\n",
       "      <th>volvo</th>\n",
       "      <th>cng</th>\n",
       "      <th>electric</th>\n",
       "      <th>gasoline</th>\n",
       "      <th>hybrid</th>\n",
       "      <th>lpg</th>\n",
       "      <th>petrol</th>\n",
       "      <th>Repaired</th>\n",
       "    </tr>\n",
       "  </thead>\n",
       "  <tbody>\n",
       "    <tr>\n",
       "      <td>0</td>\n",
       "      <td>2016-03-14 12:52:21</td>\n",
       "      <td>9800</td>\n",
       "      <td>suv</td>\n",
       "      <td>2004</td>\n",
       "      <td>auto</td>\n",
       "      <td>163</td>\n",
       "      <td>grand</td>\n",
       "      <td>125000</td>\n",
       "      <td>8</td>\n",
       "      <td>gasoline</td>\n",
       "      <td>...</td>\n",
       "      <td>0</td>\n",
       "      <td>0</td>\n",
       "      <td>0</td>\n",
       "      <td>0</td>\n",
       "      <td>0</td>\n",
       "      <td>1</td>\n",
       "      <td>0</td>\n",
       "      <td>0</td>\n",
       "      <td>0</td>\n",
       "      <td>1</td>\n",
       "    </tr>\n",
       "    <tr>\n",
       "      <td>1</td>\n",
       "      <td>2016-03-17 16:54:04</td>\n",
       "      <td>1500</td>\n",
       "      <td>small</td>\n",
       "      <td>2001</td>\n",
       "      <td>manual</td>\n",
       "      <td>75</td>\n",
       "      <td>golf</td>\n",
       "      <td>150000</td>\n",
       "      <td>6</td>\n",
       "      <td>petrol</td>\n",
       "      <td>...</td>\n",
       "      <td>0</td>\n",
       "      <td>1</td>\n",
       "      <td>0</td>\n",
       "      <td>0</td>\n",
       "      <td>0</td>\n",
       "      <td>0</td>\n",
       "      <td>0</td>\n",
       "      <td>0</td>\n",
       "      <td>1</td>\n",
       "      <td>1</td>\n",
       "    </tr>\n",
       "    <tr>\n",
       "      <td>2</td>\n",
       "      <td>2016-03-17 16:54:04</td>\n",
       "      <td>1500</td>\n",
       "      <td>small</td>\n",
       "      <td>2001</td>\n",
       "      <td>manual</td>\n",
       "      <td>75</td>\n",
       "      <td>golf</td>\n",
       "      <td>150000</td>\n",
       "      <td>6</td>\n",
       "      <td>petrol</td>\n",
       "      <td>...</td>\n",
       "      <td>0</td>\n",
       "      <td>0</td>\n",
       "      <td>0</td>\n",
       "      <td>0</td>\n",
       "      <td>0</td>\n",
       "      <td>1</td>\n",
       "      <td>0</td>\n",
       "      <td>0</td>\n",
       "      <td>0</td>\n",
       "      <td>1</td>\n",
       "    </tr>\n",
       "  </tbody>\n",
       "</table>\n",
       "<p>3 rows × 71 columns</p>\n",
       "</div>"
      ],
      "text/plain": [
       "          DateCrawled  Price VehicleType  RegistrationYear Gearbox  Power  \\\n",
       "0 2016-03-14 12:52:21   9800         suv              2004    auto    163   \n",
       "1 2016-03-17 16:54:04   1500       small              2001  manual     75   \n",
       "2 2016-03-17 16:54:04   1500       small              2001  manual     75   \n",
       "\n",
       "   Model  Kilometer  RegistrationMonth  FuelType  ... trabant volkswagen  \\\n",
       "0  grand     125000                  8  gasoline  ...       0          0   \n",
       "1   golf     150000                  6    petrol  ...       0          1   \n",
       "2   golf     150000                  6    petrol  ...       0          0   \n",
       "\n",
       "  volvo  cng  electric gasoline  hybrid  lpg  petrol  Repaired  \n",
       "0     0    0         0        1       0    0       0         1  \n",
       "1     0    0         0        0       0    0       1         1  \n",
       "2     0    0         0        1       0    0       0         1  \n",
       "\n",
       "[3 rows x 71 columns]"
      ]
     },
     "execution_count": 25,
     "metadata": {},
     "output_type": "execute_result"
    }
   ],
   "source": [
    "df2.head(3)"
   ]
  },
  {
   "cell_type": "code",
   "execution_count": 26,
   "metadata": {},
   "outputs": [
    {
     "name": "stdout",
     "output_type": "stream",
     "text": [
      "186809\n",
      "62270\n"
     ]
    }
   ],
   "source": [
    "data_train, data_test = train_test_split(df2, test_size=0.25, random_state=12345)\n",
    "train_features=data_train.drop(['DateCreated', 'Price', 'FuelType', 'RegistrationMonth', 'LastSeen', 'VehicleType', 'PostalCode', 'Brand', 'NotRepaired', 'Gearbox',  'Model', 'DateCrawled'], axis=1)\n",
    "train_target=data_train['Price']\n",
    "test_features=data_test.drop(['Price', 'DateCreated', 'FuelType', 'RegistrationMonth', 'LastSeen', 'VehicleType', 'PostalCode', 'Brand', 'NotRepaired', 'Gearbox',  'Model', 'DateCrawled'], axis=1)\n",
    "test_target=data_test['Price']\n",
    "scaler = StandardScaler()\n",
    "scaler.fit(train_features)\n",
    "train_features = scaler.transform(train_features)\n",
    "test_features = scaler.transform(test_features)\n",
    "print(len(data_train))\n",
    "print(len(data_test))"
   ]
  },
  {
   "cell_type": "markdown",
   "metadata": {},
   "source": [
    "<font color='blue'>Разбили данные на таргеты и фичи "
   ]
  },
  {
   "cell_type": "code",
   "execution_count": 27,
   "metadata": {},
   "outputs": [],
   "source": [
    "def hq (model):\n",
    "    test_predict=model.predict(test_features)\n",
    "    mse=mean_squared_error(test_target, test_predict)\n",
    "    rmse=mse**0.5\n",
    "    print(\"Точность модели\", model.score(test_features, test_target))\n",
    "    print('RMSE модели:', rmse)"
   ]
  },
  {
   "cell_type": "code",
   "execution_count": 28,
   "metadata": {},
   "outputs": [
    {
     "name": "stdout",
     "output_type": "stream",
     "text": [
      "intercept: 6118.495870827377\n",
      "slope: [ 1.95095311e+03  4.47160761e+02 -1.37552034e+03  2.56750771e+18\n",
      "  1.34371404e+16  1.15834072e+16  9.71718811e+15  3.52286384e+15\n",
      "  1.99893814e+16  1.72058360e+16  9.07666525e+15  1.79663501e+16\n",
      " -4.74107750e+02  4.64655694e+15  1.70654484e+16  1.87608379e+16\n",
      "  4.28197961e+15  3.60454253e+15  6.74815354e+15  3.39042054e+15\n",
      "  1.67048598e+15  2.12227356e+15  8.22726664e+15  1.36765032e+16\n",
      "  4.95292537e+15  6.19751175e+15  2.53438389e+15  2.78131815e+15\n",
      "  5.12071779e+15  1.35564760e+15  1.63908972e+15  2.52071146e+15\n",
      "  7.00158050e+15  1.76753308e+16  6.59522753e+15  4.64471492e+15\n",
      "  6.41874363e+15  1.64414890e+16  9.89925793e+15  2.97615906e+15\n",
      "  1.09284362e+16  1.43632340e+15  2.26803547e+15  7.72734739e+15\n",
      "  8.16850065e+15  6.43189443e+15  2.40492628e+15  4.66676994e+15\n",
      "  7.22240743e+15  2.29552537e-02  2.32444538e+16  5.44499162e+15\n",
      "  1.46945414e+01  1.00332227e+01  6.37258296e+02  5.69468971e+01\n",
      "  2.79790465e+01  2.35031684e+02  3.49070082e+02]\n",
      "Точность модели -2.4268530588022756e+21\n",
      "RMSE модели: 228126947863042.62\n",
      "None\n"
     ]
    }
   ],
   "source": [
    "model_lr = LinearRegression(copy_X=True, fit_intercept=True, normalize=True)\n",
    "model_lr.fit(train_features, train_target)\n",
    "print('intercept:', model_lr.intercept_)\n",
    "print('slope:', model_lr.coef_)\n",
    "print(hq(model_lr))"
   ]
  },
  {
   "cell_type": "code",
   "execution_count": 29,
   "metadata": {},
   "outputs": [
    {
     "name": "stdout",
     "output_type": "stream",
     "text": [
      "CPU times: user 1.88 s, sys: 555 ms, total: 2.44 s\n",
      "Wall time: 2.49 s\n"
     ]
    },
    {
     "data": {
      "text/plain": [
       "LinearRegression(copy_X=True, fit_intercept=True, n_jobs=None, normalize=False)"
      ]
     },
     "execution_count": 29,
     "metadata": {},
     "output_type": "execute_result"
    }
   ],
   "source": [
    "%%time\n",
    "model_lr = LinearRegression()\n",
    "model_lr.fit(train_features, train_target)"
   ]
  },
  {
   "cell_type": "code",
   "execution_count": 30,
   "metadata": {},
   "outputs": [
    {
     "name": "stdout",
     "output_type": "stream",
     "text": [
      "Линейная регрессия\n",
      "\n",
      "Точность модели -6.910663230813366e+17\n",
      "RMSE модели: 3849592097019.406\n",
      "None\n",
      "\n",
      "CPU times: user 59.6 ms, sys: 52.6 ms, total: 112 ms\n",
      "Wall time: 100 ms\n"
     ]
    }
   ],
   "source": [
    "%%time\n",
    "print('Линейная регрессия')\n",
    "print()\n",
    "print(hq(model_lr))\n",
    "print()"
   ]
  },
  {
   "cell_type": "code",
   "execution_count": 31,
   "metadata": {},
   "outputs": [
    {
     "name": "stdout",
     "output_type": "stream",
     "text": [
      "0:\tlearn: 2825.5555823\ttotal: 138ms\tremaining: 1.93s\n",
      "1:\tlearn: 2585.4945389\ttotal: 236ms\tremaining: 1.54s\n",
      "2:\tlearn: 2466.9560602\ttotal: 247ms\tremaining: 988ms\n",
      "3:\tlearn: 2418.4513811\ttotal: 345ms\tremaining: 948ms\n",
      "4:\tlearn: 2338.1948457\ttotal: 442ms\tremaining: 883ms\n",
      "5:\tlearn: 2292.1691390\ttotal: 542ms\tremaining: 812ms\n",
      "6:\tlearn: 2261.8727878\ttotal: 639ms\tremaining: 730ms\n",
      "7:\tlearn: 2228.1128527\ttotal: 738ms\tremaining: 646ms\n",
      "8:\tlearn: 2202.4730236\ttotal: 836ms\tremaining: 557ms\n",
      "9:\tlearn: 2181.4764164\ttotal: 936ms\tremaining: 468ms\n",
      "10:\tlearn: 2168.1564160\ttotal: 1.03s\tremaining: 376ms\n",
      "11:\tlearn: 2155.2326487\ttotal: 1.13s\tremaining: 283ms\n",
      "12:\tlearn: 2142.6708735\ttotal: 1.23s\tremaining: 189ms\n",
      "13:\tlearn: 2134.3019317\ttotal: 1.33s\tremaining: 94.9ms\n",
      "14:\tlearn: 2128.3556081\ttotal: 1.34s\tremaining: 0us\n",
      "CPU times: user 1.98 s, sys: 317 ms, total: 2.3 s\n",
      "Wall time: 3.38 s\n"
     ]
    },
    {
     "data": {
      "text/plain": [
       "<catboost.core.CatBoostRegressor at 0x7f691c0b3d90>"
      ]
     },
     "execution_count": 31,
     "metadata": {},
     "output_type": "execute_result"
    }
   ],
   "source": [
    "%%time\n",
    "model_cat=CatBoostRegressor(iterations=15,learning_rate=1,depth=5, random_seed=12345)\n",
    "model_cat.fit(train_features, train_target)"
   ]
  },
  {
   "cell_type": "code",
   "execution_count": 32,
   "metadata": {},
   "outputs": [
    {
     "name": "stdout",
     "output_type": "stream",
     "text": [
      "\n",
      "CatBoost\n",
      "\n",
      "Точность модели 0.7881791813639059\n",
      "RMSE модели: 2131.273428252577\n",
      "None\n",
      "\n",
      "CPU times: user 38.7 ms, sys: 5.88 ms, total: 44.6 ms\n",
      "Wall time: 31.1 ms\n"
     ]
    }
   ],
   "source": [
    "%%time\n",
    "print()\n",
    "print('CatBoost')\n",
    "print()\n",
    "print(hq(model_cat))\n",
    "print()"
   ]
  },
  {
   "cell_type": "code",
   "execution_count": 33,
   "metadata": {},
   "outputs": [
    {
     "name": "stdout",
     "output_type": "stream",
     "text": [
      "CPU times: user 1.41 s, sys: 7.78 ms, total: 1.42 s\n",
      "Wall time: 1.43 s\n"
     ]
    },
    {
     "data": {
      "text/plain": [
       "SGDRegressor(alpha=0.5, average=False, early_stopping=False, epsilon=0.1,\n",
       "             eta0=0.01, fit_intercept=True, l1_ratio=0.15,\n",
       "             learning_rate='invscaling', loss='squared_loss', max_iter=193581,\n",
       "             n_iter_no_change=5, penalty='l2', power_t=0.25, random_state=12345,\n",
       "             shuffle=True, tol=0.001, validation_fraction=0.1, verbose=0,\n",
       "             warm_start=False)"
      ]
     },
     "execution_count": 33,
     "metadata": {},
     "output_type": "execute_result"
    }
   ],
   "source": [
    "%%time\n",
    "model_sgd = SGDRegressor(alpha= 0.5, max_iter = len(data), random_state=12345)\n",
    "model_sgd.fit(train_features, train_target)"
   ]
  },
  {
   "cell_type": "code",
   "execution_count": 34,
   "metadata": {},
   "outputs": [
    {
     "name": "stdout",
     "output_type": "stream",
     "text": [
      "SGD\n",
      "\n",
      "Точность модели 0.44420115132965104\n",
      "RMSE модели: 3452.340878764941\n",
      "None\n",
      "\n",
      "CPU times: user 54.4 ms, sys: 44.8 ms, total: 99.3 ms\n",
      "Wall time: 45.2 ms\n"
     ]
    }
   ],
   "source": [
    "%%time\n",
    "print('SGD')\n",
    "print()\n",
    "print(hq(model_sgd))\n",
    "print()"
   ]
  },
  {
   "cell_type": "code",
   "execution_count": 35,
   "metadata": {},
   "outputs": [
    {
     "name": "stdout",
     "output_type": "stream",
     "text": [
      "CPU times: user 9.57 s, sys: 74.9 ms, total: 9.65 s\n",
      "Wall time: 9.8 s\n"
     ]
    },
    {
     "data": {
      "text/plain": [
       "LGBMRegressor(boosting_type='gbdt', class_weight=None, colsample_bytree=1.0,\n",
       "              importance_type='split', learning_rate=0.1, max_depth=5,\n",
       "              min_child_samples=20, min_child_weight=0.001, min_split_gain=0.0,\n",
       "              n_estimators=100, n_jobs=-1, num_leaves=31, objective=None,\n",
       "              random_state=12345, reg_alpha=0.0, reg_lambda=0.0, silent=True,\n",
       "              subsample=1.0, subsample_for_bin=200000, subsample_freq=0)"
      ]
     },
     "execution_count": 35,
     "metadata": {},
     "output_type": "execute_result"
    }
   ],
   "source": [
    "%%time\n",
    "model_LGBM = lgb.LGBMRegressor(n_estimators=100, max_depth=5, boosting_type = 'gbdt', random_state=12345)\n",
    "model_LGBM.fit(train_features, train_target)"
   ]
  },
  {
   "cell_type": "code",
   "execution_count": 36,
   "metadata": {},
   "outputs": [
    {
     "name": "stdout",
     "output_type": "stream",
     "text": [
      "\n",
      "LGBM\n",
      "\n",
      "Точность модели 0.8168605647634335\n",
      "RMSE модели: 1981.73593525288\n",
      "None\n",
      "\n",
      "CPU times: user 870 ms, sys: 22 ms, total: 892 ms\n",
      "Wall time: 891 ms\n"
     ]
    }
   ],
   "source": [
    "%%time\n",
    "print()\n",
    "print('LGBM')\n",
    "print()\n",
    "print(hq(model_LGBM))\n",
    "print()"
   ]
  },
  {
   "cell_type": "code",
   "execution_count": 37,
   "metadata": {},
   "outputs": [
    {
     "name": "stdout",
     "output_type": "stream",
     "text": [
      "Лучшие гиперпараметры:  {'copy_X': True, 'fit_intercept': False, 'normalize': True}\n"
     ]
    },
    {
     "data": {
      "text/plain": [
       "{'copy_X': True, 'fit_intercept': False, 'normalize': True}"
      ]
     },
     "execution_count": 37,
     "metadata": {},
     "output_type": "execute_result"
    }
   ],
   "source": [
    "from sklearn.metrics import make_scorer\n",
    "train_features=data_train.drop(['DateCreated', 'Price', 'FuelType', 'RegistrationMonth', 'LastSeen', 'VehicleType', 'PostalCode', 'Brand', 'NotRepaired', 'Gearbox',  'Model', 'DateCrawled'], axis=1)\n",
    "train_target=data_train['Price']\n",
    "def lr_gridsearchcv(features, target):\n",
    "    model_lr = LinearRegression()\n",
    "    param_grid = {\n",
    "        'copy_X':[True, False],\n",
    "        'fit_intercept' : [True, False],\n",
    "        'normalize':[True,False]\n",
    "    }\n",
    "    \n",
    "    \n",
    "    \n",
    "    CV = GridSearchCV(estimator = model_lr, param_grid = param_grid, cv=5)\n",
    "    CV.fit(features, target)\n",
    "    print('Лучшие гиперпараметры: ', CV.best_params_)\n",
    "    return CV.best_params_ \n",
    "\n",
    "lr_gridsearchcv(train_features, train_target)"
   ]
  },
  {
   "cell_type": "markdown",
   "metadata": {},
   "source": [
    "<font color='blue'>Определил лучшие гиперпараметры для линейной регрессии"
   ]
  },
  {
   "cell_type": "code",
   "execution_count": 38,
   "metadata": {},
   "outputs": [
    {
     "name": "stdout",
     "output_type": "stream",
     "text": [
      "186809\n",
      "62270\n"
     ]
    }
   ],
   "source": [
    "data_train, data_test = train_test_split(df2, test_size=0.25, random_state=12345)\n",
    "print(len(data_train))\n",
    "print(len(data_test))\n",
    "train_features=data_train.drop(['DateCreated', 'Price',  'RegistrationMonth', 'LastSeen',  'PostalCode', 'Brand',  'Model', 'DateCrawled'], axis=1)\n",
    "train_target=data_train['Price']\n",
    "test_features=data_test.drop(['DateCreated', 'Price',  'RegistrationMonth', 'LastSeen',  'PostalCode', 'Brand',  'Model', 'DateCrawled'], axis=1)\n",
    "test_target=data_test['Price']\n",
    "category=['VehicleType', 'Gearbox', 'FuelType', 'NotRepaired']\n",
    "train_features[category] = train_features[category].astype('category')\n",
    "test_features[category] = test_features[category].astype('category')"
   ]
  },
  {
   "cell_type": "code",
   "execution_count": 39,
   "metadata": {},
   "outputs": [
    {
     "name": "stdout",
     "output_type": "stream",
     "text": [
      "0:\tlearn: 2818.4955062\ttotal: 65.6ms\tremaining: 918ms\n",
      "1:\tlearn: 2573.5099607\ttotal: 252ms\tremaining: 1.64s\n",
      "2:\tlearn: 2442.8164410\ttotal: 356ms\tremaining: 1.42s\n",
      "3:\tlearn: 2378.0971600\ttotal: 547ms\tremaining: 1.5s\n",
      "4:\tlearn: 2303.5142244\ttotal: 655ms\tremaining: 1.31s\n",
      "5:\tlearn: 2260.8451267\ttotal: 846ms\tremaining: 1.27s\n",
      "6:\tlearn: 2214.0379140\ttotal: 950ms\tremaining: 1.08s\n",
      "7:\tlearn: 2185.8275875\ttotal: 1.05s\tremaining: 921ms\n",
      "8:\tlearn: 2150.1353984\ttotal: 1.25s\tremaining: 831ms\n",
      "9:\tlearn: 2132.3161938\ttotal: 1.36s\tremaining: 678ms\n",
      "10:\tlearn: 2118.7394476\ttotal: 1.54s\tremaining: 562ms\n",
      "11:\tlearn: 2103.6119438\ttotal: 1.65s\tremaining: 413ms\n",
      "12:\tlearn: 2089.3819386\ttotal: 1.84s\tremaining: 283ms\n",
      "13:\tlearn: 2072.6873429\ttotal: 1.95s\tremaining: 139ms\n",
      "14:\tlearn: 2058.5449413\ttotal: 2.14s\tremaining: 0us\n",
      "Точность модели 0.8015140443227042\n",
      "RMSE модели: 2063.0974423767752\n"
     ]
    }
   ],
   "source": [
    "model_cat=CatBoostRegressor(iterations=15,\n",
    "                          learning_rate=1,\n",
    "                          depth=5, random_seed=12345, cat_features = category)\n",
    "model_cat.fit(train_features, train_target)\n",
    "hq(model_cat)"
   ]
  },
  {
   "cell_type": "code",
   "execution_count": 40,
   "metadata": {},
   "outputs": [
    {
     "name": "stdout",
     "output_type": "stream",
     "text": [
      "Точность модели 0.831589565172024\n",
      "RMSE модели: 1900.3751724043846\n"
     ]
    }
   ],
   "source": [
    "model_gbm = lgb.LGBMRegressor(n_estimators=100, max_depth=5, boosting_type = 'gbdt', random_state=12345, \n",
    "                              cat_features = category)\n",
    "model_gbm.fit(train_features, train_target)\n",
    "hq(model_gbm)"
   ]
  },
  {
   "cell_type": "markdown",
   "metadata": {},
   "source": [
    "## Анализ моделей"
   ]
  },
  {
   "cell_type": "markdown",
   "metadata": {},
   "source": [
    "<div class=\"alert alert-info\"> \n",
    "Что можно сказать по поводу всего этого. Очень не понятен мне момент с линейной регрессией, ведет себя очень хаотично, улучшил точность до 0.44, как только стал избавляться от выбросов - откатила аж меньше нуля, не будем ее использовать.\n",
    "\n",
    "Лучше всех себя показала модель CatBoostRegressor со временем cpu = 1.88, точностью = 0.78 и rmse=2131\n",
    "\n",
    "SGD оказался среднячком с плюс/минус таким же временем как у cat, но страдает точность - 0.44\n",
    "\n",
    "Ну и наш аутсайдер по времени  - это LGBM, его время обработки составило более 2х минут, и это не предел, бывало до 5 минут доходило. Но зато лучшая точность, тут уже нужно выбирать, что мы хотим точность и быстродействие!\n",
    "<\\div> "
   ]
  },
  {
   "cell_type": "markdown",
   "metadata": {},
   "source": [
    "<div class=\"alert alert-info\"> \n",
    "После преобразований в категории Cat по прежнему остается лучшим!\n"
   ]
  },
  {
   "cell_type": "code",
   "execution_count": null,
   "metadata": {},
   "outputs": [],
   "source": []
  }
 ],
 "metadata": {
  "ExecuteTimeLog": [
   {
    "duration": 1496,
    "start_time": "2021-09-20T14:10:33.234Z"
   },
   {
    "duration": 4,
    "start_time": "2021-09-20T14:10:40.245Z"
   },
   {
    "duration": 1100,
    "start_time": "2021-09-20T14:10:58.390Z"
   },
   {
    "duration": 1125,
    "start_time": "2021-09-20T14:11:43.974Z"
   },
   {
    "duration": 1061,
    "start_time": "2021-09-20T14:11:56.631Z"
   },
   {
    "duration": 6731,
    "start_time": "2021-09-20T19:31:44.485Z"
   },
   {
    "duration": 1046,
    "start_time": "2021-09-20T20:17:49.430Z"
   },
   {
    "duration": 772,
    "start_time": "2021-09-20T20:18:33.454Z"
   },
   {
    "duration": 730,
    "start_time": "2021-09-20T20:19:51.758Z"
   },
   {
    "duration": 760,
    "start_time": "2021-09-20T20:20:17.901Z"
   },
   {
    "duration": 767,
    "start_time": "2021-09-20T20:20:23.292Z"
   },
   {
    "duration": 782,
    "start_time": "2021-09-20T20:20:38.147Z"
   },
   {
    "duration": 1646,
    "start_time": "2021-09-20T20:20:59.530Z"
   },
   {
    "duration": 4,
    "start_time": "2021-09-20T20:21:01.179Z"
   },
   {
    "duration": 1337,
    "start_time": "2021-09-20T20:21:01.186Z"
   },
   {
    "duration": 1145,
    "start_time": "2021-09-20T20:21:02.525Z"
   },
   {
    "duration": 786,
    "start_time": "2021-09-20T20:21:03.673Z"
   },
   {
    "duration": 175,
    "start_time": "2021-09-20T20:21:04.463Z"
   },
   {
    "duration": 2657,
    "start_time": "2021-09-20T21:20:12.878Z"
   },
   {
    "duration": 36,
    "start_time": "2021-09-20T21:21:13.503Z"
   },
   {
    "duration": 3906,
    "start_time": "2021-09-20T21:21:17.740Z"
   },
   {
    "duration": 63,
    "start_time": "2021-09-20T21:21:46.677Z"
   },
   {
    "duration": 60,
    "start_time": "2021-09-20T21:22:11.739Z"
   },
   {
    "duration": 48,
    "start_time": "2021-09-20T21:22:22.422Z"
   },
   {
    "duration": 1765,
    "start_time": "2021-09-20T21:22:26.974Z"
   },
   {
    "duration": 4,
    "start_time": "2021-09-20T21:22:28.743Z"
   },
   {
    "duration": 1377,
    "start_time": "2021-09-20T21:22:28.756Z"
   },
   {
    "duration": 1337,
    "start_time": "2021-09-20T21:22:30.136Z"
   },
   {
    "duration": 910,
    "start_time": "2021-09-20T21:22:31.475Z"
   },
   {
    "duration": 359,
    "start_time": "2021-09-20T21:22:32.388Z"
   },
   {
    "duration": 993,
    "start_time": "2021-09-20T21:23:11.856Z"
   },
   {
    "duration": 643,
    "start_time": "2021-09-20T21:23:30.656Z"
   },
   {
    "duration": 43,
    "start_time": "2021-09-20T21:23:34.872Z"
   },
   {
    "duration": 52,
    "start_time": "2021-09-20T21:23:42.649Z"
   },
   {
    "duration": 1482,
    "start_time": "2021-09-20T21:23:47.733Z"
   },
   {
    "duration": 4,
    "start_time": "2021-09-20T21:23:49.218Z"
   },
   {
    "duration": 1303,
    "start_time": "2021-09-20T21:23:49.225Z"
   },
   {
    "duration": 1090,
    "start_time": "2021-09-20T21:23:50.531Z"
   },
   {
    "duration": 754,
    "start_time": "2021-09-20T21:23:51.624Z"
   },
   {
    "duration": 46,
    "start_time": "2021-09-20T21:23:52.383Z"
   },
   {
    "duration": 212,
    "start_time": "2021-09-20T21:23:52.431Z"
   },
   {
    "duration": 1547,
    "start_time": "2021-09-20T21:24:03.542Z"
   },
   {
    "duration": 4,
    "start_time": "2021-09-20T21:24:05.093Z"
   },
   {
    "duration": 1337,
    "start_time": "2021-09-20T21:24:05.106Z"
   },
   {
    "duration": 1279,
    "start_time": "2021-09-20T21:24:06.445Z"
   },
   {
    "duration": 894,
    "start_time": "2021-09-20T21:24:07.727Z"
   },
   {
    "duration": 58,
    "start_time": "2021-09-20T21:24:08.624Z"
   },
   {
    "duration": 1829,
    "start_time": "2021-09-20T21:24:08.685Z"
   },
   {
    "duration": 65,
    "start_time": "2021-09-20T21:27:31.888Z"
   },
   {
    "duration": 44,
    "start_time": "2021-09-20T21:27:39.516Z"
   },
   {
    "duration": 341,
    "start_time": "2021-09-20T21:27:42.966Z"
   },
   {
    "duration": 2493,
    "start_time": "2021-09-20T21:27:52.326Z"
   },
   {
    "duration": 2488,
    "start_time": "2021-09-20T21:28:18.367Z"
   },
   {
    "duration": 1488,
    "start_time": "2021-09-20T21:28:39.174Z"
   },
   {
    "duration": 13,
    "start_time": "2021-09-20T21:32:16.512Z"
   },
   {
    "duration": 37,
    "start_time": "2021-09-20T21:32:30.797Z"
   },
   {
    "duration": 1592,
    "start_time": "2021-09-20T21:32:48.090Z"
   },
   {
    "duration": 5,
    "start_time": "2021-09-20T21:32:49.686Z"
   },
   {
    "duration": 1249,
    "start_time": "2021-09-20T21:32:49.700Z"
   },
   {
    "duration": 1211,
    "start_time": "2021-09-20T21:32:50.952Z"
   },
   {
    "duration": 885,
    "start_time": "2021-09-20T21:32:52.165Z"
   },
   {
    "duration": 70,
    "start_time": "2021-09-20T21:32:53.052Z"
   },
   {
    "duration": 262,
    "start_time": "2021-09-20T21:32:53.125Z"
   },
   {
    "duration": 1768,
    "start_time": "2021-09-20T21:32:53.390Z"
   },
   {
    "duration": 376,
    "start_time": "2021-09-20T21:33:18.432Z"
   },
   {
    "duration": 44,
    "start_time": "2021-09-20T21:33:35.215Z"
   },
   {
    "duration": 64,
    "start_time": "2021-09-20T21:33:51.159Z"
   },
   {
    "duration": 49,
    "start_time": "2021-09-20T21:33:51.512Z"
   },
   {
    "duration": 47,
    "start_time": "2021-09-20T21:34:04.895Z"
   },
   {
    "duration": 46,
    "start_time": "2021-09-20T21:38:20.566Z"
   },
   {
    "duration": 28,
    "start_time": "2021-09-20T21:38:28.476Z"
   },
   {
    "duration": 26,
    "start_time": "2021-09-20T21:38:48.645Z"
   },
   {
    "duration": 152,
    "start_time": "2021-09-20T21:38:49.548Z"
   },
   {
    "duration": 509,
    "start_time": "2021-09-20T21:39:34.277Z"
   },
   {
    "duration": 740,
    "start_time": "2021-09-20T21:39:40.772Z"
   },
   {
    "duration": 119,
    "start_time": "2021-09-20T21:39:50.108Z"
   },
   {
    "duration": 142,
    "start_time": "2021-09-20T21:39:51.404Z"
   },
   {
    "duration": 133,
    "start_time": "2021-09-20T21:41:44.499Z"
   },
   {
    "duration": 450,
    "start_time": "2021-09-20T21:42:25.988Z"
   },
   {
    "duration": 46,
    "start_time": "2021-09-20T21:44:36.961Z"
   },
   {
    "duration": 45,
    "start_time": "2021-09-20T21:44:44.817Z"
   },
   {
    "duration": 1536,
    "start_time": "2021-09-20T22:10:24.881Z"
   },
   {
    "duration": 4,
    "start_time": "2021-09-20T22:10:26.420Z"
   },
   {
    "duration": 1143,
    "start_time": "2021-09-20T22:10:26.427Z"
   },
   {
    "duration": 1101,
    "start_time": "2021-09-20T22:10:27.573Z"
   },
   {
    "duration": 783,
    "start_time": "2021-09-20T22:10:28.676Z"
   },
   {
    "duration": 70,
    "start_time": "2021-09-20T22:10:29.461Z"
   },
   {
    "duration": 192,
    "start_time": "2021-09-20T22:10:29.533Z"
   },
   {
    "duration": 3,
    "start_time": "2021-09-20T22:10:29.727Z"
   },
   {
    "duration": 13,
    "start_time": "2021-09-20T22:10:29.733Z"
   },
   {
    "duration": 12,
    "start_time": "2021-09-20T22:10:29.748Z"
   },
   {
    "duration": 168,
    "start_time": "2021-09-20T22:10:29.762Z"
   },
   {
    "duration": 47,
    "start_time": "2021-09-20T22:11:05.154Z"
   },
   {
    "duration": 1745,
    "start_time": "2021-09-20T22:11:15.406Z"
   },
   {
    "duration": 252,
    "start_time": "2021-09-20T22:12:16.525Z"
   },
   {
    "duration": 5231,
    "start_time": "2021-09-20T22:12:20.156Z"
   },
   {
    "duration": -149,
    "start_time": "2021-09-20T22:12:25.540Z"
   },
   {
    "duration": 372,
    "start_time": "2021-09-20T22:14:39.988Z"
   },
   {
    "duration": 2413,
    "start_time": "2021-09-20T22:15:34.592Z"
   },
   {
    "duration": -145,
    "start_time": "2021-09-20T22:15:37.153Z"
   },
   {
    "duration": -145,
    "start_time": "2021-09-20T22:15:37.154Z"
   },
   {
    "duration": -146,
    "start_time": "2021-09-20T22:15:37.156Z"
   },
   {
    "duration": -145,
    "start_time": "2021-09-20T22:15:37.157Z"
   },
   {
    "duration": -145,
    "start_time": "2021-09-20T22:15:37.158Z"
   },
   {
    "duration": -145,
    "start_time": "2021-09-20T22:15:37.159Z"
   },
   {
    "duration": -146,
    "start_time": "2021-09-20T22:15:37.161Z"
   },
   {
    "duration": -148,
    "start_time": "2021-09-20T22:15:37.165Z"
   },
   {
    "duration": -149,
    "start_time": "2021-09-20T22:15:37.167Z"
   },
   {
    "duration": -150,
    "start_time": "2021-09-20T22:15:37.169Z"
   },
   {
    "duration": -152,
    "start_time": "2021-09-20T22:15:37.173Z"
   },
   {
    "duration": -152,
    "start_time": "2021-09-20T22:15:37.174Z"
   },
   {
    "duration": 5,
    "start_time": "2021-09-20T22:17:47.990Z"
   },
   {
    "duration": 4,
    "start_time": "2021-09-20T22:17:49.998Z"
   },
   {
    "duration": 4695,
    "start_time": "2021-09-20T22:17:50.933Z"
   },
   {
    "duration": 3281,
    "start_time": "2021-09-20T22:18:04.071Z"
   },
   {
    "duration": 3652,
    "start_time": "2021-09-20T22:18:23.482Z"
   },
   {
    "duration": 1568,
    "start_time": "2021-09-20T22:18:27.137Z"
   },
   {
    "duration": 3,
    "start_time": "2021-09-20T22:18:28.708Z"
   },
   {
    "duration": 1139,
    "start_time": "2021-09-20T22:18:28.714Z"
   },
   {
    "duration": 1146,
    "start_time": "2021-09-20T22:18:29.855Z"
   },
   {
    "duration": 815,
    "start_time": "2021-09-20T22:18:31.003Z"
   },
   {
    "duration": 79,
    "start_time": "2021-09-20T22:18:31.821Z"
   },
   {
    "duration": 183,
    "start_time": "2021-09-20T22:18:31.904Z"
   },
   {
    "duration": 45,
    "start_time": "2021-09-20T22:18:32.091Z"
   },
   {
    "duration": 16,
    "start_time": "2021-09-20T22:18:32.139Z"
   },
   {
    "duration": 13,
    "start_time": "2021-09-20T22:18:32.158Z"
   },
   {
    "duration": 147,
    "start_time": "2021-09-20T22:18:32.173Z"
   },
   {
    "duration": 1363,
    "start_time": "2021-09-20T22:18:32.323Z"
   },
   {
    "duration": 35,
    "start_time": "2021-09-20T22:18:33.689Z"
   },
   {
    "duration": 1455,
    "start_time": "2021-09-20T22:20:32.133Z"
   },
   {
    "duration": 1307,
    "start_time": "2021-09-20T22:20:52.380Z"
   },
   {
    "duration": 1513,
    "start_time": "2021-09-20T22:21:42.516Z"
   },
   {
    "duration": 585,
    "start_time": "2021-09-20T22:24:02.674Z"
   },
   {
    "duration": 1047,
    "start_time": "2021-09-20T22:24:23.922Z"
   },
   {
    "duration": 143,
    "start_time": "2021-09-20T22:27:16.073Z"
   },
   {
    "duration": 2688,
    "start_time": "2021-09-20T22:27:29.848Z"
   },
   {
    "duration": 2040,
    "start_time": "2021-09-20T22:28:05.111Z"
   },
   {
    "duration": 3214,
    "start_time": "2021-09-20T22:28:33.423Z"
   },
   {
    "duration": 1581,
    "start_time": "2021-09-20T22:28:36.641Z"
   },
   {
    "duration": 4,
    "start_time": "2021-09-20T22:28:38.224Z"
   },
   {
    "duration": 1153,
    "start_time": "2021-09-20T22:28:38.231Z"
   },
   {
    "duration": 2213,
    "start_time": "2021-09-20T22:28:39.387Z"
   },
   {
    "duration": 834,
    "start_time": "2021-09-20T22:28:41.602Z"
   },
   {
    "duration": 79,
    "start_time": "2021-09-20T22:28:42.438Z"
   },
   {
    "duration": 208,
    "start_time": "2021-09-20T22:28:42.520Z"
   },
   {
    "duration": 78,
    "start_time": "2021-09-20T22:28:42.732Z"
   },
   {
    "duration": 3,
    "start_time": "2021-09-20T22:28:42.814Z"
   },
   {
    "duration": 12,
    "start_time": "2021-09-20T22:28:42.820Z"
   },
   {
    "duration": 162,
    "start_time": "2021-09-20T22:28:42.835Z"
   },
   {
    "duration": 3,
    "start_time": "2021-09-20T22:28:42.999Z"
   },
   {
    "duration": 129,
    "start_time": "2021-09-20T22:56:26.305Z"
   },
   {
    "duration": 137,
    "start_time": "2021-09-20T22:56:27.786Z"
   },
   {
    "duration": 1013,
    "start_time": "2021-09-20T22:56:30.458Z"
   },
   {
    "duration": 1093,
    "start_time": "2021-09-20T22:56:48.611Z"
   },
   {
    "duration": 276,
    "start_time": "2021-09-21T11:23:36.844Z"
   },
   {
    "duration": 3361,
    "start_time": "2021-09-21T11:23:43.525Z"
   },
   {
    "duration": 2057,
    "start_time": "2021-09-21T11:23:46.888Z"
   },
   {
    "duration": 2,
    "start_time": "2021-09-21T11:23:48.952Z"
   },
   {
    "duration": 771,
    "start_time": "2021-09-21T11:23:48.956Z"
   },
   {
    "duration": 753,
    "start_time": "2021-09-21T11:23:49.729Z"
   },
   {
    "duration": 502,
    "start_time": "2021-09-21T11:23:50.483Z"
   },
   {
    "duration": 46,
    "start_time": "2021-09-21T11:23:50.987Z"
   },
   {
    "duration": 117,
    "start_time": "2021-09-21T11:23:51.035Z"
   },
   {
    "duration": 2,
    "start_time": "2021-09-21T11:23:51.154Z"
   },
   {
    "duration": 111,
    "start_time": "2021-09-21T11:23:51.158Z"
   },
   {
    "duration": 789,
    "start_time": "2021-09-21T11:23:51.270Z"
   },
   {
    "duration": 2,
    "start_time": "2021-09-21T11:23:52.061Z"
   },
   {
    "duration": 22,
    "start_time": "2021-09-21T11:23:52.064Z"
   },
   {
    "duration": 87,
    "start_time": "2021-09-21T11:24:26.602Z"
   },
   {
    "duration": 85,
    "start_time": "2021-09-21T11:24:53.777Z"
   },
   {
    "duration": 1408,
    "start_time": "2021-09-21T11:24:56.770Z"
   },
   {
    "duration": 64,
    "start_time": "2021-09-21T11:25:34.144Z"
   },
   {
    "duration": 1030,
    "start_time": "2021-09-21T11:25:34.657Z"
   },
   {
    "duration": 2227,
    "start_time": "2021-09-21T11:26:08.723Z"
   },
   {
    "duration": 1426,
    "start_time": "2021-09-21T11:26:10.953Z"
   },
   {
    "duration": 3,
    "start_time": "2021-09-21T11:26:12.381Z"
   },
   {
    "duration": 1164,
    "start_time": "2021-09-21T11:26:12.386Z"
   },
   {
    "duration": 1181,
    "start_time": "2021-09-21T11:26:13.552Z"
   },
   {
    "duration": 754,
    "start_time": "2021-09-21T11:26:14.735Z"
   },
   {
    "duration": 88,
    "start_time": "2021-09-21T11:26:15.491Z"
   },
   {
    "duration": 174,
    "start_time": "2021-09-21T11:26:15.582Z"
   },
   {
    "duration": 1138,
    "start_time": "2021-09-21T11:26:15.758Z"
   },
   {
    "duration": 4,
    "start_time": "2021-09-21T11:26:16.898Z"
   },
   {
    "duration": 77,
    "start_time": "2021-09-21T11:26:16.903Z"
   },
   {
    "duration": 1083,
    "start_time": "2021-09-21T11:26:16.982Z"
   },
   {
    "duration": 996,
    "start_time": "2021-09-21T11:27:57.486Z"
   },
   {
    "duration": 22,
    "start_time": "2021-09-21T11:28:00.182Z"
   },
   {
    "duration": 2071,
    "start_time": "2021-09-21T11:40:15.680Z"
   },
   {
    "duration": 2541,
    "start_time": "2021-09-21T11:40:17.753Z"
   },
   {
    "duration": 3,
    "start_time": "2021-09-21T11:40:20.296Z"
   },
   {
    "duration": 770,
    "start_time": "2021-09-21T11:40:20.301Z"
   },
   {
    "duration": 1184,
    "start_time": "2021-09-21T11:40:21.073Z"
   },
   {
    "duration": 774,
    "start_time": "2021-09-21T11:40:22.259Z"
   },
   {
    "duration": 85,
    "start_time": "2021-09-21T11:40:23.035Z"
   },
   {
    "duration": 173,
    "start_time": "2021-09-21T11:40:23.122Z"
   },
   {
    "duration": 1031,
    "start_time": "2021-09-21T11:40:23.299Z"
   },
   {
    "duration": 2,
    "start_time": "2021-09-21T11:40:24.333Z"
   },
   {
    "duration": 128,
    "start_time": "2021-09-21T11:40:24.337Z"
   },
   {
    "duration": 1275,
    "start_time": "2021-09-21T11:40:24.467Z"
   },
   {
    "duration": 381,
    "start_time": "2021-09-21T11:40:25.744Z"
   },
   {
    "duration": 236,
    "start_time": "2021-09-21T11:40:46.352Z"
   },
   {
    "duration": 202,
    "start_time": "2021-09-21T11:42:31.673Z"
   },
   {
    "duration": 197,
    "start_time": "2021-09-21T11:43:02.424Z"
   },
   {
    "duration": 185,
    "start_time": "2021-09-21T11:43:11.905Z"
   },
   {
    "duration": 4,
    "start_time": "2021-09-21T11:45:07.104Z"
   },
   {
    "duration": 5,
    "start_time": "2021-09-21T11:45:09.167Z"
   },
   {
    "duration": 266,
    "start_time": "2021-09-21T11:49:05.813Z"
   },
   {
    "duration": 286,
    "start_time": "2021-09-21T11:49:32.245Z"
   },
   {
    "duration": 44,
    "start_time": "2021-09-21T11:49:38.205Z"
   },
   {
    "duration": 45,
    "start_time": "2021-09-21T11:49:49.804Z"
   },
   {
    "duration": 34,
    "start_time": "2021-09-21T11:49:58.957Z"
   },
   {
    "duration": 347,
    "start_time": "2021-09-21T11:50:02.716Z"
   },
   {
    "duration": 25,
    "start_time": "2021-09-21T11:50:24.229Z"
   },
   {
    "duration": 31,
    "start_time": "2021-09-21T11:50:42.572Z"
   },
   {
    "duration": 32,
    "start_time": "2021-09-21T11:51:19.916Z"
   },
   {
    "duration": 32,
    "start_time": "2021-09-21T11:51:35.500Z"
   },
   {
    "duration": 34,
    "start_time": "2021-09-21T11:51:43.092Z"
   },
   {
    "duration": 34,
    "start_time": "2021-09-21T11:53:24.403Z"
   },
   {
    "duration": 77,
    "start_time": "2021-09-21T11:53:47.371Z"
   },
   {
    "duration": 38,
    "start_time": "2021-09-21T11:57:32.066Z"
   },
   {
    "duration": 56,
    "start_time": "2021-09-21T11:57:39.993Z"
   },
   {
    "duration": 99,
    "start_time": "2021-09-21T11:58:44.649Z"
   },
   {
    "duration": 177,
    "start_time": "2021-09-21T11:59:44.841Z"
   },
   {
    "duration": 2131,
    "start_time": "2021-09-21T12:00:01.924Z"
   },
   {
    "duration": 1185,
    "start_time": "2021-09-21T12:00:04.057Z"
   },
   {
    "duration": 2,
    "start_time": "2021-09-21T12:00:05.244Z"
   },
   {
    "duration": 837,
    "start_time": "2021-09-21T12:00:05.249Z"
   },
   {
    "duration": 808,
    "start_time": "2021-09-21T12:00:06.087Z"
   },
   {
    "duration": 569,
    "start_time": "2021-09-21T12:00:06.897Z"
   },
   {
    "duration": 49,
    "start_time": "2021-09-21T12:00:07.468Z"
   },
   {
    "duration": 129,
    "start_time": "2021-09-21T12:00:07.520Z"
   },
   {
    "duration": 713,
    "start_time": "2021-09-21T12:00:07.652Z"
   },
   {
    "duration": 2,
    "start_time": "2021-09-21T12:00:08.367Z"
   },
   {
    "duration": 78,
    "start_time": "2021-09-21T12:00:08.371Z"
   },
   {
    "duration": 1040,
    "start_time": "2021-09-21T12:00:08.451Z"
   },
   {
    "duration": 201,
    "start_time": "2021-09-21T12:00:09.493Z"
   },
   {
    "duration": 3,
    "start_time": "2021-09-21T12:00:09.696Z"
   },
   {
    "duration": 160,
    "start_time": "2021-09-21T12:00:09.700Z"
   },
   {
    "duration": 267,
    "start_time": "2021-09-21T12:00:09.862Z"
   },
   {
    "duration": 182,
    "start_time": "2021-09-21T12:00:23.335Z"
   },
   {
    "duration": 639,
    "start_time": "2021-09-21T12:00:38.959Z"
   },
   {
    "duration": 14800,
    "start_time": "2021-09-21T12:01:29.151Z"
   },
   {
    "duration": 3132,
    "start_time": "2021-09-21T12:02:06.591Z"
   },
   {
    "duration": 13185,
    "start_time": "2021-09-21T12:02:22.142Z"
   },
   {
    "duration": 3046,
    "start_time": "2021-09-21T12:02:41.902Z"
   },
   {
    "duration": 3059,
    "start_time": "2021-09-21T12:05:35.715Z"
   },
   {
    "duration": 3033,
    "start_time": "2021-09-21T12:06:06.924Z"
   },
   {
    "duration": 225,
    "start_time": "2021-09-21T12:06:35.228Z"
   },
   {
    "duration": 2536,
    "start_time": "2021-09-21T12:07:16.657Z"
   },
   {
    "duration": 1158,
    "start_time": "2021-09-21T12:07:19.195Z"
   },
   {
    "duration": 3,
    "start_time": "2021-09-21T12:07:20.355Z"
   },
   {
    "duration": 890,
    "start_time": "2021-09-21T12:07:20.360Z"
   },
   {
    "duration": 824,
    "start_time": "2021-09-21T12:07:21.252Z"
   },
   {
    "duration": 589,
    "start_time": "2021-09-21T12:07:22.078Z"
   },
   {
    "duration": 50,
    "start_time": "2021-09-21T12:07:22.668Z"
   },
   {
    "duration": 128,
    "start_time": "2021-09-21T12:07:22.721Z"
   },
   {
    "duration": 739,
    "start_time": "2021-09-21T12:07:22.851Z"
   },
   {
    "duration": 2,
    "start_time": "2021-09-21T12:07:23.592Z"
   },
   {
    "duration": 81,
    "start_time": "2021-09-21T12:07:23.596Z"
   },
   {
    "duration": 1098,
    "start_time": "2021-09-21T12:07:23.678Z"
   },
   {
    "duration": 197,
    "start_time": "2021-09-21T12:07:24.778Z"
   },
   {
    "duration": 3,
    "start_time": "2021-09-21T12:07:24.977Z"
   },
   {
    "duration": 169,
    "start_time": "2021-09-21T12:07:24.981Z"
   },
   {
    "duration": 3159,
    "start_time": "2021-09-21T12:07:25.152Z"
   },
   {
    "duration": 289,
    "start_time": "2021-09-21T12:07:28.313Z"
   },
   {
    "duration": 181,
    "start_time": "2021-09-21T12:07:38.780Z"
   },
   {
    "duration": 179,
    "start_time": "2021-09-21T12:07:50.989Z"
   },
   {
    "duration": 170,
    "start_time": "2021-09-21T12:08:12.789Z"
   },
   {
    "duration": 634,
    "start_time": "2021-09-21T12:08:18.933Z"
   },
   {
    "duration": 859,
    "start_time": "2021-09-21T12:13:46.129Z"
   },
   {
    "duration": 50461,
    "start_time": "2021-09-21T12:14:18.689Z"
   },
   {
    "duration": 1045,
    "start_time": "2021-09-21T12:24:35.444Z"
   },
   {
    "duration": 2795,
    "start_time": "2021-09-21T12:32:16.032Z"
   },
   {
    "duration": 1392,
    "start_time": "2021-09-21T12:32:18.830Z"
   },
   {
    "duration": 3,
    "start_time": "2021-09-21T12:32:20.225Z"
   },
   {
    "duration": 921,
    "start_time": "2021-09-21T12:32:20.230Z"
   },
   {
    "duration": 861,
    "start_time": "2021-09-21T12:32:21.153Z"
   },
   {
    "duration": 592,
    "start_time": "2021-09-21T12:32:22.016Z"
   },
   {
    "duration": 55,
    "start_time": "2021-09-21T12:32:22.610Z"
   },
   {
    "duration": 123,
    "start_time": "2021-09-21T12:32:22.668Z"
   },
   {
    "duration": 758,
    "start_time": "2021-09-21T12:32:22.794Z"
   },
   {
    "duration": 2,
    "start_time": "2021-09-21T12:32:23.553Z"
   },
   {
    "duration": 74,
    "start_time": "2021-09-21T12:32:23.557Z"
   },
   {
    "duration": 1028,
    "start_time": "2021-09-21T12:32:23.632Z"
   },
   {
    "duration": 193,
    "start_time": "2021-09-21T12:32:24.662Z"
   },
   {
    "duration": 3,
    "start_time": "2021-09-21T12:32:24.857Z"
   },
   {
    "duration": 93,
    "start_time": "2021-09-21T12:32:24.862Z"
   },
   {
    "duration": 3136,
    "start_time": "2021-09-21T12:32:24.958Z"
   },
   {
    "duration": 858,
    "start_time": "2021-09-21T12:32:28.097Z"
   },
   {
    "duration": 62129,
    "start_time": "2021-09-21T12:32:28.959Z"
   },
   {
    "duration": 265,
    "start_time": "2021-09-21T12:33:31.091Z"
   },
   {
    "duration": 2142,
    "start_time": "2021-09-21T12:36:05.058Z"
   },
   {
    "duration": 1195,
    "start_time": "2021-09-21T12:36:07.203Z"
   },
   {
    "duration": 3,
    "start_time": "2021-09-21T12:36:08.400Z"
   },
   {
    "duration": 869,
    "start_time": "2021-09-21T12:36:08.406Z"
   },
   {
    "duration": 831,
    "start_time": "2021-09-21T12:36:09.277Z"
   },
   {
    "duration": 585,
    "start_time": "2021-09-21T12:36:10.111Z"
   },
   {
    "duration": 60,
    "start_time": "2021-09-21T12:36:10.698Z"
   },
   {
    "duration": 120,
    "start_time": "2021-09-21T12:36:10.760Z"
   },
   {
    "duration": 774,
    "start_time": "2021-09-21T12:36:10.882Z"
   },
   {
    "duration": 3,
    "start_time": "2021-09-21T12:36:11.657Z"
   },
   {
    "duration": 73,
    "start_time": "2021-09-21T12:36:11.662Z"
   },
   {
    "duration": 1335,
    "start_time": "2021-09-21T12:36:11.749Z"
   },
   {
    "duration": 263,
    "start_time": "2021-09-21T12:36:13.087Z"
   },
   {
    "duration": 4,
    "start_time": "2021-09-21T12:36:13.352Z"
   },
   {
    "duration": 101,
    "start_time": "2021-09-21T12:36:13.358Z"
   },
   {
    "duration": 3132,
    "start_time": "2021-09-21T12:36:13.462Z"
   },
   {
    "duration": 655,
    "start_time": "2021-09-21T12:36:16.596Z"
   },
   {
    "duration": 117943,
    "start_time": "2021-09-21T12:36:17.253Z"
   },
   {
    "duration": 544,
    "start_time": "2021-09-21T12:38:15.198Z"
   },
   {
    "duration": 2987,
    "start_time": "2021-09-21T12:38:57.053Z"
   },
   {
    "duration": 182,
    "start_time": "2021-09-21T12:39:02.807Z"
   },
   {
    "duration": 646,
    "start_time": "2021-09-21T12:39:09.175Z"
   },
   {
    "duration": 110,
    "start_time": "2021-09-21T12:39:49.551Z"
   },
   {
    "duration": 645,
    "start_time": "2021-09-21T12:40:09.663Z"
   },
   {
    "duration": 11,
    "start_time": "2021-09-21T12:40:12.134Z"
   },
   {
    "duration": 2583,
    "start_time": "2021-09-21T12:40:17.503Z"
   },
   {
    "duration": 1209,
    "start_time": "2021-09-21T12:40:20.088Z"
   },
   {
    "duration": 3,
    "start_time": "2021-09-21T12:40:21.299Z"
   },
   {
    "duration": 915,
    "start_time": "2021-09-21T12:40:21.304Z"
   },
   {
    "duration": 868,
    "start_time": "2021-09-21T12:40:22.221Z"
   },
   {
    "duration": 612,
    "start_time": "2021-09-21T12:40:23.091Z"
   },
   {
    "duration": 63,
    "start_time": "2021-09-21T12:40:23.705Z"
   },
   {
    "duration": 124,
    "start_time": "2021-09-21T12:40:23.770Z"
   },
   {
    "duration": 806,
    "start_time": "2021-09-21T12:40:23.897Z"
   },
   {
    "duration": 2,
    "start_time": "2021-09-21T12:40:24.705Z"
   },
   {
    "duration": 132,
    "start_time": "2021-09-21T12:40:24.709Z"
   },
   {
    "duration": 1400,
    "start_time": "2021-09-21T12:40:24.843Z"
   },
   {
    "duration": 261,
    "start_time": "2021-09-21T12:40:26.249Z"
   },
   {
    "duration": 4,
    "start_time": "2021-09-21T12:40:26.512Z"
   },
   {
    "duration": 230,
    "start_time": "2021-09-21T12:40:26.519Z"
   },
   {
    "duration": 3094,
    "start_time": "2021-09-21T12:40:26.752Z"
   },
   {
    "duration": 690,
    "start_time": "2021-09-21T12:40:29.848Z"
   },
   {
    "duration": 336,
    "start_time": "2021-09-21T12:40:30.541Z"
   },
   {
    "duration": 422,
    "start_time": "2021-09-21T12:40:30.879Z"
   },
   {
    "duration": 48,
    "start_time": "2021-09-21T12:40:43.105Z"
   },
   {
    "duration": 33,
    "start_time": "2021-09-21T12:41:11.793Z"
   },
   {
    "duration": 3391,
    "start_time": "2021-09-21T12:41:28.657Z"
   },
   {
    "duration": 2581,
    "start_time": "2021-09-21T12:42:27.560Z"
   },
   {
    "duration": 1480,
    "start_time": "2021-09-21T12:42:30.144Z"
   },
   {
    "duration": 3,
    "start_time": "2021-09-21T12:42:31.627Z"
   },
   {
    "duration": 956,
    "start_time": "2021-09-21T12:42:31.632Z"
   },
   {
    "duration": 910,
    "start_time": "2021-09-21T12:42:32.590Z"
   },
   {
    "duration": 730,
    "start_time": "2021-09-21T12:42:33.502Z"
   },
   {
    "duration": 56,
    "start_time": "2021-09-21T12:42:34.234Z"
   },
   {
    "duration": 138,
    "start_time": "2021-09-21T12:42:34.294Z"
   },
   {
    "duration": 797,
    "start_time": "2021-09-21T12:42:34.434Z"
   },
   {
    "duration": 2,
    "start_time": "2021-09-21T12:42:35.233Z"
   },
   {
    "duration": 139,
    "start_time": "2021-09-21T12:42:35.240Z"
   },
   {
    "duration": 1378,
    "start_time": "2021-09-21T12:42:35.382Z"
   },
   {
    "duration": 265,
    "start_time": "2021-09-21T12:42:36.762Z"
   },
   {
    "duration": 4,
    "start_time": "2021-09-21T12:42:37.029Z"
   },
   {
    "duration": 46,
    "start_time": "2021-09-21T12:42:37.035Z"
   },
   {
    "duration": 71,
    "start_time": "2021-09-21T12:42:37.083Z"
   },
   {
    "duration": 3205,
    "start_time": "2021-09-21T12:42:37.156Z"
   },
   {
    "duration": 38,
    "start_time": "2021-09-21T12:42:40.363Z"
   },
   {
    "duration": 274,
    "start_time": "2021-09-21T12:42:40.403Z"
   },
   {
    "duration": 166,
    "start_time": "2021-09-21T12:42:40.679Z"
   },
   {
    "duration": 2565,
    "start_time": "2021-09-21T12:43:16.471Z"
   },
   {
    "duration": 1711,
    "start_time": "2021-09-21T12:43:19.038Z"
   },
   {
    "duration": 3,
    "start_time": "2021-09-21T12:43:20.752Z"
   },
   {
    "duration": 1255,
    "start_time": "2021-09-21T12:43:20.757Z"
   },
   {
    "duration": 893,
    "start_time": "2021-09-21T12:43:22.015Z"
   },
   {
    "duration": 618,
    "start_time": "2021-09-21T12:43:22.910Z"
   },
   {
    "duration": 57,
    "start_time": "2021-09-21T12:43:23.529Z"
   },
   {
    "duration": 129,
    "start_time": "2021-09-21T12:43:23.588Z"
   },
   {
    "duration": 783,
    "start_time": "2021-09-21T12:43:23.720Z"
   },
   {
    "duration": 3,
    "start_time": "2021-09-21T12:43:24.506Z"
   },
   {
    "duration": 95,
    "start_time": "2021-09-21T12:43:24.511Z"
   },
   {
    "duration": 1068,
    "start_time": "2021-09-21T12:43:24.608Z"
   },
   {
    "duration": 215,
    "start_time": "2021-09-21T12:43:25.678Z"
   },
   {
    "duration": 3,
    "start_time": "2021-09-21T12:43:25.895Z"
   },
   {
    "duration": 43,
    "start_time": "2021-09-21T12:43:25.899Z"
   },
   {
    "duration": 109,
    "start_time": "2021-09-21T12:43:25.948Z"
   },
   {
    "duration": 3562,
    "start_time": "2021-09-21T12:43:26.060Z"
   },
   {
    "duration": 37,
    "start_time": "2021-09-21T12:43:29.624Z"
   },
   {
    "duration": 1057,
    "start_time": "2021-09-21T12:43:29.664Z"
   },
   {
    "duration": 33,
    "start_time": "2021-09-21T12:43:30.723Z"
   },
   {
    "duration": 63406,
    "start_time": "2021-09-21T12:43:30.759Z"
   },
   {
    "duration": 1186,
    "start_time": "2021-09-21T12:44:34.167Z"
   },
   {
    "duration": 561,
    "start_time": "2021-09-21T12:44:35.355Z"
   },
   {
    "duration": 1036,
    "start_time": "2021-09-21T12:45:05.516Z"
   },
   {
    "duration": 264,
    "start_time": "2021-09-21T12:45:20.165Z"
   },
   {
    "duration": 431,
    "start_time": "2021-09-21T12:45:33.252Z"
   },
   {
    "duration": 431,
    "start_time": "2021-09-21T12:45:51.837Z"
   },
   {
    "duration": 538,
    "start_time": "2021-09-21T12:46:00.092Z"
   },
   {
    "duration": 424,
    "start_time": "2021-09-21T12:46:19.803Z"
   },
   {
    "duration": 2592,
    "start_time": "2021-09-21T12:46:54.814Z"
   },
   {
    "duration": 1240,
    "start_time": "2021-09-21T12:46:57.409Z"
   },
   {
    "duration": 2,
    "start_time": "2021-09-21T12:46:58.651Z"
   },
   {
    "duration": 836,
    "start_time": "2021-09-21T12:46:58.656Z"
   },
   {
    "duration": 828,
    "start_time": "2021-09-21T12:46:59.494Z"
   },
   {
    "duration": 605,
    "start_time": "2021-09-21T12:47:00.324Z"
   },
   {
    "duration": 52,
    "start_time": "2021-09-21T12:47:00.931Z"
   },
   {
    "duration": 119,
    "start_time": "2021-09-21T12:47:00.985Z"
   },
   {
    "duration": 756,
    "start_time": "2021-09-21T12:47:01.106Z"
   },
   {
    "duration": 3,
    "start_time": "2021-09-21T12:47:01.864Z"
   },
   {
    "duration": 135,
    "start_time": "2021-09-21T12:47:01.869Z"
   },
   {
    "duration": 1151,
    "start_time": "2021-09-21T12:47:02.006Z"
   },
   {
    "duration": 205,
    "start_time": "2021-09-21T12:47:03.159Z"
   },
   {
    "duration": 3,
    "start_time": "2021-09-21T12:47:03.366Z"
   },
   {
    "duration": 65,
    "start_time": "2021-09-21T12:47:03.371Z"
   },
   {
    "duration": 25,
    "start_time": "2021-09-21T12:47:03.438Z"
   },
   {
    "duration": 3193,
    "start_time": "2021-09-21T12:47:03.551Z"
   },
   {
    "duration": 39,
    "start_time": "2021-09-21T12:47:06.746Z"
   },
   {
    "duration": 537,
    "start_time": "2021-09-21T12:47:06.787Z"
   },
   {
    "duration": 124,
    "start_time": "2021-09-21T12:47:07.327Z"
   },
   {
    "duration": 106812,
    "start_time": "2021-09-21T12:47:07.454Z"
   },
   {
    "duration": 1136,
    "start_time": "2021-09-21T12:48:54.268Z"
   },
   {
    "duration": 571,
    "start_time": "2021-09-21T12:48:55.406Z"
   },
   {
    "duration": 7940,
    "start_time": "2021-09-21T12:49:39.423Z"
   },
   {
    "duration": 7992,
    "start_time": "2021-09-21T12:50:01.871Z"
   },
   {
    "duration": 89,
    "start_time": "2021-09-21T12:51:14.678Z"
   },
   {
    "duration": 27,
    "start_time": "2021-09-21T12:51:33.766Z"
   },
   {
    "duration": 93,
    "start_time": "2021-09-21T12:51:36.157Z"
   },
   {
    "duration": 29,
    "start_time": "2021-09-21T12:52:39.717Z"
   },
   {
    "duration": 23,
    "start_time": "2021-09-21T12:52:40.829Z"
   },
   {
    "duration": 2248,
    "start_time": "2021-09-21T12:52:45.719Z"
   },
   {
    "duration": 1187,
    "start_time": "2021-09-21T12:52:47.969Z"
   },
   {
    "duration": 3,
    "start_time": "2021-09-21T12:52:49.158Z"
   },
   {
    "duration": 839,
    "start_time": "2021-09-21T12:52:49.163Z"
   },
   {
    "duration": 814,
    "start_time": "2021-09-21T12:52:50.004Z"
   },
   {
    "duration": 564,
    "start_time": "2021-09-21T12:52:50.820Z"
   },
   {
    "duration": 49,
    "start_time": "2021-09-21T12:52:51.386Z"
   },
   {
    "duration": 114,
    "start_time": "2021-09-21T12:52:51.449Z"
   },
   {
    "duration": 710,
    "start_time": "2021-09-21T12:52:51.566Z"
   },
   {
    "duration": 2,
    "start_time": "2021-09-21T12:52:52.279Z"
   },
   {
    "duration": 85,
    "start_time": "2021-09-21T12:52:52.283Z"
   },
   {
    "duration": 994,
    "start_time": "2021-09-21T12:52:52.370Z"
   },
   {
    "duration": 190,
    "start_time": "2021-09-21T12:52:53.366Z"
   },
   {
    "duration": 3,
    "start_time": "2021-09-21T12:52:53.558Z"
   },
   {
    "duration": 36,
    "start_time": "2021-09-21T12:52:53.562Z"
   },
   {
    "duration": 151,
    "start_time": "2021-09-21T12:52:53.599Z"
   },
   {
    "duration": 2970,
    "start_time": "2021-09-21T12:52:53.753Z"
   },
   {
    "duration": 29,
    "start_time": "2021-09-21T12:52:56.725Z"
   },
   {
    "duration": 833,
    "start_time": "2021-09-21T12:52:56.756Z"
   },
   {
    "duration": 60,
    "start_time": "2021-09-21T12:52:57.591Z"
   },
   {
    "duration": 125201,
    "start_time": "2021-09-21T12:52:57.653Z"
   },
   {
    "duration": 1113,
    "start_time": "2021-09-21T12:55:02.856Z"
   },
   {
    "duration": 7991,
    "start_time": "2021-09-21T12:55:03.971Z"
   },
   {
    "duration": 1251,
    "start_time": "2021-09-21T13:03:58.862Z"
   },
   {
    "duration": 54,
    "start_time": "2021-09-21T13:04:21.207Z"
   },
   {
    "duration": 8049,
    "start_time": "2021-09-21T13:06:31.534Z"
   },
   {
    "duration": 2276,
    "start_time": "2021-09-21T13:06:52.741Z"
   },
   {
    "duration": 1309,
    "start_time": "2021-09-21T13:06:55.020Z"
   },
   {
    "duration": 2,
    "start_time": "2021-09-21T13:06:56.333Z"
   },
   {
    "duration": 838,
    "start_time": "2021-09-21T13:06:56.338Z"
   },
   {
    "duration": 802,
    "start_time": "2021-09-21T13:06:57.178Z"
   },
   {
    "duration": 559,
    "start_time": "2021-09-21T13:06:57.982Z"
   },
   {
    "duration": 47,
    "start_time": "2021-09-21T13:06:58.549Z"
   },
   {
    "duration": 233,
    "start_time": "2021-09-21T13:06:58.598Z"
   },
   {
    "duration": 763,
    "start_time": "2021-09-21T13:06:58.834Z"
   },
   {
    "duration": 2,
    "start_time": "2021-09-21T13:06:59.600Z"
   },
   {
    "duration": 85,
    "start_time": "2021-09-21T13:06:59.604Z"
   },
   {
    "duration": 985,
    "start_time": "2021-09-21T13:06:59.691Z"
   },
   {
    "duration": 463,
    "start_time": "2021-09-21T13:07:00.677Z"
   },
   {
    "duration": -1001,
    "start_time": "2021-09-21T13:07:02.144Z"
   },
   {
    "duration": -1002,
    "start_time": "2021-09-21T13:07:02.146Z"
   },
   {
    "duration": -1001,
    "start_time": "2021-09-21T13:07:02.147Z"
   },
   {
    "duration": -1001,
    "start_time": "2021-09-21T13:07:02.148Z"
   },
   {
    "duration": -1001,
    "start_time": "2021-09-21T13:07:02.149Z"
   },
   {
    "duration": -999,
    "start_time": "2021-09-21T13:07:02.149Z"
   },
   {
    "duration": -1000,
    "start_time": "2021-09-21T13:07:02.151Z"
   },
   {
    "duration": -1000,
    "start_time": "2021-09-21T13:07:02.152Z"
   },
   {
    "duration": -999,
    "start_time": "2021-09-21T13:07:02.153Z"
   },
   {
    "duration": -1000,
    "start_time": "2021-09-21T13:07:02.155Z"
   },
   {
    "duration": -1000,
    "start_time": "2021-09-21T13:07:02.156Z"
   },
   {
    "duration": 6658,
    "start_time": "2021-09-21T13:07:41.972Z"
   },
   {
    "duration": 8293,
    "start_time": "2021-09-21T13:08:03.549Z"
   },
   {
    "duration": 6182,
    "start_time": "2021-09-21T13:09:29.756Z"
   },
   {
    "duration": 252,
    "start_time": "2021-09-21T13:10:11.124Z"
   },
   {
    "duration": 6365,
    "start_time": "2021-09-21T13:10:23.043Z"
   },
   {
    "duration": 32,
    "start_time": "2021-09-21T13:14:43.145Z"
   },
   {
    "duration": 33,
    "start_time": "2021-09-21T13:14:49.625Z"
   },
   {
    "duration": 7,
    "start_time": "2021-09-21T13:16:15.723Z"
   },
   {
    "duration": 52,
    "start_time": "2021-09-21T13:16:21.109Z"
   },
   {
    "duration": 56,
    "start_time": "2021-09-21T13:18:38.631Z"
   },
   {
    "duration": 301,
    "start_time": "2021-09-21T13:19:39.709Z"
   },
   {
    "duration": 300,
    "start_time": "2021-09-21T13:19:48.119Z"
   },
   {
    "duration": 421,
    "start_time": "2021-09-21T13:20:07.382Z"
   },
   {
    "duration": 100,
    "start_time": "2021-09-21T13:20:23.478Z"
   },
   {
    "duration": 25,
    "start_time": "2021-09-21T13:20:35.694Z"
   },
   {
    "duration": 296,
    "start_time": "2021-09-21T13:21:19.983Z"
   },
   {
    "duration": 301,
    "start_time": "2021-09-21T13:23:32.068Z"
   },
   {
    "duration": 272,
    "start_time": "2021-09-21T13:23:48.053Z"
   },
   {
    "duration": 7098,
    "start_time": "2021-09-21T13:26:15.556Z"
   },
   {
    "duration": 2383,
    "start_time": "2021-09-21T13:26:27.973Z"
   },
   {
    "duration": 1382,
    "start_time": "2021-09-21T13:26:30.358Z"
   },
   {
    "duration": 3,
    "start_time": "2021-09-21T13:26:31.742Z"
   },
   {
    "duration": 883,
    "start_time": "2021-09-21T13:26:31.747Z"
   },
   {
    "duration": 837,
    "start_time": "2021-09-21T13:26:32.632Z"
   },
   {
    "duration": 582,
    "start_time": "2021-09-21T13:26:33.471Z"
   },
   {
    "duration": 50,
    "start_time": "2021-09-21T13:26:34.055Z"
   },
   {
    "duration": 223,
    "start_time": "2021-09-21T13:26:34.107Z"
   },
   {
    "duration": 762,
    "start_time": "2021-09-21T13:26:34.332Z"
   },
   {
    "duration": 2,
    "start_time": "2021-09-21T13:26:35.096Z"
   },
   {
    "duration": 90,
    "start_time": "2021-09-21T13:26:35.100Z"
   },
   {
    "duration": 973,
    "start_time": "2021-09-21T13:26:35.192Z"
   },
   {
    "duration": 100,
    "start_time": "2021-09-21T13:26:36.167Z"
   },
   {
    "duration": 463,
    "start_time": "2021-09-21T13:26:36.269Z"
   },
   {
    "duration": -1017,
    "start_time": "2021-09-21T13:26:37.751Z"
   },
   {
    "duration": -1017,
    "start_time": "2021-09-21T13:26:37.753Z"
   },
   {
    "duration": -1016,
    "start_time": "2021-09-21T13:26:37.753Z"
   },
   {
    "duration": -1015,
    "start_time": "2021-09-21T13:26:37.754Z"
   },
   {
    "duration": -1015,
    "start_time": "2021-09-21T13:26:37.755Z"
   },
   {
    "duration": -1016,
    "start_time": "2021-09-21T13:26:37.758Z"
   },
   {
    "duration": -1017,
    "start_time": "2021-09-21T13:26:37.760Z"
   },
   {
    "duration": -1017,
    "start_time": "2021-09-21T13:26:37.761Z"
   },
   {
    "duration": -1016,
    "start_time": "2021-09-21T13:26:37.762Z"
   },
   {
    "duration": -1015,
    "start_time": "2021-09-21T13:26:37.763Z"
   },
   {
    "duration": -1015,
    "start_time": "2021-09-21T13:26:37.764Z"
   },
   {
    "duration": 434,
    "start_time": "2021-09-21T13:27:03.771Z"
   },
   {
    "duration": 107,
    "start_time": "2021-09-21T13:27:12.587Z"
   },
   {
    "duration": 22,
    "start_time": "2021-09-21T13:27:23.203Z"
   },
   {
    "duration": 37,
    "start_time": "2021-09-21T13:27:42.150Z"
   },
   {
    "duration": 280,
    "start_time": "2021-09-21T13:27:56.058Z"
   },
   {
    "duration": 92,
    "start_time": "2021-09-21T13:28:06.803Z"
   },
   {
    "duration": 97,
    "start_time": "2021-09-21T13:28:28.235Z"
   },
   {
    "duration": 337,
    "start_time": "2021-09-21T13:29:27.818Z"
   },
   {
    "duration": 2630,
    "start_time": "2021-09-21T13:30:17.885Z"
   },
   {
    "duration": 1617,
    "start_time": "2021-09-21T13:30:20.518Z"
   },
   {
    "duration": 8,
    "start_time": "2021-09-21T13:30:22.141Z"
   },
   {
    "duration": 905,
    "start_time": "2021-09-21T13:30:22.151Z"
   },
   {
    "duration": 871,
    "start_time": "2021-09-21T13:30:23.058Z"
   },
   {
    "duration": 623,
    "start_time": "2021-09-21T13:30:23.931Z"
   },
   {
    "duration": 51,
    "start_time": "2021-09-21T13:30:24.556Z"
   },
   {
    "duration": 249,
    "start_time": "2021-09-21T13:30:24.610Z"
   },
   {
    "duration": 731,
    "start_time": "2021-09-21T13:30:24.862Z"
   },
   {
    "duration": 3,
    "start_time": "2021-09-21T13:30:25.596Z"
   },
   {
    "duration": 105,
    "start_time": "2021-09-21T13:30:25.601Z"
   },
   {
    "duration": 1089,
    "start_time": "2021-09-21T13:30:25.708Z"
   },
   {
    "duration": 114,
    "start_time": "2021-09-21T13:30:26.800Z"
   },
   {
    "duration": 458,
    "start_time": "2021-09-21T13:30:26.916Z"
   },
   {
    "duration": -1009,
    "start_time": "2021-09-21T13:30:28.385Z"
   },
   {
    "duration": -1009,
    "start_time": "2021-09-21T13:30:28.386Z"
   },
   {
    "duration": -1013,
    "start_time": "2021-09-21T13:30:28.391Z"
   },
   {
    "duration": -1014,
    "start_time": "2021-09-21T13:30:28.393Z"
   },
   {
    "duration": -1014,
    "start_time": "2021-09-21T13:30:28.394Z"
   },
   {
    "duration": -1014,
    "start_time": "2021-09-21T13:30:28.395Z"
   },
   {
    "duration": -1014,
    "start_time": "2021-09-21T13:30:28.396Z"
   },
   {
    "duration": -1014,
    "start_time": "2021-09-21T13:30:28.397Z"
   },
   {
    "duration": -1014,
    "start_time": "2021-09-21T13:30:28.398Z"
   },
   {
    "duration": -1014,
    "start_time": "2021-09-21T13:30:28.399Z"
   },
   {
    "duration": -1015,
    "start_time": "2021-09-21T13:30:28.400Z"
   },
   {
    "duration": 344,
    "start_time": "2021-09-21T13:31:48.913Z"
   },
   {
    "duration": 351,
    "start_time": "2021-09-21T13:32:05.099Z"
   },
   {
    "duration": 2507,
    "start_time": "2021-09-21T13:32:18.097Z"
   },
   {
    "duration": 1265,
    "start_time": "2021-09-21T13:32:20.607Z"
   },
   {
    "duration": 2,
    "start_time": "2021-09-21T13:32:21.874Z"
   },
   {
    "duration": 890,
    "start_time": "2021-09-21T13:32:21.878Z"
   },
   {
    "duration": 850,
    "start_time": "2021-09-21T13:32:22.771Z"
   },
   {
    "duration": 610,
    "start_time": "2021-09-21T13:32:23.622Z"
   },
   {
    "duration": 86,
    "start_time": "2021-09-21T13:32:24.234Z"
   },
   {
    "duration": 327,
    "start_time": "2021-09-21T13:32:24.323Z"
   },
   {
    "duration": 1036,
    "start_time": "2021-09-21T13:32:24.653Z"
   },
   {
    "duration": 3,
    "start_time": "2021-09-21T13:32:25.691Z"
   },
   {
    "duration": 132,
    "start_time": "2021-09-21T13:32:25.696Z"
   },
   {
    "duration": 1308,
    "start_time": "2021-09-21T13:32:25.830Z"
   },
   {
    "duration": 189,
    "start_time": "2021-09-21T13:32:27.141Z"
   },
   {
    "duration": 559,
    "start_time": "2021-09-21T13:32:27.332Z"
   },
   {
    "duration": -1020,
    "start_time": "2021-09-21T13:32:28.913Z"
   },
   {
    "duration": -1019,
    "start_time": "2021-09-21T13:32:28.914Z"
   },
   {
    "duration": -1019,
    "start_time": "2021-09-21T13:32:28.915Z"
   },
   {
    "duration": -1019,
    "start_time": "2021-09-21T13:32:28.916Z"
   },
   {
    "duration": -1019,
    "start_time": "2021-09-21T13:32:28.917Z"
   },
   {
    "duration": -1018,
    "start_time": "2021-09-21T13:32:28.918Z"
   },
   {
    "duration": -1018,
    "start_time": "2021-09-21T13:32:28.919Z"
   },
   {
    "duration": -1018,
    "start_time": "2021-09-21T13:32:28.920Z"
   },
   {
    "duration": -1018,
    "start_time": "2021-09-21T13:32:28.921Z"
   },
   {
    "duration": -1018,
    "start_time": "2021-09-21T13:32:28.922Z"
   },
   {
    "duration": -1017,
    "start_time": "2021-09-21T13:32:28.923Z"
   },
   {
    "duration": 439,
    "start_time": "2021-09-21T13:32:38.906Z"
   },
   {
    "duration": 3,
    "start_time": "2021-09-21T13:34:59.224Z"
   },
   {
    "duration": 58,
    "start_time": "2021-09-21T13:35:08.645Z"
   },
   {
    "duration": 62,
    "start_time": "2021-09-21T13:35:21.584Z"
   },
   {
    "duration": 40,
    "start_time": "2021-09-21T13:35:36.047Z"
   },
   {
    "duration": 2162,
    "start_time": "2021-09-21T13:36:26.984Z"
   },
   {
    "duration": 1207,
    "start_time": "2021-09-21T13:36:29.148Z"
   },
   {
    "duration": 3,
    "start_time": "2021-09-21T13:36:30.357Z"
   },
   {
    "duration": 910,
    "start_time": "2021-09-21T13:36:30.362Z"
   },
   {
    "duration": 826,
    "start_time": "2021-09-21T13:36:31.274Z"
   },
   {
    "duration": 598,
    "start_time": "2021-09-21T13:36:32.102Z"
   },
   {
    "duration": 92,
    "start_time": "2021-09-21T13:36:32.702Z"
   },
   {
    "duration": 431,
    "start_time": "2021-09-21T13:36:32.796Z"
   },
   {
    "duration": 728,
    "start_time": "2021-09-21T13:36:33.231Z"
   },
   {
    "duration": 3,
    "start_time": "2021-09-21T13:36:33.961Z"
   },
   {
    "duration": 87,
    "start_time": "2021-09-21T13:36:33.965Z"
   },
   {
    "duration": 1083,
    "start_time": "2021-09-21T13:36:34.054Z"
   },
   {
    "duration": 118,
    "start_time": "2021-09-21T13:36:35.139Z"
   },
   {
    "duration": 45,
    "start_time": "2021-09-21T13:36:35.259Z"
   },
   {
    "duration": 171,
    "start_time": "2021-09-21T13:36:35.306Z"
   },
   {
    "duration": 4,
    "start_time": "2021-09-21T13:36:35.480Z"
   },
   {
    "duration": 48,
    "start_time": "2021-09-21T13:36:35.486Z"
   },
   {
    "duration": 135,
    "start_time": "2021-09-21T13:36:35.536Z"
   },
   {
    "duration": 3272,
    "start_time": "2021-09-21T13:36:35.674Z"
   },
   {
    "duration": 30,
    "start_time": "2021-09-21T13:36:38.948Z"
   },
   {
    "duration": 972,
    "start_time": "2021-09-21T13:36:38.981Z"
   },
   {
    "duration": 14,
    "start_time": "2021-09-21T13:36:39.955Z"
   },
   {
    "duration": 79542,
    "start_time": "2021-09-21T13:36:39.971Z"
   },
   {
    "duration": 1479,
    "start_time": "2021-09-21T13:37:59.515Z"
   },
   {
    "duration": 2280,
    "start_time": "2021-09-21T13:38:10.999Z"
   },
   {
    "duration": 1226,
    "start_time": "2021-09-21T13:38:13.281Z"
   },
   {
    "duration": 3,
    "start_time": "2021-09-21T13:38:14.509Z"
   },
   {
    "duration": 918,
    "start_time": "2021-09-21T13:38:14.514Z"
   },
   {
    "duration": 891,
    "start_time": "2021-09-21T13:38:15.434Z"
   },
   {
    "duration": 615,
    "start_time": "2021-09-21T13:38:16.326Z"
   },
   {
    "duration": 50,
    "start_time": "2021-09-21T13:38:16.942Z"
   },
   {
    "duration": 292,
    "start_time": "2021-09-21T13:38:16.994Z"
   },
   {
    "duration": 710,
    "start_time": "2021-09-21T13:38:17.289Z"
   },
   {
    "duration": 2,
    "start_time": "2021-09-21T13:38:18.001Z"
   },
   {
    "duration": 84,
    "start_time": "2021-09-21T13:38:18.005Z"
   },
   {
    "duration": 977,
    "start_time": "2021-09-21T13:38:18.091Z"
   },
   {
    "duration": 94,
    "start_time": "2021-09-21T13:38:19.070Z"
   },
   {
    "duration": 46,
    "start_time": "2021-09-21T13:38:19.165Z"
   },
   {
    "duration": 49,
    "start_time": "2021-09-21T13:38:19.213Z"
   },
   {
    "duration": 158,
    "start_time": "2021-09-21T13:38:19.264Z"
   },
   {
    "duration": 3,
    "start_time": "2021-09-21T13:38:19.424Z"
   },
   {
    "duration": 43,
    "start_time": "2021-09-21T13:38:19.429Z"
   },
   {
    "duration": 82,
    "start_time": "2021-09-21T13:38:19.473Z"
   },
   {
    "duration": 3168,
    "start_time": "2021-09-21T13:38:19.558Z"
   },
   {
    "duration": 23,
    "start_time": "2021-09-21T13:38:22.728Z"
   },
   {
    "duration": 746,
    "start_time": "2021-09-21T13:38:22.753Z"
   },
   {
    "duration": 51,
    "start_time": "2021-09-21T13:38:23.501Z"
   },
   {
    "duration": 2974,
    "start_time": "2021-09-21T13:39:02.467Z"
   },
   {
    "duration": 1323,
    "start_time": "2021-09-21T13:39:05.444Z"
   },
   {
    "duration": 3,
    "start_time": "2021-09-21T13:39:06.769Z"
   },
   {
    "duration": 936,
    "start_time": "2021-09-21T13:39:06.774Z"
   },
   {
    "duration": 892,
    "start_time": "2021-09-21T13:39:07.712Z"
   },
   {
    "duration": 619,
    "start_time": "2021-09-21T13:39:08.606Z"
   },
   {
    "duration": 61,
    "start_time": "2021-09-21T13:39:09.227Z"
   },
   {
    "duration": 298,
    "start_time": "2021-09-21T13:39:09.290Z"
   },
   {
    "duration": 749,
    "start_time": "2021-09-21T13:39:09.591Z"
   },
   {
    "duration": 7,
    "start_time": "2021-09-21T13:39:10.342Z"
   },
   {
    "duration": 80,
    "start_time": "2021-09-21T13:39:10.351Z"
   },
   {
    "duration": 1150,
    "start_time": "2021-09-21T13:39:10.433Z"
   },
   {
    "duration": 95,
    "start_time": "2021-09-21T13:39:11.585Z"
   },
   {
    "duration": 43,
    "start_time": "2021-09-21T13:39:11.682Z"
   },
   {
    "duration": 2,
    "start_time": "2021-09-21T13:39:11.727Z"
   },
   {
    "duration": 27,
    "start_time": "2021-09-21T13:39:11.749Z"
   },
   {
    "duration": 175,
    "start_time": "2021-09-21T13:39:11.778Z"
   },
   {
    "duration": 4,
    "start_time": "2021-09-21T13:39:11.955Z"
   },
   {
    "duration": 37,
    "start_time": "2021-09-21T13:39:11.960Z"
   },
   {
    "duration": 55,
    "start_time": "2021-09-21T13:39:11.999Z"
   },
   {
    "duration": 3363,
    "start_time": "2021-09-21T13:39:12.056Z"
   },
   {
    "duration": 36,
    "start_time": "2021-09-21T13:39:15.420Z"
   },
   {
    "duration": 738,
    "start_time": "2021-09-21T13:39:15.458Z"
   },
   {
    "duration": 62,
    "start_time": "2021-09-21T13:39:16.198Z"
   },
   {
    "duration": 61712,
    "start_time": "2021-09-21T13:39:16.349Z"
   },
   {
    "duration": 1125,
    "start_time": "2021-09-21T13:40:18.063Z"
   },
   {
    "duration": 8069,
    "start_time": "2021-09-21T13:40:19.191Z"
   },
   {
    "duration": 12,
    "start_time": "2021-09-21T13:40:27.263Z"
   },
   {
    "duration": 170,
    "start_time": "2021-09-21T13:43:39.275Z"
   },
   {
    "duration": 41,
    "start_time": "2021-09-21T13:44:32.205Z"
   },
   {
    "duration": 333,
    "start_time": "2021-09-21T13:44:43.890Z"
   },
   {
    "duration": 248,
    "start_time": "2021-09-21T13:44:49.122Z"
   },
   {
    "duration": 252,
    "start_time": "2021-09-21T13:44:59.122Z"
   },
   {
    "duration": 143,
    "start_time": "2021-09-21T13:45:51.506Z"
   },
   {
    "duration": 157,
    "start_time": "2021-09-21T13:45:59.577Z"
   },
   {
    "duration": 2387,
    "start_time": "2021-09-21T13:46:58.881Z"
   },
   {
    "duration": 1324,
    "start_time": "2021-09-21T13:47:01.271Z"
   },
   {
    "duration": 3,
    "start_time": "2021-09-21T13:47:02.598Z"
   },
   {
    "duration": 946,
    "start_time": "2021-09-21T13:47:02.604Z"
   },
   {
    "duration": 850,
    "start_time": "2021-09-21T13:47:03.552Z"
   },
   {
    "duration": 602,
    "start_time": "2021-09-21T13:47:04.404Z"
   },
   {
    "duration": 59,
    "start_time": "2021-09-21T13:47:05.009Z"
   },
   {
    "duration": 288,
    "start_time": "2021-09-21T13:47:05.070Z"
   },
   {
    "duration": 738,
    "start_time": "2021-09-21T13:47:05.361Z"
   },
   {
    "duration": 2,
    "start_time": "2021-09-21T13:47:06.101Z"
   },
   {
    "duration": 100,
    "start_time": "2021-09-21T13:47:06.105Z"
   },
   {
    "duration": 1083,
    "start_time": "2021-09-21T13:47:06.208Z"
   },
   {
    "duration": 94,
    "start_time": "2021-09-21T13:47:07.293Z"
   },
   {
    "duration": 45,
    "start_time": "2021-09-21T13:47:07.389Z"
   },
   {
    "duration": 13,
    "start_time": "2021-09-21T13:47:07.436Z"
   },
   {
    "duration": 173,
    "start_time": "2021-09-21T13:47:07.451Z"
   },
   {
    "duration": 124,
    "start_time": "2021-09-21T13:47:07.626Z"
   },
   {
    "duration": 506,
    "start_time": "2021-09-21T13:47:07.753Z"
   },
   {
    "duration": 4,
    "start_time": "2021-09-21T13:47:08.261Z"
   },
   {
    "duration": 287,
    "start_time": "2021-09-21T13:47:08.268Z"
   },
   {
    "duration": 436,
    "start_time": "2021-09-21T13:47:08.557Z"
   },
   {
    "duration": 2398,
    "start_time": "2021-09-21T13:47:08.996Z"
   },
   {
    "duration": 430,
    "start_time": "2021-09-21T13:47:11.400Z"
   },
   {
    "duration": 190,
    "start_time": "2021-09-21T13:47:11.832Z"
   },
   {
    "duration": 435,
    "start_time": "2021-09-21T13:47:12.024Z"
   },
   {
    "duration": 170,
    "start_time": "2021-09-21T13:47:12.461Z"
   },
   {
    "duration": 426,
    "start_time": "2021-09-21T13:47:12.633Z"
   },
   {
    "duration": 475,
    "start_time": "2021-09-21T13:47:13.061Z"
   },
   {
    "duration": 2232,
    "start_time": "2021-09-21T13:47:52.646Z"
   },
   {
    "duration": 1281,
    "start_time": "2021-09-21T13:47:54.881Z"
   },
   {
    "duration": 3,
    "start_time": "2021-09-21T13:47:56.165Z"
   },
   {
    "duration": 916,
    "start_time": "2021-09-21T13:47:56.170Z"
   },
   {
    "duration": 872,
    "start_time": "2021-09-21T13:47:57.088Z"
   },
   {
    "duration": 604,
    "start_time": "2021-09-21T13:47:57.962Z"
   },
   {
    "duration": 52,
    "start_time": "2021-09-21T13:47:58.568Z"
   },
   {
    "duration": 443,
    "start_time": "2021-09-21T13:47:58.622Z"
   },
   {
    "duration": 1061,
    "start_time": "2021-09-21T13:47:59.069Z"
   },
   {
    "duration": 2,
    "start_time": "2021-09-21T13:48:00.133Z"
   },
   {
    "duration": 85,
    "start_time": "2021-09-21T13:48:00.137Z"
   },
   {
    "duration": 1076,
    "start_time": "2021-09-21T13:48:00.224Z"
   },
   {
    "duration": 93,
    "start_time": "2021-09-21T13:48:01.302Z"
   },
   {
    "duration": 55,
    "start_time": "2021-09-21T13:48:01.397Z"
   },
   {
    "duration": 2,
    "start_time": "2021-09-21T13:48:01.454Z"
   },
   {
    "duration": 160,
    "start_time": "2021-09-21T13:48:01.458Z"
   },
   {
    "duration": 5,
    "start_time": "2021-09-21T13:48:01.620Z"
   },
   {
    "duration": 48,
    "start_time": "2021-09-21T13:48:01.627Z"
   },
   {
    "duration": 80,
    "start_time": "2021-09-21T13:48:01.677Z"
   },
   {
    "duration": 3151,
    "start_time": "2021-09-21T13:48:01.761Z"
   },
   {
    "duration": 26,
    "start_time": "2021-09-21T13:48:04.914Z"
   },
   {
    "duration": 622,
    "start_time": "2021-09-21T13:48:04.942Z"
   },
   {
    "duration": 84,
    "start_time": "2021-09-21T13:48:05.566Z"
   },
   {
    "duration": 2218,
    "start_time": "2021-09-21T13:50:03.436Z"
   },
   {
    "duration": 1282,
    "start_time": "2021-09-21T13:50:05.657Z"
   },
   {
    "duration": 3,
    "start_time": "2021-09-21T13:50:06.941Z"
   },
   {
    "duration": 933,
    "start_time": "2021-09-21T13:50:06.949Z"
   },
   {
    "duration": 879,
    "start_time": "2021-09-21T13:50:07.884Z"
   },
   {
    "duration": 619,
    "start_time": "2021-09-21T13:50:08.765Z"
   },
   {
    "duration": 65,
    "start_time": "2021-09-21T13:50:09.386Z"
   },
   {
    "duration": 281,
    "start_time": "2021-09-21T13:50:09.453Z"
   },
   {
    "duration": 741,
    "start_time": "2021-09-21T13:50:09.737Z"
   },
   {
    "duration": 3,
    "start_time": "2021-09-21T13:50:10.480Z"
   },
   {
    "duration": 84,
    "start_time": "2021-09-21T13:50:10.485Z"
   },
   {
    "duration": 999,
    "start_time": "2021-09-21T13:50:10.571Z"
   },
   {
    "duration": 97,
    "start_time": "2021-09-21T13:50:11.572Z"
   },
   {
    "duration": 44,
    "start_time": "2021-09-21T13:50:11.671Z"
   },
   {
    "duration": 413,
    "start_time": "2021-09-21T13:50:11.717Z"
   },
   {
    "duration": -1025,
    "start_time": "2021-09-21T13:50:13.158Z"
   },
   {
    "duration": -1025,
    "start_time": "2021-09-21T13:50:13.159Z"
   },
   {
    "duration": -1025,
    "start_time": "2021-09-21T13:50:13.160Z"
   },
   {
    "duration": -1025,
    "start_time": "2021-09-21T13:50:13.161Z"
   },
   {
    "duration": -1024,
    "start_time": "2021-09-21T13:50:13.162Z"
   },
   {
    "duration": -1024,
    "start_time": "2021-09-21T13:50:13.163Z"
   },
   {
    "duration": -1023,
    "start_time": "2021-09-21T13:50:13.164Z"
   },
   {
    "duration": -1024,
    "start_time": "2021-09-21T13:50:13.166Z"
   },
   {
    "duration": 151,
    "start_time": "2021-09-21T13:50:27.832Z"
   },
   {
    "duration": 429,
    "start_time": "2021-09-21T13:50:49.464Z"
   },
   {
    "duration": 95,
    "start_time": "2021-09-21T13:51:15.759Z"
   },
   {
    "duration": 8395,
    "start_time": "2021-09-21T13:51:20.127Z"
   },
   {
    "duration": 6466,
    "start_time": "2021-09-21T13:51:45.983Z"
   },
   {
    "duration": 302,
    "start_time": "2021-09-21T13:52:42.295Z"
   },
   {
    "duration": 6186,
    "start_time": "2021-09-21T13:52:52.407Z"
   },
   {
    "duration": 2282,
    "start_time": "2021-09-21T13:53:07.162Z"
   },
   {
    "duration": 1246,
    "start_time": "2021-09-21T13:53:09.446Z"
   },
   {
    "duration": 3,
    "start_time": "2021-09-21T13:53:10.694Z"
   },
   {
    "duration": 942,
    "start_time": "2021-09-21T13:53:10.699Z"
   },
   {
    "duration": 940,
    "start_time": "2021-09-21T13:53:11.643Z"
   },
   {
    "duration": 625,
    "start_time": "2021-09-21T13:53:12.585Z"
   },
   {
    "duration": 59,
    "start_time": "2021-09-21T13:53:13.212Z"
   },
   {
    "duration": 288,
    "start_time": "2021-09-21T13:53:13.273Z"
   },
   {
    "duration": 709,
    "start_time": "2021-09-21T13:53:13.565Z"
   },
   {
    "duration": 2,
    "start_time": "2021-09-21T13:53:14.277Z"
   },
   {
    "duration": 89,
    "start_time": "2021-09-21T13:53:14.280Z"
   },
   {
    "duration": 1031,
    "start_time": "2021-09-21T13:53:14.371Z"
   },
   {
    "duration": 95,
    "start_time": "2021-09-21T13:53:15.404Z"
   },
   {
    "duration": 65,
    "start_time": "2021-09-21T13:53:15.501Z"
   },
   {
    "duration": 164,
    "start_time": "2021-09-21T13:53:15.569Z"
   },
   {
    "duration": 219,
    "start_time": "2021-09-21T13:53:15.735Z"
   },
   {
    "duration": 3,
    "start_time": "2021-09-21T13:53:15.956Z"
   },
   {
    "duration": 34,
    "start_time": "2021-09-21T13:53:15.961Z"
   },
   {
    "duration": 59,
    "start_time": "2021-09-21T13:53:15.997Z"
   },
   {
    "duration": 3232,
    "start_time": "2021-09-21T13:53:16.059Z"
   },
   {
    "duration": 26,
    "start_time": "2021-09-21T13:53:19.293Z"
   },
   {
    "duration": 581,
    "start_time": "2021-09-21T13:53:19.320Z"
   },
   {
    "duration": 48,
    "start_time": "2021-09-21T13:53:19.903Z"
   },
   {
    "duration": 137,
    "start_time": "2021-09-21T13:54:05.490Z"
   },
   {
    "duration": 12,
    "start_time": "2021-09-21T13:55:25.186Z"
   },
   {
    "duration": 230,
    "start_time": "2021-09-21T13:58:16.945Z"
   },
   {
    "duration": 180,
    "start_time": "2021-09-21T13:58:21.353Z"
   },
   {
    "duration": 7836,
    "start_time": "2021-09-21T14:00:57.654Z"
   },
   {
    "duration": 2292,
    "start_time": "2021-09-21T14:01:27.447Z"
   },
   {
    "duration": 1339,
    "start_time": "2021-09-21T14:01:29.742Z"
   },
   {
    "duration": 3,
    "start_time": "2021-09-21T14:01:31.083Z"
   },
   {
    "duration": 949,
    "start_time": "2021-09-21T14:01:31.087Z"
   },
   {
    "duration": 888,
    "start_time": "2021-09-21T14:01:32.038Z"
   },
   {
    "duration": 638,
    "start_time": "2021-09-21T14:01:32.928Z"
   },
   {
    "duration": 51,
    "start_time": "2021-09-21T14:01:33.568Z"
   },
   {
    "duration": 300,
    "start_time": "2021-09-21T14:01:33.621Z"
   },
   {
    "duration": 756,
    "start_time": "2021-09-21T14:01:33.924Z"
   },
   {
    "duration": 2,
    "start_time": "2021-09-21T14:01:34.682Z"
   },
   {
    "duration": 85,
    "start_time": "2021-09-21T14:01:34.687Z"
   },
   {
    "duration": 1008,
    "start_time": "2021-09-21T14:01:34.774Z"
   },
   {
    "duration": 99,
    "start_time": "2021-09-21T14:01:35.784Z"
   },
   {
    "duration": 48,
    "start_time": "2021-09-21T14:01:35.885Z"
   },
   {
    "duration": 629,
    "start_time": "2021-09-21T14:01:35.935Z"
   },
   {
    "duration": -1037,
    "start_time": "2021-09-21T14:01:37.603Z"
   },
   {
    "duration": -1038,
    "start_time": "2021-09-21T14:01:37.605Z"
   },
   {
    "duration": -1040,
    "start_time": "2021-09-21T14:01:37.608Z"
   },
   {
    "duration": -1039,
    "start_time": "2021-09-21T14:01:37.609Z"
   },
   {
    "duration": -1040,
    "start_time": "2021-09-21T14:01:37.611Z"
   },
   {
    "duration": -1042,
    "start_time": "2021-09-21T14:01:37.613Z"
   },
   {
    "duration": -1041,
    "start_time": "2021-09-21T14:01:37.614Z"
   },
   {
    "duration": -1041,
    "start_time": "2021-09-21T14:01:37.615Z"
   },
   {
    "duration": -1041,
    "start_time": "2021-09-21T14:01:37.616Z"
   },
   {
    "duration": 6599,
    "start_time": "2021-09-21T14:01:51.541Z"
   },
   {
    "duration": 7075,
    "start_time": "2021-09-21T14:02:07.870Z"
   },
   {
    "duration": 2309,
    "start_time": "2021-09-21T14:02:31.723Z"
   },
   {
    "duration": 1350,
    "start_time": "2021-09-21T14:02:34.034Z"
   },
   {
    "duration": 4,
    "start_time": "2021-09-21T14:02:35.387Z"
   },
   {
    "duration": 930,
    "start_time": "2021-09-21T14:02:35.393Z"
   },
   {
    "duration": 882,
    "start_time": "2021-09-21T14:02:36.326Z"
   },
   {
    "duration": 640,
    "start_time": "2021-09-21T14:02:37.210Z"
   },
   {
    "duration": 85,
    "start_time": "2021-09-21T14:02:37.853Z"
   },
   {
    "duration": 434,
    "start_time": "2021-09-21T14:02:37.948Z"
   },
   {
    "duration": 1063,
    "start_time": "2021-09-21T14:02:38.386Z"
   },
   {
    "duration": 2,
    "start_time": "2021-09-21T14:02:39.452Z"
   },
   {
    "duration": 136,
    "start_time": "2021-09-21T14:02:39.456Z"
   },
   {
    "duration": 1321,
    "start_time": "2021-09-21T14:02:39.594Z"
   },
   {
    "duration": 98,
    "start_time": "2021-09-21T14:02:40.918Z"
   },
   {
    "duration": 58,
    "start_time": "2021-09-21T14:02:41.018Z"
   },
   {
    "duration": 150,
    "start_time": "2021-09-21T14:02:41.078Z"
   },
   {
    "duration": 34,
    "start_time": "2021-09-21T14:02:41.230Z"
   },
   {
    "duration": 178,
    "start_time": "2021-09-21T14:02:41.266Z"
   },
   {
    "duration": 3,
    "start_time": "2021-09-21T14:02:41.449Z"
   },
   {
    "duration": 50,
    "start_time": "2021-09-21T14:02:41.454Z"
   },
   {
    "duration": 144,
    "start_time": "2021-09-21T14:02:41.506Z"
   },
   {
    "duration": 3407,
    "start_time": "2021-09-21T14:02:41.653Z"
   },
   {
    "duration": 27,
    "start_time": "2021-09-21T14:02:45.062Z"
   },
   {
    "duration": 719,
    "start_time": "2021-09-21T14:02:45.091Z"
   },
   {
    "duration": 44,
    "start_time": "2021-09-21T14:02:45.812Z"
   },
   {
    "duration": 95,
    "start_time": "2021-09-21T14:03:44.018Z"
   },
   {
    "duration": 474,
    "start_time": "2021-09-21T14:05:08.016Z"
   },
   {
    "duration": 106,
    "start_time": "2021-09-21T14:05:32.201Z"
   },
   {
    "duration": 1389,
    "start_time": "2021-09-21T14:07:02.160Z"
   },
   {
    "duration": 1190,
    "start_time": "2021-09-21T14:07:14.327Z"
   },
   {
    "duration": 351,
    "start_time": "2021-09-21T14:07:23.151Z"
   },
   {
    "duration": 97,
    "start_time": "2021-09-21T14:07:43.518Z"
   },
   {
    "duration": 96,
    "start_time": "2021-09-21T14:07:48.911Z"
   },
   {
    "duration": 359,
    "start_time": "2021-09-21T14:07:58.495Z"
   },
   {
    "duration": 340,
    "start_time": "2021-09-21T14:08:02.383Z"
   },
   {
    "duration": 97,
    "start_time": "2021-09-21T14:08:39.487Z"
   },
   {
    "duration": 5,
    "start_time": "2021-09-21T14:08:46.709Z"
   },
   {
    "duration": 6,
    "start_time": "2021-09-21T14:09:03.054Z"
   },
   {
    "duration": 5,
    "start_time": "2021-09-21T14:09:16.110Z"
   },
   {
    "duration": 91,
    "start_time": "2021-09-21T14:09:39.702Z"
   },
   {
    "duration": 5,
    "start_time": "2021-09-21T14:09:41.342Z"
   },
   {
    "duration": 1582,
    "start_time": "2021-09-21T14:14:31.908Z"
   },
   {
    "duration": 2207,
    "start_time": "2021-09-21T14:15:05.942Z"
   },
   {
    "duration": 1266,
    "start_time": "2021-09-21T14:15:08.151Z"
   },
   {
    "duration": 3,
    "start_time": "2021-09-21T14:15:09.419Z"
   },
   {
    "duration": 1014,
    "start_time": "2021-09-21T14:15:09.424Z"
   },
   {
    "duration": 919,
    "start_time": "2021-09-21T14:15:10.449Z"
   },
   {
    "duration": 637,
    "start_time": "2021-09-21T14:15:11.370Z"
   },
   {
    "duration": 56,
    "start_time": "2021-09-21T14:15:12.009Z"
   },
   {
    "duration": 295,
    "start_time": "2021-09-21T14:15:12.069Z"
   },
   {
    "duration": 731,
    "start_time": "2021-09-21T14:15:12.366Z"
   },
   {
    "duration": 2,
    "start_time": "2021-09-21T14:15:13.099Z"
   },
   {
    "duration": 87,
    "start_time": "2021-09-21T14:15:13.103Z"
   },
   {
    "duration": 986,
    "start_time": "2021-09-21T14:15:13.192Z"
   },
   {
    "duration": 94,
    "start_time": "2021-09-21T14:15:14.180Z"
   },
   {
    "duration": 1474,
    "start_time": "2021-09-21T14:15:14.276Z"
   },
   {
    "duration": 155,
    "start_time": "2021-09-21T14:15:15.751Z"
   },
   {
    "duration": 3,
    "start_time": "2021-09-21T14:15:15.908Z"
   },
   {
    "duration": 50,
    "start_time": "2021-09-21T14:15:15.913Z"
   },
   {
    "duration": 96,
    "start_time": "2021-09-21T14:15:15.965Z"
   },
   {
    "duration": 3228,
    "start_time": "2021-09-21T14:15:16.065Z"
   },
   {
    "duration": 28,
    "start_time": "2021-09-21T14:15:19.295Z"
   },
   {
    "duration": 740,
    "start_time": "2021-09-21T14:15:19.325Z"
   },
   {
    "duration": 86,
    "start_time": "2021-09-21T14:15:20.067Z"
   },
   {
    "duration": 22,
    "start_time": "2021-09-21T14:16:03.642Z"
   },
   {
    "duration": 408,
    "start_time": "2021-09-21T14:16:38.930Z"
   },
   {
    "duration": 1547,
    "start_time": "2021-09-21T14:16:45.185Z"
   },
   {
    "duration": 26,
    "start_time": "2021-09-21T14:16:57.194Z"
   },
   {
    "duration": 2839,
    "start_time": "2021-09-21T14:17:03.776Z"
   },
   {
    "duration": 1353,
    "start_time": "2021-09-21T14:17:06.617Z"
   },
   {
    "duration": 3,
    "start_time": "2021-09-21T14:17:07.973Z"
   },
   {
    "duration": 950,
    "start_time": "2021-09-21T14:17:07.978Z"
   },
   {
    "duration": 896,
    "start_time": "2021-09-21T14:17:08.931Z"
   },
   {
    "duration": 634,
    "start_time": "2021-09-21T14:17:09.829Z"
   },
   {
    "duration": 52,
    "start_time": "2021-09-21T14:17:10.464Z"
   },
   {
    "duration": 303,
    "start_time": "2021-09-21T14:17:10.518Z"
   },
   {
    "duration": 772,
    "start_time": "2021-09-21T14:17:10.825Z"
   },
   {
    "duration": 2,
    "start_time": "2021-09-21T14:17:11.599Z"
   },
   {
    "duration": 87,
    "start_time": "2021-09-21T14:17:11.603Z"
   },
   {
    "duration": 974,
    "start_time": "2021-09-21T14:17:11.692Z"
   },
   {
    "duration": 95,
    "start_time": "2021-09-21T14:17:12.669Z"
   },
   {
    "duration": 1331,
    "start_time": "2021-09-21T14:17:12.766Z"
   },
   {
    "duration": 48,
    "start_time": "2021-09-21T14:17:14.100Z"
   },
   {
    "duration": 1412,
    "start_time": "2021-09-21T14:17:14.150Z"
   },
   {
    "duration": -1037,
    "start_time": "2021-09-21T14:17:16.601Z"
   },
   {
    "duration": -1037,
    "start_time": "2021-09-21T14:17:16.602Z"
   },
   {
    "duration": -1037,
    "start_time": "2021-09-21T14:17:16.603Z"
   },
   {
    "duration": -1037,
    "start_time": "2021-09-21T14:17:16.604Z"
   },
   {
    "duration": -1038,
    "start_time": "2021-09-21T14:17:16.605Z"
   },
   {
    "duration": -1038,
    "start_time": "2021-09-21T14:17:16.606Z"
   },
   {
    "duration": -1038,
    "start_time": "2021-09-21T14:17:16.607Z"
   },
   {
    "duration": 1111,
    "start_time": "2021-09-21T14:25:06.558Z"
   },
   {
    "duration": 1123,
    "start_time": "2021-09-21T14:25:34.583Z"
   },
   {
    "duration": 1050,
    "start_time": "2021-09-21T14:30:26.852Z"
   },
   {
    "duration": 1059,
    "start_time": "2021-09-21T14:30:46.387Z"
   },
   {
    "duration": 517,
    "start_time": "2021-09-21T14:30:54.642Z"
   },
   {
    "duration": 546,
    "start_time": "2021-09-21T14:31:04.658Z"
   },
   {
    "duration": 591,
    "start_time": "2021-09-21T14:31:11.867Z"
   },
   {
    "duration": 284,
    "start_time": "2021-09-21T14:31:18.746Z"
   },
   {
    "duration": 20,
    "start_time": "2021-09-21T14:31:20.019Z"
   },
   {
    "duration": 105,
    "start_time": "2021-09-21T14:31:43.826Z"
   },
   {
    "duration": 2141,
    "start_time": "2021-09-21T16:53:49.565Z"
   },
   {
    "duration": 1235,
    "start_time": "2021-09-21T16:53:51.708Z"
   },
   {
    "duration": 4,
    "start_time": "2021-09-21T16:53:52.945Z"
   },
   {
    "duration": 902,
    "start_time": "2021-09-21T16:53:52.952Z"
   },
   {
    "duration": 852,
    "start_time": "2021-09-21T16:53:53.856Z"
   },
   {
    "duration": 598,
    "start_time": "2021-09-21T16:53:54.709Z"
   },
   {
    "duration": 55,
    "start_time": "2021-09-21T16:53:55.309Z"
   },
   {
    "duration": 283,
    "start_time": "2021-09-21T16:53:55.366Z"
   },
   {
    "duration": 732,
    "start_time": "2021-09-21T16:53:55.652Z"
   },
   {
    "duration": 3,
    "start_time": "2021-09-21T16:53:56.386Z"
   },
   {
    "duration": 153,
    "start_time": "2021-09-21T16:53:56.390Z"
   },
   {
    "duration": 1052,
    "start_time": "2021-09-21T16:53:56.545Z"
   },
   {
    "duration": 92,
    "start_time": "2021-09-21T16:53:57.599Z"
   },
   {
    "duration": 3,
    "start_time": "2021-09-21T16:53:57.693Z"
   },
   {
    "duration": 7,
    "start_time": "2021-09-21T16:53:57.698Z"
   },
   {
    "duration": 162,
    "start_time": "2021-09-21T16:53:57.707Z"
   },
   {
    "duration": 5,
    "start_time": "2021-09-21T16:53:57.871Z"
   },
   {
    "duration": 40,
    "start_time": "2021-09-21T16:53:57.878Z"
   },
   {
    "duration": 35,
    "start_time": "2021-09-21T16:53:57.920Z"
   },
   {
    "duration": 3441,
    "start_time": "2021-09-21T16:53:57.957Z"
   },
   {
    "duration": 43,
    "start_time": "2021-09-21T16:54:01.400Z"
   },
   {
    "duration": 974,
    "start_time": "2021-09-21T16:54:01.445Z"
   },
   {
    "duration": 130,
    "start_time": "2021-09-21T16:54:02.422Z"
   },
   {
    "duration": 424,
    "start_time": "2021-09-21T16:54:37.426Z"
   },
   {
    "duration": 281,
    "start_time": "2021-09-21T16:57:27.105Z"
   },
   {
    "duration": 28,
    "start_time": "2021-09-21T16:57:30.945Z"
   },
   {
    "duration": 2751,
    "start_time": "2021-09-21T16:57:53.253Z"
   },
   {
    "duration": 1556,
    "start_time": "2021-09-21T16:57:56.007Z"
   },
   {
    "duration": 3,
    "start_time": "2021-09-21T16:57:57.566Z"
   },
   {
    "duration": 1278,
    "start_time": "2021-09-21T16:57:57.571Z"
   },
   {
    "duration": 1281,
    "start_time": "2021-09-21T16:57:58.851Z"
   },
   {
    "duration": 875,
    "start_time": "2021-09-21T16:58:00.134Z"
   },
   {
    "duration": 88,
    "start_time": "2021-09-21T16:58:01.012Z"
   },
   {
    "duration": 527,
    "start_time": "2021-09-21T16:58:01.103Z"
   },
   {
    "duration": 1024,
    "start_time": "2021-09-21T16:58:01.633Z"
   },
   {
    "duration": 3,
    "start_time": "2021-09-21T16:58:02.660Z"
   },
   {
    "duration": 85,
    "start_time": "2021-09-21T16:58:02.665Z"
   },
   {
    "duration": 1035,
    "start_time": "2021-09-21T16:58:02.752Z"
   },
   {
    "duration": 94,
    "start_time": "2021-09-21T16:58:03.789Z"
   },
   {
    "duration": 3,
    "start_time": "2021-09-21T16:58:03.885Z"
   },
   {
    "duration": 6,
    "start_time": "2021-09-21T16:58:03.889Z"
   },
   {
    "duration": 554,
    "start_time": "2021-09-21T16:58:03.897Z"
   },
   {
    "duration": -1106,
    "start_time": "2021-09-21T16:58:05.559Z"
   },
   {
    "duration": -1110,
    "start_time": "2021-09-21T16:58:05.565Z"
   },
   {
    "duration": -1110,
    "start_time": "2021-09-21T16:58:05.566Z"
   },
   {
    "duration": -1110,
    "start_time": "2021-09-21T16:58:05.567Z"
   },
   {
    "duration": -1111,
    "start_time": "2021-09-21T16:58:05.569Z"
   },
   {
    "duration": -1111,
    "start_time": "2021-09-21T16:58:05.570Z"
   },
   {
    "duration": -1112,
    "start_time": "2021-09-21T16:58:05.572Z"
   },
   {
    "duration": -1112,
    "start_time": "2021-09-21T16:58:05.573Z"
   },
   {
    "duration": 495,
    "start_time": "2021-09-21T16:58:51.856Z"
   },
   {
    "duration": 888,
    "start_time": "2021-09-21T16:58:59.695Z"
   },
   {
    "duration": 2,
    "start_time": "2021-09-21T16:59:42.544Z"
   },
   {
    "duration": 245,
    "start_time": "2021-09-21T16:59:44.551Z"
   },
   {
    "duration": 107,
    "start_time": "2021-09-21T16:59:50.351Z"
   },
   {
    "duration": 2148,
    "start_time": "2021-09-21T16:59:55.172Z"
   },
   {
    "duration": 1237,
    "start_time": "2021-09-21T16:59:57.322Z"
   },
   {
    "duration": 2,
    "start_time": "2021-09-21T16:59:58.562Z"
   },
   {
    "duration": 906,
    "start_time": "2021-09-21T16:59:58.566Z"
   },
   {
    "duration": 897,
    "start_time": "2021-09-21T16:59:59.474Z"
   },
   {
    "duration": 636,
    "start_time": "2021-09-21T17:00:00.373Z"
   },
   {
    "duration": 59,
    "start_time": "2021-09-21T17:00:01.010Z"
   },
   {
    "duration": 290,
    "start_time": "2021-09-21T17:00:01.071Z"
   },
   {
    "duration": 713,
    "start_time": "2021-09-21T17:00:01.364Z"
   },
   {
    "duration": 3,
    "start_time": "2021-09-21T17:00:02.079Z"
   },
   {
    "duration": 52,
    "start_time": "2021-09-21T17:00:02.083Z"
   },
   {
    "duration": 138,
    "start_time": "2021-09-21T17:00:02.137Z"
   },
   {
    "duration": 890,
    "start_time": "2021-09-21T17:00:02.277Z"
   },
   {
    "duration": 81,
    "start_time": "2021-09-21T17:00:03.169Z"
   },
   {
    "duration": 3,
    "start_time": "2021-09-21T17:00:03.252Z"
   },
   {
    "duration": 16,
    "start_time": "2021-09-21T17:00:03.257Z"
   },
   {
    "duration": 670,
    "start_time": "2021-09-21T17:00:03.275Z"
   },
   {
    "duration": 125,
    "start_time": "2021-09-21T17:00:03.949Z"
   },
   {
    "duration": 3,
    "start_time": "2021-09-21T17:00:04.076Z"
   },
   {
    "duration": 42,
    "start_time": "2021-09-21T17:00:04.081Z"
   },
   {
    "duration": 124,
    "start_time": "2021-09-21T17:00:04.125Z"
   },
   {
    "duration": 3172,
    "start_time": "2021-09-21T17:00:04.252Z"
   },
   {
    "duration": 40,
    "start_time": "2021-09-21T17:00:07.426Z"
   },
   {
    "duration": 586,
    "start_time": "2021-09-21T17:00:07.468Z"
   },
   {
    "duration": 16,
    "start_time": "2021-09-21T17:00:08.055Z"
   },
   {
    "duration": 645,
    "start_time": "2021-09-21T17:03:30.417Z"
   },
   {
    "duration": 19,
    "start_time": "2021-09-21T17:03:35.136Z"
   },
   {
    "duration": 2149,
    "start_time": "2021-09-21T17:04:01.462Z"
   },
   {
    "duration": 1235,
    "start_time": "2021-09-21T17:04:03.613Z"
   },
   {
    "duration": 4,
    "start_time": "2021-09-21T17:04:04.850Z"
   },
   {
    "duration": 895,
    "start_time": "2021-09-21T17:04:04.856Z"
   },
   {
    "duration": 828,
    "start_time": "2021-09-21T17:04:05.753Z"
   },
   {
    "duration": 581,
    "start_time": "2021-09-21T17:04:06.583Z"
   },
   {
    "duration": 50,
    "start_time": "2021-09-21T17:04:07.166Z"
   },
   {
    "duration": 289,
    "start_time": "2021-09-21T17:04:07.218Z"
   },
   {
    "duration": 699,
    "start_time": "2021-09-21T17:04:07.510Z"
   },
   {
    "duration": 2,
    "start_time": "2021-09-21T17:04:08.212Z"
   },
   {
    "duration": 24,
    "start_time": "2021-09-21T17:04:08.216Z"
   },
   {
    "duration": 114,
    "start_time": "2021-09-21T17:04:08.242Z"
   },
   {
    "duration": 1030,
    "start_time": "2021-09-21T17:04:08.358Z"
   },
   {
    "duration": 75,
    "start_time": "2021-09-21T17:04:09.390Z"
   },
   {
    "duration": 3,
    "start_time": "2021-09-21T17:04:09.466Z"
   },
   {
    "duration": 23,
    "start_time": "2021-09-21T17:04:09.470Z"
   },
   {
    "duration": 672,
    "start_time": "2021-09-21T17:04:09.495Z"
   },
   {
    "duration": 19,
    "start_time": "2021-09-21T17:04:10.169Z"
   },
   {
    "duration": 1090,
    "start_time": "2021-09-21T17:04:10.189Z"
   },
   {
    "duration": 3,
    "start_time": "2021-09-21T17:04:11.281Z"
   },
   {
    "duration": 5063,
    "start_time": "2021-09-21T17:04:11.286Z"
   },
   {
    "duration": 204,
    "start_time": "2021-09-21T17:04:16.351Z"
   },
   {
    "duration": 4682,
    "start_time": "2021-09-21T17:04:16.559Z"
   },
   {
    "duration": 41,
    "start_time": "2021-09-21T17:04:21.243Z"
   },
   {
    "duration": 3867,
    "start_time": "2021-09-21T17:04:21.286Z"
   },
   {
    "duration": 97,
    "start_time": "2021-09-21T17:04:25.155Z"
   },
   {
    "duration": 232001,
    "start_time": "2021-09-21T17:04:25.256Z"
   },
   {
    "duration": 1390,
    "start_time": "2021-09-21T17:08:17.259Z"
   },
   {
    "duration": 171801,
    "start_time": "2021-09-21T17:08:18.651Z"
   },
   {
    "duration": 635,
    "start_time": "2021-09-21T17:14:57.331Z"
   },
   {
    "duration": 90,
    "start_time": "2021-09-21T17:15:43.002Z"
   },
   {
    "duration": 19,
    "start_time": "2021-09-21T17:16:16.883Z"
   },
   {
    "duration": 169089,
    "start_time": "2021-09-21T17:17:27.362Z"
   },
   {
    "duration": 93,
    "start_time": "2021-09-21T17:22:07.967Z"
   },
   {
    "duration": 102,
    "start_time": "2021-09-21T17:22:26.550Z"
   },
   {
    "duration": 1328,
    "start_time": "2021-09-21T17:22:30.382Z"
   },
   {
    "duration": 331,
    "start_time": "2021-09-21T17:22:48.216Z"
   },
   {
    "duration": 259,
    "start_time": "2021-09-21T17:23:02.935Z"
   },
   {
    "duration": 251,
    "start_time": "2021-09-21T17:23:09.958Z"
   },
   {
    "duration": 929,
    "start_time": "2021-09-21T17:25:02.620Z"
   },
   {
    "duration": 181,
    "start_time": "2021-09-21T17:25:20.837Z"
   },
   {
    "duration": 556,
    "start_time": "2021-09-21T17:27:27.104Z"
   },
   {
    "duration": 848,
    "start_time": "2021-09-21T17:27:35.252Z"
   },
   {
    "duration": 501,
    "start_time": "2021-09-21T17:28:54.836Z"
   },
   {
    "duration": 297,
    "start_time": "2021-09-21T17:30:01.372Z"
   },
   {
    "duration": 176,
    "start_time": "2021-09-21T17:30:31.410Z"
   },
   {
    "duration": 2127,
    "start_time": "2021-09-21T17:30:57.781Z"
   },
   {
    "duration": 1577,
    "start_time": "2021-09-21T17:30:59.911Z"
   },
   {
    "duration": 2,
    "start_time": "2021-09-21T17:31:01.494Z"
   },
   {
    "duration": 869,
    "start_time": "2021-09-21T17:31:01.498Z"
   },
   {
    "duration": 808,
    "start_time": "2021-09-21T17:31:02.369Z"
   },
   {
    "duration": 572,
    "start_time": "2021-09-21T17:31:03.178Z"
   },
   {
    "duration": 50,
    "start_time": "2021-09-21T17:31:03.751Z"
   },
   {
    "duration": 275,
    "start_time": "2021-09-21T17:31:03.804Z"
   },
   {
    "duration": 695,
    "start_time": "2021-09-21T17:31:04.082Z"
   },
   {
    "duration": 2,
    "start_time": "2021-09-21T17:31:04.779Z"
   },
   {
    "duration": 7,
    "start_time": "2021-09-21T17:31:04.783Z"
   },
   {
    "duration": 118,
    "start_time": "2021-09-21T17:31:04.791Z"
   },
   {
    "duration": 975,
    "start_time": "2021-09-21T17:31:04.911Z"
   },
   {
    "duration": 193,
    "start_time": "2021-09-21T17:31:05.888Z"
   },
   {
    "duration": 2,
    "start_time": "2021-09-21T17:31:06.082Z"
   },
   {
    "duration": 631,
    "start_time": "2021-09-21T17:31:06.085Z"
   },
   {
    "duration": 17,
    "start_time": "2021-09-21T17:31:06.718Z"
   },
   {
    "duration": 1072,
    "start_time": "2021-09-21T17:31:06.736Z"
   },
   {
    "duration": 3,
    "start_time": "2021-09-21T17:31:07.810Z"
   },
   {
    "duration": 4635,
    "start_time": "2021-09-21T17:31:07.814Z"
   },
   {
    "duration": 202,
    "start_time": "2021-09-21T17:31:12.452Z"
   },
   {
    "duration": 4600,
    "start_time": "2021-09-21T17:31:12.656Z"
   },
   {
    "duration": 23,
    "start_time": "2021-09-21T17:31:17.258Z"
   },
   {
    "duration": 4571,
    "start_time": "2021-09-21T17:31:17.283Z"
   },
   {
    "duration": 100,
    "start_time": "2021-09-21T17:31:21.856Z"
   },
   {
    "duration": 329,
    "start_time": "2021-09-21T17:31:21.960Z"
   },
   {
    "duration": 188,
    "start_time": "2021-09-21T17:31:26.950Z"
   },
   {
    "duration": 280,
    "start_time": "2021-09-21T17:31:31.657Z"
   },
   {
    "duration": -1127,
    "start_time": "2021-09-21T17:31:46.316Z"
   },
   {
    "duration": 168,
    "start_time": "2021-09-21T17:31:48.592Z"
   },
   {
    "duration": 333,
    "start_time": "2021-09-21T17:31:57.599Z"
   },
   {
    "duration": 193,
    "start_time": "2021-09-21T17:32:03.088Z"
   },
   {
    "duration": 170,
    "start_time": "2021-09-21T17:32:08.175Z"
   },
   {
    "duration": 190,
    "start_time": "2021-09-21T17:32:12.895Z"
   },
   {
    "duration": 322,
    "start_time": "2021-09-21T17:32:23.208Z"
   },
   {
    "duration": 316,
    "start_time": "2021-09-21T17:32:37.729Z"
   },
   {
    "duration": 335,
    "start_time": "2021-09-21T17:32:45.024Z"
   },
   {
    "duration": 202,
    "start_time": "2021-09-21T17:32:49.176Z"
   },
   {
    "duration": 185,
    "start_time": "2021-09-21T17:32:52.816Z"
   },
   {
    "duration": 172,
    "start_time": "2021-09-21T17:32:55.655Z"
   },
   {
    "duration": 183,
    "start_time": "2021-09-21T17:32:58.560Z"
   },
   {
    "duration": 170,
    "start_time": "2021-09-21T17:33:19.311Z"
   },
   {
    "duration": 195,
    "start_time": "2021-09-21T17:33:28.487Z"
   },
   {
    "duration": 286,
    "start_time": "2021-09-21T17:33:51.344Z"
   },
   {
    "duration": 283,
    "start_time": "2021-09-21T17:33:56.391Z"
   },
   {
    "duration": 288,
    "start_time": "2021-09-21T17:34:05.813Z"
   },
   {
    "duration": 284,
    "start_time": "2021-09-21T17:34:15.816Z"
   },
   {
    "duration": 286,
    "start_time": "2021-09-21T17:34:40.408Z"
   },
   {
    "duration": 280,
    "start_time": "2021-09-21T17:35:20.079Z"
   },
   {
    "duration": 279,
    "start_time": "2021-09-21T17:35:23.942Z"
   },
   {
    "duration": 338,
    "start_time": "2021-09-21T17:35:49.543Z"
   },
   {
    "duration": 211,
    "start_time": "2021-09-21T17:35:50.526Z"
   },
   {
    "duration": 196,
    "start_time": "2021-09-21T17:35:51.429Z"
   },
   {
    "duration": 198,
    "start_time": "2021-09-21T17:38:34.565Z"
   },
   {
    "duration": 214,
    "start_time": "2021-09-21T17:38:59.852Z"
   },
   {
    "duration": 201,
    "start_time": "2021-09-21T17:39:06.861Z"
   },
   {
    "duration": 210,
    "start_time": "2021-09-21T17:39:11.348Z"
   },
   {
    "duration": 205,
    "start_time": "2021-09-21T17:39:27.090Z"
   },
   {
    "duration": 201,
    "start_time": "2021-09-21T17:40:04.916Z"
   },
   {
    "duration": 237,
    "start_time": "2021-09-21T17:40:41.594Z"
   },
   {
    "duration": 222,
    "start_time": "2021-09-21T17:40:52.115Z"
   },
   {
    "duration": 225,
    "start_time": "2021-09-21T17:41:03.251Z"
   },
   {
    "duration": 224,
    "start_time": "2021-09-21T17:41:14.539Z"
   },
   {
    "duration": 214,
    "start_time": "2021-09-21T17:41:21.554Z"
   },
   {
    "duration": 80,
    "start_time": "2021-09-21T17:41:59.795Z"
   },
   {
    "duration": 39,
    "start_time": "2021-09-21T17:44:08.513Z"
   },
   {
    "duration": 41,
    "start_time": "2021-09-21T17:44:21.314Z"
   },
   {
    "duration": 290,
    "start_time": "2021-09-21T17:44:22.490Z"
   },
   {
    "duration": 28,
    "start_time": "2021-09-21T17:44:38.137Z"
   },
   {
    "duration": 294,
    "start_time": "2021-09-21T17:44:38.633Z"
   },
   {
    "duration": 10,
    "start_time": "2021-09-21T17:44:44.259Z"
   },
   {
    "duration": 173,
    "start_time": "2021-09-21T17:44:44.721Z"
   },
   {
    "duration": 7,
    "start_time": "2021-09-21T17:44:53.961Z"
   },
   {
    "duration": 188,
    "start_time": "2021-09-21T17:44:54.408Z"
   },
   {
    "duration": 8,
    "start_time": "2021-09-21T17:45:00.617Z"
   },
   {
    "duration": 191,
    "start_time": "2021-09-21T17:45:02.009Z"
   },
   {
    "duration": 7,
    "start_time": "2021-09-21T17:45:09.640Z"
   },
   {
    "duration": 421,
    "start_time": "2021-09-21T17:45:09.907Z"
   },
   {
    "duration": 10,
    "start_time": "2021-09-21T17:45:16.721Z"
   },
   {
    "duration": 286,
    "start_time": "2021-09-21T17:45:16.945Z"
   },
   {
    "duration": 10,
    "start_time": "2021-09-21T17:45:21.217Z"
   },
   {
    "duration": 270,
    "start_time": "2021-09-21T17:45:21.384Z"
   },
   {
    "duration": 2680,
    "start_time": "2021-09-21T17:45:27.296Z"
   },
   {
    "duration": 1279,
    "start_time": "2021-09-21T17:45:29.987Z"
   },
   {
    "duration": 3,
    "start_time": "2021-09-21T17:45:31.268Z"
   },
   {
    "duration": 1170,
    "start_time": "2021-09-21T17:45:31.273Z"
   },
   {
    "duration": 1070,
    "start_time": "2021-09-21T17:45:32.449Z"
   },
   {
    "duration": 684,
    "start_time": "2021-09-21T17:45:33.521Z"
   },
   {
    "duration": 52,
    "start_time": "2021-09-21T17:45:34.207Z"
   },
   {
    "duration": 310,
    "start_time": "2021-09-21T17:45:34.262Z"
   },
   {
    "duration": 821,
    "start_time": "2021-09-21T17:45:34.574Z"
   },
   {
    "duration": 2,
    "start_time": "2021-09-21T17:45:35.398Z"
   },
   {
    "duration": 10,
    "start_time": "2021-09-21T17:45:35.402Z"
   },
   {
    "duration": 112,
    "start_time": "2021-09-21T17:45:35.414Z"
   },
   {
    "duration": 965,
    "start_time": "2021-09-21T17:45:35.527Z"
   },
   {
    "duration": 241,
    "start_time": "2021-09-21T17:45:36.494Z"
   },
   {
    "duration": 225,
    "start_time": "2021-09-21T17:45:36.737Z"
   },
   {
    "duration": 226,
    "start_time": "2021-09-21T17:45:36.964Z"
   },
   {
    "duration": 29,
    "start_time": "2021-09-21T17:45:37.192Z"
   },
   {
    "duration": 309,
    "start_time": "2021-09-21T17:45:37.223Z"
   },
   {
    "duration": 2,
    "start_time": "2021-09-21T17:45:37.534Z"
   },
   {
    "duration": 466,
    "start_time": "2021-09-21T17:45:37.537Z"
   },
   {
    "duration": 19,
    "start_time": "2021-09-21T17:45:38.005Z"
   },
   {
    "duration": 790,
    "start_time": "2021-09-21T17:45:38.026Z"
   },
   {
    "duration": 3,
    "start_time": "2021-09-21T17:45:38.819Z"
   },
   {
    "duration": 3129,
    "start_time": "2021-09-21T17:45:38.823Z"
   },
   {
    "duration": 295,
    "start_time": "2021-09-21T17:45:41.954Z"
   },
   {
    "duration": 3564,
    "start_time": "2021-09-21T17:45:42.251Z"
   },
   {
    "duration": 33,
    "start_time": "2021-09-21T17:45:45.817Z"
   },
   {
    "duration": 2002,
    "start_time": "2021-09-21T17:45:45.851Z"
   },
   {
    "duration": 100,
    "start_time": "2021-09-21T17:45:47.855Z"
   },
   {
    "duration": 112,
    "start_time": "2021-09-21T17:45:47.958Z"
   },
   {
    "duration": 218,
    "start_time": "2021-09-21T17:45:48.072Z"
   },
   {
    "duration": 291,
    "start_time": "2021-09-21T17:45:58.808Z"
   },
   {
    "duration": 227,
    "start_time": "2021-09-21T17:46:00.248Z"
   },
   {
    "duration": 211,
    "start_time": "2021-09-21T17:46:25.135Z"
   },
   {
    "duration": 209,
    "start_time": "2021-09-21T17:46:26.479Z"
   },
   {
    "duration": 205,
    "start_time": "2021-09-21T17:46:36.323Z"
   },
   {
    "duration": 93,
    "start_time": "2021-09-21T17:48:03.350Z"
   },
   {
    "duration": 146,
    "start_time": "2021-09-21T17:48:21.342Z"
   },
   {
    "duration": 11,
    "start_time": "2021-09-21T17:48:40.926Z"
   },
   {
    "duration": 138,
    "start_time": "2021-09-21T17:48:43.470Z"
   },
   {
    "duration": 9,
    "start_time": "2021-09-21T17:48:52.174Z"
   },
   {
    "duration": 134,
    "start_time": "2021-09-21T17:48:53.974Z"
   },
   {
    "duration": 132,
    "start_time": "2021-09-21T17:49:18.522Z"
   },
   {
    "duration": 156,
    "start_time": "2021-09-21T17:49:28.645Z"
   },
   {
    "duration": 134,
    "start_time": "2021-09-21T17:49:36.982Z"
   },
   {
    "duration": 8,
    "start_time": "2021-09-21T17:49:49.205Z"
   },
   {
    "duration": 225,
    "start_time": "2021-09-21T17:49:49.500Z"
   },
   {
    "duration": 136,
    "start_time": "2021-09-21T17:49:49.910Z"
   },
   {
    "duration": 130,
    "start_time": "2021-09-21T17:49:58.461Z"
   },
   {
    "duration": 125,
    "start_time": "2021-09-21T17:50:12.325Z"
   },
   {
    "duration": 2213,
    "start_time": "2021-09-21T17:51:44.477Z"
   },
   {
    "duration": 1146,
    "start_time": "2021-09-21T17:51:46.692Z"
   },
   {
    "duration": 3,
    "start_time": "2021-09-21T17:51:47.841Z"
   },
   {
    "duration": 833,
    "start_time": "2021-09-21T17:51:47.849Z"
   },
   {
    "duration": 799,
    "start_time": "2021-09-21T17:51:48.684Z"
   },
   {
    "duration": 708,
    "start_time": "2021-09-21T17:51:49.485Z"
   },
   {
    "duration": -40,
    "start_time": "2021-09-21T17:51:50.235Z"
   },
   {
    "duration": -40,
    "start_time": "2021-09-21T17:51:50.236Z"
   },
   {
    "duration": -41,
    "start_time": "2021-09-21T17:51:50.238Z"
   },
   {
    "duration": -43,
    "start_time": "2021-09-21T17:51:50.241Z"
   },
   {
    "duration": -43,
    "start_time": "2021-09-21T17:51:50.242Z"
   },
   {
    "duration": -44,
    "start_time": "2021-09-21T17:51:50.243Z"
   },
   {
    "duration": -45,
    "start_time": "2021-09-21T17:51:50.245Z"
   },
   {
    "duration": -46,
    "start_time": "2021-09-21T17:51:50.247Z"
   },
   {
    "duration": -46,
    "start_time": "2021-09-21T17:51:50.248Z"
   },
   {
    "duration": -46,
    "start_time": "2021-09-21T17:51:50.249Z"
   },
   {
    "duration": -46,
    "start_time": "2021-09-21T17:51:50.251Z"
   },
   {
    "duration": -47,
    "start_time": "2021-09-21T17:51:50.252Z"
   },
   {
    "duration": -47,
    "start_time": "2021-09-21T17:51:50.253Z"
   },
   {
    "duration": -51,
    "start_time": "2021-09-21T17:51:50.258Z"
   },
   {
    "duration": -51,
    "start_time": "2021-09-21T17:51:50.259Z"
   },
   {
    "duration": -52,
    "start_time": "2021-09-21T17:51:50.261Z"
   },
   {
    "duration": -52,
    "start_time": "2021-09-21T17:51:50.262Z"
   },
   {
    "duration": -52,
    "start_time": "2021-09-21T17:51:50.263Z"
   },
   {
    "duration": -52,
    "start_time": "2021-09-21T17:51:50.264Z"
   },
   {
    "duration": -52,
    "start_time": "2021-09-21T17:51:50.265Z"
   },
   {
    "duration": -53,
    "start_time": "2021-09-21T17:51:50.267Z"
   },
   {
    "duration": -53,
    "start_time": "2021-09-21T17:51:50.268Z"
   },
   {
    "duration": -53,
    "start_time": "2021-09-21T17:51:50.269Z"
   },
   {
    "duration": -53,
    "start_time": "2021-09-21T17:51:50.270Z"
   },
   {
    "duration": -53,
    "start_time": "2021-09-21T17:51:50.271Z"
   },
   {
    "duration": 2074,
    "start_time": "2021-09-21T17:52:02.790Z"
   },
   {
    "duration": 1339,
    "start_time": "2021-09-21T17:52:04.867Z"
   },
   {
    "duration": 3,
    "start_time": "2021-09-21T17:52:06.208Z"
   },
   {
    "duration": 993,
    "start_time": "2021-09-21T17:52:06.213Z"
   },
   {
    "duration": 948,
    "start_time": "2021-09-21T17:52:07.207Z"
   },
   {
    "duration": 602,
    "start_time": "2021-09-21T17:52:08.157Z"
   },
   {
    "duration": 46,
    "start_time": "2021-09-21T17:52:08.761Z"
   },
   {
    "duration": 273,
    "start_time": "2021-09-21T17:52:08.808Z"
   },
   {
    "duration": 676,
    "start_time": "2021-09-21T17:52:09.083Z"
   },
   {
    "duration": 3,
    "start_time": "2021-09-21T17:52:09.761Z"
   },
   {
    "duration": 8,
    "start_time": "2021-09-21T17:52:09.765Z"
   },
   {
    "duration": 121,
    "start_time": "2021-09-21T17:52:09.775Z"
   },
   {
    "duration": 909,
    "start_time": "2021-09-21T17:52:09.898Z"
   },
   {
    "duration": 237,
    "start_time": "2021-09-21T17:52:10.808Z"
   },
   {
    "duration": 234,
    "start_time": "2021-09-21T17:52:11.047Z"
   },
   {
    "duration": 273,
    "start_time": "2021-09-21T17:52:11.283Z"
   },
   {
    "duration": 13,
    "start_time": "2021-09-21T17:52:11.558Z"
   },
   {
    "duration": 228,
    "start_time": "2021-09-21T17:52:11.572Z"
   },
   {
    "duration": 138,
    "start_time": "2021-09-21T17:52:11.802Z"
   },
   {
    "duration": 141,
    "start_time": "2021-09-21T17:52:11.942Z"
   },
   {
    "duration": 2,
    "start_time": "2021-09-21T17:52:12.085Z"
   },
   {
    "duration": 409,
    "start_time": "2021-09-21T17:52:12.089Z"
   },
   {
    "duration": -25,
    "start_time": "2021-09-21T17:52:12.525Z"
   },
   {
    "duration": -25,
    "start_time": "2021-09-21T17:52:12.526Z"
   },
   {
    "duration": -25,
    "start_time": "2021-09-21T17:52:12.527Z"
   },
   {
    "duration": -25,
    "start_time": "2021-09-21T17:52:12.528Z"
   },
   {
    "duration": -24,
    "start_time": "2021-09-21T17:52:12.529Z"
   },
   {
    "duration": -26,
    "start_time": "2021-09-21T17:52:12.531Z"
   },
   {
    "duration": -26,
    "start_time": "2021-09-21T17:52:12.532Z"
   },
   {
    "duration": -26,
    "start_time": "2021-09-21T17:52:12.533Z"
   },
   {
    "duration": -25,
    "start_time": "2021-09-21T17:52:12.534Z"
   },
   {
    "duration": -28,
    "start_time": "2021-09-21T17:52:12.538Z"
   },
   {
    "duration": -28,
    "start_time": "2021-09-21T17:52:12.539Z"
   },
   {
    "duration": -29,
    "start_time": "2021-09-21T17:52:12.541Z"
   },
   {
    "duration": 27,
    "start_time": "2021-09-21T17:53:58.485Z"
   },
   {
    "duration": 7,
    "start_time": "2021-09-21T17:53:59.901Z"
   },
   {
    "duration": 6,
    "start_time": "2021-09-21T17:54:06.500Z"
   },
   {
    "duration": 3,
    "start_time": "2021-09-21T17:55:16.619Z"
   },
   {
    "duration": 274,
    "start_time": "2021-09-21T17:55:17.443Z"
   },
   {
    "duration": 10,
    "start_time": "2021-09-21T17:55:39.714Z"
   },
   {
    "duration": 209,
    "start_time": "2021-09-21T17:55:40.323Z"
   },
   {
    "duration": 201,
    "start_time": "2021-09-21T17:55:44.291Z"
   },
   {
    "duration": 207,
    "start_time": "2021-09-21T17:55:45.507Z"
   },
   {
    "duration": 3,
    "start_time": "2021-09-21T17:55:49.738Z"
   },
   {
    "duration": 264,
    "start_time": "2021-09-21T17:55:50.332Z"
   },
   {
    "duration": 2,
    "start_time": "2021-09-21T17:57:17.755Z"
   },
   {
    "duration": 135,
    "start_time": "2021-09-21T17:57:18.090Z"
   },
   {
    "duration": 140,
    "start_time": "2021-09-21T17:57:19.098Z"
   },
   {
    "duration": 137,
    "start_time": "2021-09-21T17:57:19.681Z"
   },
   {
    "duration": 2,
    "start_time": "2021-09-21T17:57:21.730Z"
   },
   {
    "duration": 246,
    "start_time": "2021-09-21T17:57:22.051Z"
   },
   {
    "duration": 2755,
    "start_time": "2021-09-21T17:57:27.449Z"
   },
   {
    "duration": 1256,
    "start_time": "2021-09-21T17:57:30.206Z"
   },
   {
    "duration": 3,
    "start_time": "2021-09-21T17:57:31.464Z"
   },
   {
    "duration": 863,
    "start_time": "2021-09-21T17:57:31.469Z"
   },
   {
    "duration": 898,
    "start_time": "2021-09-21T17:57:32.334Z"
   },
   {
    "duration": 607,
    "start_time": "2021-09-21T17:57:33.234Z"
   },
   {
    "duration": 64,
    "start_time": "2021-09-21T17:57:33.843Z"
   },
   {
    "duration": 441,
    "start_time": "2021-09-21T17:57:33.910Z"
   },
   {
    "duration": 810,
    "start_time": "2021-09-21T17:57:34.355Z"
   },
   {
    "duration": 6,
    "start_time": "2021-09-21T17:57:35.169Z"
   },
   {
    "duration": 28,
    "start_time": "2021-09-21T17:57:35.178Z"
   },
   {
    "duration": 154,
    "start_time": "2021-09-21T17:57:35.208Z"
   },
   {
    "duration": 977,
    "start_time": "2021-09-21T17:57:35.364Z"
   },
   {
    "duration": 279,
    "start_time": "2021-09-21T17:57:36.343Z"
   },
   {
    "duration": 274,
    "start_time": "2021-09-21T17:57:36.624Z"
   },
   {
    "duration": 265,
    "start_time": "2021-09-21T17:57:36.899Z"
   },
   {
    "duration": 3,
    "start_time": "2021-09-21T17:57:37.166Z"
   },
   {
    "duration": 310,
    "start_time": "2021-09-21T17:57:37.171Z"
   },
   {
    "duration": 186,
    "start_time": "2021-09-21T17:57:37.483Z"
   },
   {
    "duration": 147,
    "start_time": "2021-09-21T17:57:37.671Z"
   },
   {
    "duration": 3,
    "start_time": "2021-09-21T17:57:37.820Z"
   },
   {
    "duration": 634,
    "start_time": "2021-09-21T17:57:37.825Z"
   },
   {
    "duration": 19,
    "start_time": "2021-09-21T17:57:38.461Z"
   },
   {
    "duration": 1082,
    "start_time": "2021-09-21T17:57:38.482Z"
   },
   {
    "duration": 4,
    "start_time": "2021-09-21T17:57:39.566Z"
   },
   {
    "duration": 4578,
    "start_time": "2021-09-21T17:57:39.572Z"
   },
   {
    "duration": 106,
    "start_time": "2021-09-21T17:57:44.153Z"
   },
   {
    "duration": 4658,
    "start_time": "2021-09-21T17:57:44.262Z"
   },
   {
    "duration": 46,
    "start_time": "2021-09-21T17:57:48.921Z"
   },
   {
    "duration": 3458,
    "start_time": "2021-09-21T17:57:48.969Z"
   },
   {
    "duration": 123,
    "start_time": "2021-09-21T17:57:52.429Z"
   },
   {
    "duration": 2130,
    "start_time": "2021-09-21T17:59:06.265Z"
   },
   {
    "duration": 1247,
    "start_time": "2021-09-21T17:59:08.397Z"
   },
   {
    "duration": 3,
    "start_time": "2021-09-21T17:59:09.646Z"
   },
   {
    "duration": 845,
    "start_time": "2021-09-21T17:59:09.650Z"
   },
   {
    "duration": 823,
    "start_time": "2021-09-21T17:59:10.497Z"
   },
   {
    "duration": 815,
    "start_time": "2021-09-21T17:59:11.322Z"
   },
   {
    "duration": 88,
    "start_time": "2021-09-21T17:59:12.140Z"
   },
   {
    "duration": 433,
    "start_time": "2021-09-21T17:59:12.231Z"
   },
   {
    "duration": 987,
    "start_time": "2021-09-21T17:59:12.666Z"
   },
   {
    "duration": 3,
    "start_time": "2021-09-21T17:59:13.655Z"
   },
   {
    "duration": 7,
    "start_time": "2021-09-21T17:59:13.660Z"
   },
   {
    "duration": 119,
    "start_time": "2021-09-21T17:59:13.669Z"
   },
   {
    "duration": 969,
    "start_time": "2021-09-21T17:59:13.790Z"
   },
   {
    "duration": 241,
    "start_time": "2021-09-21T17:59:14.761Z"
   },
   {
    "duration": 240,
    "start_time": "2021-09-21T17:59:15.004Z"
   },
   {
    "duration": 226,
    "start_time": "2021-09-21T17:59:15.246Z"
   },
   {
    "duration": 13,
    "start_time": "2021-09-21T17:59:15.474Z"
   },
   {
    "duration": 216,
    "start_time": "2021-09-21T17:59:15.489Z"
   },
   {
    "duration": 133,
    "start_time": "2021-09-21T17:59:15.707Z"
   },
   {
    "duration": 134,
    "start_time": "2021-09-21T17:59:15.842Z"
   },
   {
    "duration": 3,
    "start_time": "2021-09-21T17:59:15.978Z"
   },
   {
    "duration": 343,
    "start_time": "2021-09-21T17:59:15.984Z"
   },
   {
    "duration": -35,
    "start_time": "2021-09-21T17:59:16.364Z"
   },
   {
    "duration": -35,
    "start_time": "2021-09-21T17:59:16.365Z"
   },
   {
    "duration": -35,
    "start_time": "2021-09-21T17:59:16.366Z"
   },
   {
    "duration": -36,
    "start_time": "2021-09-21T17:59:16.368Z"
   },
   {
    "duration": -40,
    "start_time": "2021-09-21T17:59:16.373Z"
   },
   {
    "duration": -41,
    "start_time": "2021-09-21T17:59:16.374Z"
   },
   {
    "duration": -41,
    "start_time": "2021-09-21T17:59:16.375Z"
   },
   {
    "duration": -42,
    "start_time": "2021-09-21T17:59:16.377Z"
   },
   {
    "duration": -42,
    "start_time": "2021-09-21T17:59:16.378Z"
   },
   {
    "duration": -42,
    "start_time": "2021-09-21T17:59:16.379Z"
   },
   {
    "duration": -42,
    "start_time": "2021-09-21T17:59:16.380Z"
   },
   {
    "duration": -42,
    "start_time": "2021-09-21T17:59:16.381Z"
   },
   {
    "duration": 7,
    "start_time": "2021-09-21T17:59:57.203Z"
   },
   {
    "duration": 128,
    "start_time": "2021-09-21T17:59:57.595Z"
   },
   {
    "duration": 137,
    "start_time": "2021-09-21T17:59:58.548Z"
   },
   {
    "duration": 126,
    "start_time": "2021-09-21T17:59:59.340Z"
   },
   {
    "duration": 2,
    "start_time": "2021-09-21T18:00:01.939Z"
   },
   {
    "duration": 284,
    "start_time": "2021-09-21T18:00:02.679Z"
   },
   {
    "duration": 8,
    "start_time": "2021-09-21T18:00:18.867Z"
   },
   {
    "duration": 140,
    "start_time": "2021-09-21T18:00:19.396Z"
   },
   {
    "duration": 7,
    "start_time": "2021-09-21T18:00:36.764Z"
   },
   {
    "duration": 138,
    "start_time": "2021-09-21T18:00:36.971Z"
   },
   {
    "duration": 2220,
    "start_time": "2021-09-21T18:00:42.300Z"
   },
   {
    "duration": 1289,
    "start_time": "2021-09-21T18:00:44.522Z"
   },
   {
    "duration": 2,
    "start_time": "2021-09-21T18:00:45.816Z"
   },
   {
    "duration": 888,
    "start_time": "2021-09-21T18:00:45.820Z"
   },
   {
    "duration": 904,
    "start_time": "2021-09-21T18:00:46.710Z"
   },
   {
    "duration": 618,
    "start_time": "2021-09-21T18:00:47.616Z"
   },
   {
    "duration": 57,
    "start_time": "2021-09-21T18:00:48.236Z"
   },
   {
    "duration": 434,
    "start_time": "2021-09-21T18:00:48.295Z"
   },
   {
    "duration": 746,
    "start_time": "2021-09-21T18:00:48.731Z"
   },
   {
    "duration": 3,
    "start_time": "2021-09-21T18:00:49.480Z"
   },
   {
    "duration": 23,
    "start_time": "2021-09-21T18:00:49.484Z"
   },
   {
    "duration": 119,
    "start_time": "2021-09-21T18:00:49.509Z"
   },
   {
    "duration": 955,
    "start_time": "2021-09-21T18:00:49.629Z"
   },
   {
    "duration": 235,
    "start_time": "2021-09-21T18:00:50.586Z"
   },
   {
    "duration": 229,
    "start_time": "2021-09-21T18:00:50.822Z"
   },
   {
    "duration": 229,
    "start_time": "2021-09-21T18:00:51.053Z"
   },
   {
    "duration": 29,
    "start_time": "2021-09-21T18:00:51.284Z"
   },
   {
    "duration": 237,
    "start_time": "2021-09-21T18:00:51.315Z"
   },
   {
    "duration": 165,
    "start_time": "2021-09-21T18:00:51.554Z"
   },
   {
    "duration": 144,
    "start_time": "2021-09-21T18:00:51.721Z"
   },
   {
    "duration": 3,
    "start_time": "2021-09-21T18:00:51.867Z"
   },
   {
    "duration": 583,
    "start_time": "2021-09-21T18:00:51.872Z"
   },
   {
    "duration": 28,
    "start_time": "2021-09-21T18:00:52.458Z"
   },
   {
    "duration": 804,
    "start_time": "2021-09-21T18:00:52.488Z"
   },
   {
    "duration": 4,
    "start_time": "2021-09-21T18:00:53.294Z"
   },
   {
    "duration": 2752,
    "start_time": "2021-09-21T18:00:53.303Z"
   },
   {
    "duration": 195,
    "start_time": "2021-09-21T18:00:56.057Z"
   },
   {
    "duration": 3526,
    "start_time": "2021-09-21T18:00:56.254Z"
   },
   {
    "duration": 29,
    "start_time": "2021-09-21T18:00:59.783Z"
   },
   {
    "duration": 1460,
    "start_time": "2021-09-21T18:00:59.814Z"
   },
   {
    "duration": 82,
    "start_time": "2021-09-21T18:01:01.276Z"
   },
   {
    "duration": 203307,
    "start_time": "2021-09-21T18:01:01.450Z"
   },
   {
    "duration": 902,
    "start_time": "2021-09-21T18:04:24.759Z"
   },
   {
    "duration": 2128,
    "start_time": "2021-09-21T18:06:10.477Z"
   },
   {
    "duration": 1552,
    "start_time": "2021-09-21T18:06:12.607Z"
   },
   {
    "duration": 3,
    "start_time": "2021-09-21T18:06:14.165Z"
   },
   {
    "duration": 928,
    "start_time": "2021-09-21T18:06:14.170Z"
   },
   {
    "duration": 789,
    "start_time": "2021-09-21T18:06:15.100Z"
   },
   {
    "duration": 559,
    "start_time": "2021-09-21T18:06:15.891Z"
   },
   {
    "duration": 47,
    "start_time": "2021-09-21T18:06:16.454Z"
   },
   {
    "duration": 282,
    "start_time": "2021-09-21T18:06:16.504Z"
   },
   {
    "duration": 681,
    "start_time": "2021-09-21T18:06:16.788Z"
   },
   {
    "duration": 2,
    "start_time": "2021-09-21T18:06:17.471Z"
   },
   {
    "duration": 9,
    "start_time": "2021-09-21T18:06:17.474Z"
   },
   {
    "duration": 117,
    "start_time": "2021-09-21T18:06:17.485Z"
   },
   {
    "duration": 980,
    "start_time": "2021-09-21T18:06:17.604Z"
   },
   {
    "duration": 231,
    "start_time": "2021-09-21T18:06:18.586Z"
   },
   {
    "duration": 243,
    "start_time": "2021-09-21T18:06:18.820Z"
   },
   {
    "duration": 228,
    "start_time": "2021-09-21T18:06:19.065Z"
   },
   {
    "duration": 30,
    "start_time": "2021-09-21T18:06:19.295Z"
   },
   {
    "duration": 245,
    "start_time": "2021-09-21T18:06:19.326Z"
   },
   {
    "duration": 158,
    "start_time": "2021-09-21T18:06:19.573Z"
   },
   {
    "duration": 150,
    "start_time": "2021-09-21T18:06:19.733Z"
   },
   {
    "duration": 3,
    "start_time": "2021-09-21T18:06:19.885Z"
   },
   {
    "duration": 414,
    "start_time": "2021-09-21T18:06:19.891Z"
   },
   {
    "duration": 19,
    "start_time": "2021-09-21T18:06:20.307Z"
   },
   {
    "duration": 683,
    "start_time": "2021-09-21T18:06:20.328Z"
   },
   {
    "duration": 3,
    "start_time": "2021-09-21T18:06:21.013Z"
   },
   {
    "duration": 2637,
    "start_time": "2021-09-21T18:06:21.018Z"
   },
   {
    "duration": 101,
    "start_time": "2021-09-21T18:06:23.656Z"
   },
   {
    "duration": 3517,
    "start_time": "2021-09-21T18:06:23.759Z"
   },
   {
    "duration": 40,
    "start_time": "2021-09-21T18:06:27.278Z"
   },
   {
    "duration": 1316,
    "start_time": "2021-09-21T18:06:27.320Z"
   },
   {
    "duration": 113,
    "start_time": "2021-09-21T18:06:28.638Z"
   },
   {
    "duration": 2096,
    "start_time": "2021-09-21T18:06:45.497Z"
   },
   {
    "duration": 1312,
    "start_time": "2021-09-21T18:06:47.595Z"
   },
   {
    "duration": 3,
    "start_time": "2021-09-21T18:06:48.912Z"
   },
   {
    "duration": 934,
    "start_time": "2021-09-21T18:06:48.917Z"
   },
   {
    "duration": 885,
    "start_time": "2021-09-21T18:06:49.853Z"
   },
   {
    "duration": 594,
    "start_time": "2021-09-21T18:06:50.741Z"
   },
   {
    "duration": 56,
    "start_time": "2021-09-21T18:06:51.338Z"
   },
   {
    "duration": 252,
    "start_time": "2021-09-21T18:06:51.397Z"
   },
   {
    "duration": 711,
    "start_time": "2021-09-21T18:06:51.651Z"
   },
   {
    "duration": 3,
    "start_time": "2021-09-21T18:06:52.364Z"
   },
   {
    "duration": 20,
    "start_time": "2021-09-21T18:06:52.369Z"
   },
   {
    "duration": 120,
    "start_time": "2021-09-21T18:06:52.391Z"
   },
   {
    "duration": 1080,
    "start_time": "2021-09-21T18:06:52.513Z"
   },
   {
    "duration": 260,
    "start_time": "2021-09-21T18:06:53.595Z"
   },
   {
    "duration": 247,
    "start_time": "2021-09-21T18:06:53.857Z"
   },
   {
    "duration": 229,
    "start_time": "2021-09-21T18:06:54.106Z"
   },
   {
    "duration": 32,
    "start_time": "2021-09-21T18:06:54.337Z"
   },
   {
    "duration": 235,
    "start_time": "2021-09-21T18:06:54.371Z"
   },
   {
    "duration": 183,
    "start_time": "2021-09-21T18:06:54.608Z"
   },
   {
    "duration": 158,
    "start_time": "2021-09-21T18:06:54.793Z"
   },
   {
    "duration": 3,
    "start_time": "2021-09-21T18:06:54.953Z"
   },
   {
    "duration": 470,
    "start_time": "2021-09-21T18:06:54.960Z"
   },
   {
    "duration": 29,
    "start_time": "2021-09-21T18:06:55.432Z"
   },
   {
    "duration": 709,
    "start_time": "2021-09-21T18:06:55.463Z"
   },
   {
    "duration": 4,
    "start_time": "2021-09-21T18:06:56.173Z"
   },
   {
    "duration": 4778,
    "start_time": "2021-09-21T18:06:56.179Z"
   },
   {
    "duration": 191,
    "start_time": "2021-09-21T18:07:00.960Z"
   },
   {
    "duration": 3347,
    "start_time": "2021-09-21T18:07:01.153Z"
   },
   {
    "duration": 18,
    "start_time": "2021-09-21T18:07:04.502Z"
   },
   {
    "duration": 1269,
    "start_time": "2021-09-21T18:07:04.522Z"
   },
   {
    "duration": 157,
    "start_time": "2021-09-21T18:07:05.793Z"
   },
   {
    "duration": 150320,
    "start_time": "2021-09-21T18:07:05.952Z"
   },
   {
    "duration": 897,
    "start_time": "2021-09-21T18:09:36.274Z"
   },
   {
    "duration": 106278,
    "start_time": "2021-09-21T18:09:37.174Z"
   },
   {
    "duration": 2090,
    "start_time": "2021-09-21T18:17:52.737Z"
   },
   {
    "duration": 1219,
    "start_time": "2021-09-21T18:17:54.830Z"
   },
   {
    "duration": 3,
    "start_time": "2021-09-21T18:17:56.051Z"
   },
   {
    "duration": 852,
    "start_time": "2021-09-21T18:17:56.055Z"
   },
   {
    "duration": 804,
    "start_time": "2021-09-21T18:17:56.909Z"
   },
   {
    "duration": 562,
    "start_time": "2021-09-21T18:17:57.714Z"
   },
   {
    "duration": 48,
    "start_time": "2021-09-21T18:17:58.278Z"
   },
   {
    "duration": 277,
    "start_time": "2021-09-21T18:17:58.328Z"
   },
   {
    "duration": 724,
    "start_time": "2021-09-21T18:17:58.608Z"
   },
   {
    "duration": 2,
    "start_time": "2021-09-21T18:17:59.335Z"
   },
   {
    "duration": 11,
    "start_time": "2021-09-21T18:17:59.338Z"
   },
   {
    "duration": 122,
    "start_time": "2021-09-21T18:17:59.351Z"
   },
   {
    "duration": 1014,
    "start_time": "2021-09-21T18:17:59.475Z"
   },
   {
    "duration": 235,
    "start_time": "2021-09-21T18:18:00.490Z"
   },
   {
    "duration": 331,
    "start_time": "2021-09-21T18:18:00.727Z"
   },
   {
    "duration": 228,
    "start_time": "2021-09-21T18:18:01.060Z"
   },
   {
    "duration": 29,
    "start_time": "2021-09-21T18:18:01.289Z"
   },
   {
    "duration": 242,
    "start_time": "2021-09-21T18:18:01.320Z"
   },
   {
    "duration": 163,
    "start_time": "2021-09-21T18:18:01.564Z"
   },
   {
    "duration": 153,
    "start_time": "2021-09-21T18:18:01.729Z"
   },
   {
    "duration": 3,
    "start_time": "2021-09-21T18:18:01.884Z"
   },
   {
    "duration": 406,
    "start_time": "2021-09-21T18:18:01.888Z"
   },
   {
    "duration": 19,
    "start_time": "2021-09-21T18:18:02.296Z"
   },
   {
    "duration": 678,
    "start_time": "2021-09-21T18:18:02.317Z"
   },
   {
    "duration": 4,
    "start_time": "2021-09-21T18:18:02.997Z"
   },
   {
    "duration": 2952,
    "start_time": "2021-09-21T18:18:03.003Z"
   },
   {
    "duration": 96,
    "start_time": "2021-09-21T18:18:05.959Z"
   },
   {
    "duration": 3510,
    "start_time": "2021-09-21T18:18:06.057Z"
   },
   {
    "duration": 39,
    "start_time": "2021-09-21T18:18:09.569Z"
   },
   {
    "duration": 1839,
    "start_time": "2021-09-21T18:18:09.610Z"
   },
   {
    "duration": 101,
    "start_time": "2021-09-21T18:18:11.451Z"
   },
   {
    "duration": 119827,
    "start_time": "2021-09-21T18:18:11.555Z"
   },
   {
    "duration": 985,
    "start_time": "2021-09-21T18:20:11.384Z"
   },
   {
    "duration": 109480,
    "start_time": "2021-09-21T18:20:12.371Z"
   },
   {
    "duration": 2416,
    "start_time": "2021-09-21T21:32:50.679Z"
   },
   {
    "duration": 5,
    "start_time": "2021-09-21T21:33:59.998Z"
   },
   {
    "duration": 2373,
    "start_time": "2021-09-21T21:34:00.964Z"
   },
   {
    "duration": 89,
    "start_time": "2021-09-21T21:34:34.073Z"
   },
   {
    "duration": 2,
    "start_time": "2021-09-21T21:35:17.145Z"
   },
   {
    "duration": 344,
    "start_time": "2021-09-21T21:35:27.353Z"
   },
   {
    "duration": 1216,
    "start_time": "2021-09-21T21:35:36.818Z"
   },
   {
    "duration": 2747,
    "start_time": "2021-09-21T21:35:38.036Z"
   },
   {
    "duration": 3,
    "start_time": "2021-09-21T21:35:40.786Z"
   },
   {
    "duration": 1240,
    "start_time": "2021-09-21T21:35:40.792Z"
   },
   {
    "duration": 1287,
    "start_time": "2021-09-21T21:35:42.035Z"
   },
   {
    "duration": 830,
    "start_time": "2021-09-21T21:35:43.324Z"
   },
   {
    "duration": 93,
    "start_time": "2021-09-21T21:35:44.156Z"
   },
   {
    "duration": 412,
    "start_time": "2021-09-21T21:35:44.251Z"
   },
   {
    "duration": 1087,
    "start_time": "2021-09-21T21:35:44.667Z"
   },
   {
    "duration": 3,
    "start_time": "2021-09-21T21:35:45.757Z"
   },
   {
    "duration": 8,
    "start_time": "2021-09-21T21:35:45.762Z"
   },
   {
    "duration": 374,
    "start_time": "2021-09-21T21:35:45.772Z"
   },
   {
    "duration": -413,
    "start_time": "2021-09-21T21:35:46.562Z"
   },
   {
    "duration": -414,
    "start_time": "2021-09-21T21:35:46.564Z"
   },
   {
    "duration": -414,
    "start_time": "2021-09-21T21:35:46.565Z"
   },
   {
    "duration": -414,
    "start_time": "2021-09-21T21:35:46.566Z"
   },
   {
    "duration": -413,
    "start_time": "2021-09-21T21:35:46.567Z"
   },
   {
    "duration": -417,
    "start_time": "2021-09-21T21:35:46.572Z"
   },
   {
    "duration": -417,
    "start_time": "2021-09-21T21:35:46.573Z"
   },
   {
    "duration": -418,
    "start_time": "2021-09-21T21:35:46.575Z"
   },
   {
    "duration": -419,
    "start_time": "2021-09-21T21:35:46.577Z"
   },
   {
    "duration": -418,
    "start_time": "2021-09-21T21:35:46.578Z"
   },
   {
    "duration": -418,
    "start_time": "2021-09-21T21:35:46.579Z"
   },
   {
    "duration": -419,
    "start_time": "2021-09-21T21:35:46.581Z"
   },
   {
    "duration": -419,
    "start_time": "2021-09-21T21:35:46.582Z"
   },
   {
    "duration": -419,
    "start_time": "2021-09-21T21:35:46.583Z"
   },
   {
    "duration": -419,
    "start_time": "2021-09-21T21:35:46.584Z"
   },
   {
    "duration": -422,
    "start_time": "2021-09-21T21:35:46.588Z"
   },
   {
    "duration": -423,
    "start_time": "2021-09-21T21:35:46.590Z"
   },
   {
    "duration": -422,
    "start_time": "2021-09-21T21:35:46.591Z"
   },
   {
    "duration": -422,
    "start_time": "2021-09-21T21:35:46.592Z"
   },
   {
    "duration": -422,
    "start_time": "2021-09-21T21:35:46.593Z"
   },
   {
    "duration": -421,
    "start_time": "2021-09-21T21:35:46.594Z"
   },
   {
    "duration": -422,
    "start_time": "2021-09-21T21:35:46.596Z"
   },
   {
    "duration": -422,
    "start_time": "2021-09-21T21:35:46.597Z"
   },
   {
    "duration": 524,
    "start_time": "2021-09-21T21:36:01.854Z"
   },
   {
    "duration": 84,
    "start_time": "2021-09-21T21:36:18.716Z"
   },
   {
    "duration": 4,
    "start_time": "2021-09-21T21:37:20.893Z"
   },
   {
    "duration": 105,
    "start_time": "2021-09-21T21:37:25.509Z"
   },
   {
    "duration": 236,
    "start_time": "2021-09-21T21:37:28.132Z"
   },
   {
    "duration": 4,
    "start_time": "2021-09-21T21:37:36.837Z"
   },
   {
    "duration": 4,
    "start_time": "2021-09-21T21:38:35.676Z"
   },
   {
    "duration": 3,
    "start_time": "2021-09-21T21:38:53.628Z"
   },
   {
    "duration": 1542,
    "start_time": "2021-09-21T21:39:00.177Z"
   },
   {
    "duration": 2147,
    "start_time": "2021-09-21T21:39:01.721Z"
   },
   {
    "duration": 3,
    "start_time": "2021-09-21T21:39:03.871Z"
   },
   {
    "duration": 1234,
    "start_time": "2021-09-21T21:39:03.876Z"
   },
   {
    "duration": 1166,
    "start_time": "2021-09-21T21:39:05.112Z"
   },
   {
    "duration": 797,
    "start_time": "2021-09-21T21:39:06.280Z"
   },
   {
    "duration": 92,
    "start_time": "2021-09-21T21:39:07.079Z"
   },
   {
    "duration": 418,
    "start_time": "2021-09-21T21:39:07.174Z"
   },
   {
    "duration": 1076,
    "start_time": "2021-09-21T21:39:07.595Z"
   },
   {
    "duration": 3,
    "start_time": "2021-09-21T21:39:08.673Z"
   },
   {
    "duration": 13,
    "start_time": "2021-09-21T21:39:08.678Z"
   },
   {
    "duration": 12,
    "start_time": "2021-09-21T21:39:08.693Z"
   },
   {
    "duration": 176,
    "start_time": "2021-09-21T21:39:08.707Z"
   },
   {
    "duration": 3,
    "start_time": "2021-09-21T21:39:08.886Z"
   },
   {
    "duration": 1242,
    "start_time": "2021-09-21T21:39:08.891Z"
   },
   {
    "duration": 332,
    "start_time": "2021-09-21T21:39:10.135Z"
   },
   {
    "duration": 337,
    "start_time": "2021-09-21T21:39:10.470Z"
   },
   {
    "duration": 318,
    "start_time": "2021-09-21T21:39:10.809Z"
   },
   {
    "duration": 46,
    "start_time": "2021-09-21T21:39:11.130Z"
   },
   {
    "duration": 328,
    "start_time": "2021-09-21T21:39:11.178Z"
   },
   {
    "duration": 229,
    "start_time": "2021-09-21T21:39:11.508Z"
   },
   {
    "duration": 145,
    "start_time": "2021-09-21T21:39:11.738Z"
   },
   {
    "duration": 2,
    "start_time": "2021-09-21T21:39:11.885Z"
   },
   {
    "duration": 405,
    "start_time": "2021-09-21T21:39:11.889Z"
   },
   {
    "duration": 19,
    "start_time": "2021-09-21T21:39:12.296Z"
   },
   {
    "duration": 680,
    "start_time": "2021-09-21T21:39:12.317Z"
   },
   {
    "duration": 3,
    "start_time": "2021-09-21T21:39:13.000Z"
   },
   {
    "duration": 2650,
    "start_time": "2021-09-21T21:39:13.005Z"
   },
   {
    "duration": 194,
    "start_time": "2021-09-21T21:39:15.657Z"
   },
   {
    "duration": 3434,
    "start_time": "2021-09-21T21:39:15.854Z"
   },
   {
    "duration": 35,
    "start_time": "2021-09-21T21:39:19.290Z"
   },
   {
    "duration": 1785,
    "start_time": "2021-09-21T21:39:19.327Z"
   },
   {
    "duration": 40,
    "start_time": "2021-09-21T21:39:21.115Z"
   },
   {
    "duration": 1216,
    "start_time": "2021-09-21T21:40:12.577Z"
   },
   {
    "duration": 2367,
    "start_time": "2021-09-21T21:40:13.795Z"
   },
   {
    "duration": 3,
    "start_time": "2021-09-21T21:40:16.165Z"
   },
   {
    "duration": 953,
    "start_time": "2021-09-21T21:40:16.170Z"
   },
   {
    "duration": 887,
    "start_time": "2021-09-21T21:40:17.125Z"
   },
   {
    "duration": 583,
    "start_time": "2021-09-21T21:40:18.014Z"
   },
   {
    "duration": 52,
    "start_time": "2021-09-21T21:40:18.599Z"
   },
   {
    "duration": 312,
    "start_time": "2021-09-21T21:40:18.653Z"
   },
   {
    "duration": 776,
    "start_time": "2021-09-21T21:40:18.968Z"
   },
   {
    "duration": 3,
    "start_time": "2021-09-21T21:40:19.747Z"
   },
   {
    "duration": 7,
    "start_time": "2021-09-21T21:40:19.752Z"
   },
   {
    "duration": 5,
    "start_time": "2021-09-21T21:40:19.761Z"
   },
   {
    "duration": 129,
    "start_time": "2021-09-21T21:40:19.768Z"
   },
   {
    "duration": 4,
    "start_time": "2021-09-21T21:40:19.899Z"
   },
   {
    "duration": 954,
    "start_time": "2021-09-21T21:40:19.905Z"
   },
   {
    "duration": 246,
    "start_time": "2021-09-21T21:40:20.860Z"
   },
   {
    "duration": 241,
    "start_time": "2021-09-21T21:40:21.108Z"
   },
   {
    "duration": 240,
    "start_time": "2021-09-21T21:40:21.351Z"
   },
   {
    "duration": 29,
    "start_time": "2021-09-21T21:40:21.593Z"
   },
   {
    "duration": 258,
    "start_time": "2021-09-21T21:40:21.624Z"
   },
   {
    "duration": 164,
    "start_time": "2021-09-21T21:40:21.883Z"
   },
   {
    "duration": 146,
    "start_time": "2021-09-21T21:40:22.048Z"
   },
   {
    "duration": 2,
    "start_time": "2021-09-21T21:40:22.196Z"
   },
   {
    "duration": 402,
    "start_time": "2021-09-21T21:40:22.200Z"
   },
   {
    "duration": 19,
    "start_time": "2021-09-21T21:40:22.604Z"
   },
   {
    "duration": 682,
    "start_time": "2021-09-21T21:40:22.624Z"
   },
   {
    "duration": 3,
    "start_time": "2021-09-21T21:40:23.310Z"
   },
   {
    "duration": 2939,
    "start_time": "2021-09-21T21:40:23.315Z"
   },
   {
    "duration": 103,
    "start_time": "2021-09-21T21:40:26.256Z"
   },
   {
    "duration": 3372,
    "start_time": "2021-09-21T21:40:26.361Z"
   },
   {
    "duration": 32,
    "start_time": "2021-09-21T21:40:29.735Z"
   },
   {
    "duration": 1381,
    "start_time": "2021-09-21T21:40:29.769Z"
   },
   {
    "duration": 99,
    "start_time": "2021-09-21T21:40:31.152Z"
   },
   {
    "duration": 3306,
    "start_time": "2021-09-21T21:47:05.873Z"
   },
   {
    "duration": 46,
    "start_time": "2021-09-21T21:47:16.306Z"
   },
   {
    "duration": 343,
    "start_time": "2021-09-21T21:47:29.650Z"
   },
   {
    "duration": 245,
    "start_time": "2021-09-21T21:47:37.969Z"
   },
   {
    "duration": 236,
    "start_time": "2021-09-21T21:47:40.987Z"
   },
   {
    "duration": 1554,
    "start_time": "2021-09-22T21:09:45.327Z"
   },
   {
    "duration": -1205,
    "start_time": "2021-09-22T21:09:48.089Z"
   },
   {
    "duration": -1206,
    "start_time": "2021-09-22T21:09:48.092Z"
   },
   {
    "duration": -1208,
    "start_time": "2021-09-22T21:09:48.095Z"
   },
   {
    "duration": -1209,
    "start_time": "2021-09-22T21:09:48.097Z"
   },
   {
    "duration": -1209,
    "start_time": "2021-09-22T21:09:48.098Z"
   },
   {
    "duration": -1210,
    "start_time": "2021-09-22T21:09:48.100Z"
   },
   {
    "duration": -1210,
    "start_time": "2021-09-22T21:09:48.101Z"
   },
   {
    "duration": -1211,
    "start_time": "2021-09-22T21:09:48.103Z"
   },
   {
    "duration": -1214,
    "start_time": "2021-09-22T21:09:48.107Z"
   },
   {
    "duration": -1216,
    "start_time": "2021-09-22T21:09:48.110Z"
   },
   {
    "duration": -1216,
    "start_time": "2021-09-22T21:09:48.111Z"
   },
   {
    "duration": -1217,
    "start_time": "2021-09-22T21:09:48.113Z"
   },
   {
    "duration": -1217,
    "start_time": "2021-09-22T21:09:48.114Z"
   },
   {
    "duration": -1217,
    "start_time": "2021-09-22T21:09:48.115Z"
   },
   {
    "duration": -1218,
    "start_time": "2021-09-22T21:09:48.117Z"
   },
   {
    "duration": -1217,
    "start_time": "2021-09-22T21:09:48.118Z"
   },
   {
    "duration": -1218,
    "start_time": "2021-09-22T21:09:48.119Z"
   },
   {
    "duration": -1218,
    "start_time": "2021-09-22T21:09:48.120Z"
   },
   {
    "duration": -1219,
    "start_time": "2021-09-22T21:09:48.122Z"
   },
   {
    "duration": -1218,
    "start_time": "2021-09-22T21:09:48.123Z"
   },
   {
    "duration": -1219,
    "start_time": "2021-09-22T21:09:48.124Z"
   },
   {
    "duration": -1218,
    "start_time": "2021-09-22T21:09:48.125Z"
   },
   {
    "duration": -1221,
    "start_time": "2021-09-22T21:09:48.129Z"
   },
   {
    "duration": -1222,
    "start_time": "2021-09-22T21:09:48.131Z"
   },
   {
    "duration": -1222,
    "start_time": "2021-09-22T21:09:48.132Z"
   },
   {
    "duration": -1222,
    "start_time": "2021-09-22T21:09:48.133Z"
   },
   {
    "duration": -1222,
    "start_time": "2021-09-22T21:09:48.134Z"
   },
   {
    "duration": -1223,
    "start_time": "2021-09-22T21:09:48.136Z"
   },
   {
    "duration": -1223,
    "start_time": "2021-09-22T21:09:48.137Z"
   },
   {
    "duration": -1223,
    "start_time": "2021-09-22T21:09:48.138Z"
   },
   {
    "duration": -1223,
    "start_time": "2021-09-22T21:09:48.139Z"
   },
   {
    "duration": -1225,
    "start_time": "2021-09-22T21:09:48.142Z"
   },
   {
    "duration": -1225,
    "start_time": "2021-09-22T21:09:48.143Z"
   },
   {
    "duration": 4678,
    "start_time": "2021-09-22T21:10:41.087Z"
   },
   {
    "duration": 1325,
    "start_time": "2021-09-22T21:10:45.768Z"
   },
   {
    "duration": 3,
    "start_time": "2021-09-22T21:10:47.095Z"
   },
   {
    "duration": 1123,
    "start_time": "2021-09-22T21:10:47.099Z"
   },
   {
    "duration": 1323,
    "start_time": "2021-09-22T21:10:48.224Z"
   },
   {
    "duration": 557,
    "start_time": "2021-09-22T21:10:49.551Z"
   },
   {
    "duration": 63,
    "start_time": "2021-09-22T21:10:50.110Z"
   },
   {
    "duration": 261,
    "start_time": "2021-09-22T21:10:50.174Z"
   },
   {
    "duration": 753,
    "start_time": "2021-09-22T21:10:50.438Z"
   },
   {
    "duration": 3,
    "start_time": "2021-09-22T21:10:51.192Z"
   },
   {
    "duration": 13,
    "start_time": "2021-09-22T21:10:51.196Z"
   },
   {
    "duration": 6,
    "start_time": "2021-09-22T21:10:51.211Z"
   },
   {
    "duration": 119,
    "start_time": "2021-09-22T21:10:51.218Z"
   },
   {
    "duration": 12,
    "start_time": "2021-09-22T21:10:51.339Z"
   },
   {
    "duration": 1064,
    "start_time": "2021-09-22T21:10:51.353Z"
   },
   {
    "duration": 229,
    "start_time": "2021-09-22T21:10:52.418Z"
   },
   {
    "duration": 227,
    "start_time": "2021-09-22T21:10:52.649Z"
   },
   {
    "duration": 248,
    "start_time": "2021-09-22T21:10:52.878Z"
   },
   {
    "duration": 40,
    "start_time": "2021-09-22T21:10:53.128Z"
   },
   {
    "duration": 216,
    "start_time": "2021-09-22T21:10:53.170Z"
   },
   {
    "duration": 167,
    "start_time": "2021-09-22T21:10:53.388Z"
   },
   {
    "duration": 145,
    "start_time": "2021-09-22T21:10:53.557Z"
   },
   {
    "duration": 2,
    "start_time": "2021-09-22T21:10:53.704Z"
   },
   {
    "duration": 418,
    "start_time": "2021-09-22T21:10:53.708Z"
   },
   {
    "duration": 24,
    "start_time": "2021-09-22T21:10:54.128Z"
   },
   {
    "duration": 676,
    "start_time": "2021-09-22T21:10:54.154Z"
   },
   {
    "duration": 3,
    "start_time": "2021-09-22T21:10:54.833Z"
   },
   {
    "duration": 3139,
    "start_time": "2021-09-22T21:10:54.838Z"
   },
   {
    "duration": 199,
    "start_time": "2021-09-22T21:10:58.052Z"
   },
   {
    "duration": 342,
    "start_time": "2021-09-22T21:10:58.256Z"
   },
   {
    "duration": -1202,
    "start_time": "2021-09-22T21:10:59.802Z"
   },
   {
    "duration": -1204,
    "start_time": "2021-09-22T21:10:59.805Z"
   },
   {
    "duration": -1205,
    "start_time": "2021-09-22T21:10:59.807Z"
   },
   {
    "duration": -1205,
    "start_time": "2021-09-22T21:10:59.808Z"
   },
   {
    "duration": 2197,
    "start_time": "2021-09-22T21:13:45.669Z"
   },
   {
    "duration": 1302,
    "start_time": "2021-09-22T21:13:47.868Z"
   },
   {
    "duration": 3,
    "start_time": "2021-09-22T21:13:49.172Z"
   },
   {
    "duration": 865,
    "start_time": "2021-09-22T21:13:49.176Z"
   },
   {
    "duration": 870,
    "start_time": "2021-09-22T21:13:50.043Z"
   },
   {
    "duration": 582,
    "start_time": "2021-09-22T21:13:50.915Z"
   },
   {
    "duration": 59,
    "start_time": "2021-09-22T21:13:51.499Z"
   },
   {
    "duration": 269,
    "start_time": "2021-09-22T21:13:51.561Z"
   },
   {
    "duration": 766,
    "start_time": "2021-09-22T21:13:51.832Z"
   },
   {
    "duration": 2,
    "start_time": "2021-09-22T21:13:52.600Z"
   },
   {
    "duration": 7,
    "start_time": "2021-09-22T21:13:52.604Z"
   },
   {
    "duration": 6,
    "start_time": "2021-09-22T21:13:52.613Z"
   },
   {
    "duration": 128,
    "start_time": "2021-09-22T21:13:52.621Z"
   },
   {
    "duration": 5,
    "start_time": "2021-09-22T21:13:52.751Z"
   },
   {
    "duration": 932,
    "start_time": "2021-09-22T21:13:52.758Z"
   },
   {
    "duration": 248,
    "start_time": "2021-09-22T21:13:53.693Z"
   },
   {
    "duration": 241,
    "start_time": "2021-09-22T21:13:53.943Z"
   },
   {
    "duration": 236,
    "start_time": "2021-09-22T21:13:54.186Z"
   },
   {
    "duration": 39,
    "start_time": "2021-09-22T21:13:54.423Z"
   },
   {
    "duration": 325,
    "start_time": "2021-09-22T21:13:54.464Z"
   },
   {
    "duration": 225,
    "start_time": "2021-09-22T21:13:54.791Z"
   },
   {
    "duration": 208,
    "start_time": "2021-09-22T21:13:55.018Z"
   },
   {
    "duration": 3,
    "start_time": "2021-09-22T21:13:55.230Z"
   },
   {
    "duration": 582,
    "start_time": "2021-09-22T21:13:55.235Z"
   },
   {
    "duration": 35,
    "start_time": "2021-09-22T21:13:55.819Z"
   },
   {
    "duration": 811,
    "start_time": "2021-09-22T21:13:55.856Z"
   },
   {
    "duration": 4,
    "start_time": "2021-09-22T21:13:56.669Z"
   },
   {
    "duration": 3199,
    "start_time": "2021-09-22T21:13:56.675Z"
   },
   {
    "duration": 104,
    "start_time": "2021-09-22T21:13:59.966Z"
   },
   {
    "duration": 3687,
    "start_time": "2021-09-22T21:14:00.073Z"
   },
   {
    "duration": 25,
    "start_time": "2021-09-22T21:14:03.762Z"
   },
   {
    "duration": 1522,
    "start_time": "2021-09-22T21:14:03.789Z"
   },
   {
    "duration": 62,
    "start_time": "2021-09-22T21:14:05.313Z"
   },
   {
    "duration": 253,
    "start_time": "2021-09-22T21:18:15.369Z"
   },
   {
    "duration": 259,
    "start_time": "2021-09-22T21:18:29.216Z"
   },
   {
    "duration": 3201,
    "start_time": "2021-09-22T21:18:40.616Z"
   },
   {
    "duration": 394,
    "start_time": "2021-09-22T21:19:12.952Z"
   },
   {
    "duration": 2346,
    "start_time": "2021-09-22T21:19:36.706Z"
   },
   {
    "duration": 1202,
    "start_time": "2021-09-22T21:19:39.053Z"
   },
   {
    "duration": 5,
    "start_time": "2021-09-22T21:19:40.257Z"
   },
   {
    "duration": 917,
    "start_time": "2021-09-22T21:19:40.265Z"
   },
   {
    "duration": 874,
    "start_time": "2021-09-22T21:19:41.184Z"
   },
   {
    "duration": 565,
    "start_time": "2021-09-22T21:19:42.061Z"
   },
   {
    "duration": 60,
    "start_time": "2021-09-22T21:19:42.627Z"
   },
   {
    "duration": 291,
    "start_time": "2021-09-22T21:19:42.689Z"
   },
   {
    "duration": 846,
    "start_time": "2021-09-22T21:19:42.983Z"
   },
   {
    "duration": 2,
    "start_time": "2021-09-22T21:19:43.831Z"
   },
   {
    "duration": 7,
    "start_time": "2021-09-22T21:19:43.835Z"
   },
   {
    "duration": 8,
    "start_time": "2021-09-22T21:19:43.849Z"
   },
   {
    "duration": 120,
    "start_time": "2021-09-22T21:19:43.859Z"
   },
   {
    "duration": 4,
    "start_time": "2021-09-22T21:19:43.981Z"
   },
   {
    "duration": 885,
    "start_time": "2021-09-22T21:19:43.986Z"
   },
   {
    "duration": 246,
    "start_time": "2021-09-22T21:19:44.872Z"
   },
   {
    "duration": 241,
    "start_time": "2021-09-22T21:19:45.120Z"
   },
   {
    "duration": 327,
    "start_time": "2021-09-22T21:19:45.364Z"
   },
   {
    "duration": 35,
    "start_time": "2021-09-22T21:19:45.693Z"
   },
   {
    "duration": 336,
    "start_time": "2021-09-22T21:19:45.730Z"
   },
   {
    "duration": 172,
    "start_time": "2021-09-22T21:19:46.068Z"
   },
   {
    "duration": 156,
    "start_time": "2021-09-22T21:19:46.242Z"
   },
   {
    "duration": 2,
    "start_time": "2021-09-22T21:19:46.400Z"
   },
   {
    "duration": 431,
    "start_time": "2021-09-22T21:19:46.404Z"
   },
   {
    "duration": 25,
    "start_time": "2021-09-22T21:19:46.837Z"
   },
   {
    "duration": 691,
    "start_time": "2021-09-22T21:19:46.864Z"
   },
   {
    "duration": 4,
    "start_time": "2021-09-22T21:19:47.560Z"
   },
   {
    "duration": 3507,
    "start_time": "2021-09-22T21:19:47.566Z"
   },
   {
    "duration": 225,
    "start_time": "2021-09-22T21:19:51.150Z"
   },
   {
    "duration": 3559,
    "start_time": "2021-09-22T21:19:51.377Z"
   },
   {
    "duration": 35,
    "start_time": "2021-09-22T21:19:54.938Z"
   },
   {
    "duration": 1439,
    "start_time": "2021-09-22T21:19:54.975Z"
   },
   {
    "duration": 53,
    "start_time": "2021-09-22T21:19:56.416Z"
   },
   {
    "duration": 360,
    "start_time": "2021-09-22T21:19:56.550Z"
   },
   {
    "duration": 5655,
    "start_time": "2021-09-22T21:19:56.913Z"
   },
   {
    "duration": 406,
    "start_time": "2021-09-22T21:20:02.570Z"
   },
   {
    "duration": 2176,
    "start_time": "2021-09-22T21:21:38.241Z"
   },
   {
    "duration": 1254,
    "start_time": "2021-09-22T21:21:40.420Z"
   },
   {
    "duration": 2,
    "start_time": "2021-09-22T21:21:41.677Z"
   },
   {
    "duration": 897,
    "start_time": "2021-09-22T21:21:41.681Z"
   },
   {
    "duration": 882,
    "start_time": "2021-09-22T21:21:42.579Z"
   },
   {
    "duration": 570,
    "start_time": "2021-09-22T21:21:43.464Z"
   },
   {
    "duration": 63,
    "start_time": "2021-09-22T21:21:44.036Z"
   },
   {
    "duration": 291,
    "start_time": "2021-09-22T21:21:44.102Z"
   },
   {
    "duration": 765,
    "start_time": "2021-09-22T21:21:44.395Z"
   },
   {
    "duration": 3,
    "start_time": "2021-09-22T21:21:45.162Z"
   },
   {
    "duration": 6,
    "start_time": "2021-09-22T21:21:45.167Z"
   },
   {
    "duration": 6,
    "start_time": "2021-09-22T21:21:45.175Z"
   },
   {
    "duration": 130,
    "start_time": "2021-09-22T21:21:45.183Z"
   },
   {
    "duration": 3,
    "start_time": "2021-09-22T21:21:45.315Z"
   },
   {
    "duration": 986,
    "start_time": "2021-09-22T21:21:45.320Z"
   },
   {
    "duration": 235,
    "start_time": "2021-09-22T21:21:46.308Z"
   },
   {
    "duration": 321,
    "start_time": "2021-09-22T21:21:46.548Z"
   },
   {
    "duration": 231,
    "start_time": "2021-09-22T21:21:46.871Z"
   },
   {
    "duration": 29,
    "start_time": "2021-09-22T21:21:47.104Z"
   },
   {
    "duration": 263,
    "start_time": "2021-09-22T21:21:47.134Z"
   },
   {
    "duration": 193,
    "start_time": "2021-09-22T21:21:47.398Z"
   },
   {
    "duration": 157,
    "start_time": "2021-09-22T21:21:47.593Z"
   },
   {
    "duration": 3,
    "start_time": "2021-09-22T21:21:47.756Z"
   },
   {
    "duration": 432,
    "start_time": "2021-09-22T21:21:47.762Z"
   },
   {
    "duration": 20,
    "start_time": "2021-09-22T21:21:48.196Z"
   },
   {
    "duration": 682,
    "start_time": "2021-09-22T21:21:48.218Z"
   },
   {
    "duration": 4,
    "start_time": "2021-09-22T21:21:48.902Z"
   },
   {
    "duration": 3258,
    "start_time": "2021-09-22T21:21:48.908Z"
   },
   {
    "duration": 191,
    "start_time": "2021-09-22T21:21:52.170Z"
   },
   {
    "duration": 3366,
    "start_time": "2021-09-22T21:21:52.363Z"
   },
   {
    "duration": 34,
    "start_time": "2021-09-22T21:21:55.731Z"
   },
   {
    "duration": 1587,
    "start_time": "2021-09-22T21:21:55.767Z"
   },
   {
    "duration": 95,
    "start_time": "2021-09-22T21:21:57.356Z"
   },
   {
    "duration": 356,
    "start_time": "2021-09-22T21:21:57.453Z"
   },
   {
    "duration": 394,
    "start_time": "2021-09-22T21:21:57.812Z"
   },
   {
    "duration": 405,
    "start_time": "2021-09-22T21:21:58.208Z"
   },
   {
    "duration": 86311,
    "start_time": "2021-09-22T21:21:58.614Z"
   },
   {
    "duration": 709,
    "start_time": "2021-09-22T21:23:24.927Z"
   },
   {
    "duration": -1214,
    "start_time": "2021-09-22T21:23:45.981Z"
   },
   {
    "duration": 2367,
    "start_time": "2021-09-22T21:23:50.301Z"
   },
   {
    "duration": 1236,
    "start_time": "2021-09-22T21:23:52.670Z"
   },
   {
    "duration": 3,
    "start_time": "2021-09-22T21:23:53.910Z"
   },
   {
    "duration": 891,
    "start_time": "2021-09-22T21:23:53.915Z"
   },
   {
    "duration": 866,
    "start_time": "2021-09-22T21:23:54.808Z"
   },
   {
    "duration": 598,
    "start_time": "2021-09-22T21:23:55.676Z"
   },
   {
    "duration": 74,
    "start_time": "2021-09-22T21:23:56.277Z"
   },
   {
    "duration": 269,
    "start_time": "2021-09-22T21:23:56.356Z"
   },
   {
    "duration": 755,
    "start_time": "2021-09-22T21:23:56.627Z"
   },
   {
    "duration": 2,
    "start_time": "2021-09-22T21:23:57.383Z"
   },
   {
    "duration": 15,
    "start_time": "2021-09-22T21:23:57.387Z"
   },
   {
    "duration": 12,
    "start_time": "2021-09-22T21:23:57.404Z"
   },
   {
    "duration": 122,
    "start_time": "2021-09-22T21:23:57.418Z"
   },
   {
    "duration": 3,
    "start_time": "2021-09-22T21:23:57.542Z"
   },
   {
    "duration": 932,
    "start_time": "2021-09-22T21:23:57.548Z"
   },
   {
    "duration": 236,
    "start_time": "2021-09-22T21:23:58.482Z"
   },
   {
    "duration": 234,
    "start_time": "2021-09-22T21:23:58.720Z"
   },
   {
    "duration": 326,
    "start_time": "2021-09-22T21:23:58.956Z"
   },
   {
    "duration": 37,
    "start_time": "2021-09-22T21:23:59.284Z"
   },
   {
    "duration": 331,
    "start_time": "2021-09-22T21:23:59.324Z"
   },
   {
    "duration": 231,
    "start_time": "2021-09-22T21:23:59.659Z"
   },
   {
    "duration": 148,
    "start_time": "2021-09-22T21:23:59.892Z"
   },
   {
    "duration": 7,
    "start_time": "2021-09-22T21:24:00.042Z"
   },
   {
    "duration": 437,
    "start_time": "2021-09-22T21:24:00.053Z"
   },
   {
    "duration": 26,
    "start_time": "2021-09-22T21:24:00.492Z"
   },
   {
    "duration": 813,
    "start_time": "2021-09-22T21:24:00.522Z"
   },
   {
    "duration": 11,
    "start_time": "2021-09-22T21:24:01.338Z"
   },
   {
    "duration": 3503,
    "start_time": "2021-09-22T21:24:01.350Z"
   },
   {
    "duration": 207,
    "start_time": "2021-09-22T21:24:04.864Z"
   },
   {
    "duration": 3775,
    "start_time": "2021-09-22T21:24:05.151Z"
   },
   {
    "duration": 19,
    "start_time": "2021-09-22T21:24:08.928Z"
   },
   {
    "duration": 1384,
    "start_time": "2021-09-22T21:24:08.949Z"
   },
   {
    "duration": 35,
    "start_time": "2021-09-22T21:24:10.335Z"
   },
   {
    "duration": 354,
    "start_time": "2021-09-22T21:24:10.450Z"
   },
   {
    "duration": 17280,
    "start_time": "2021-09-22T21:24:10.806Z"
   },
   {
    "duration": 31201,
    "start_time": "2021-09-22T21:24:28.088Z"
   },
   {
    "duration": -1222,
    "start_time": "2021-09-22T21:25:00.513Z"
   },
   {
    "duration": 2179,
    "start_time": "2021-09-22T21:25:13.744Z"
   },
   {
    "duration": 1241,
    "start_time": "2021-09-22T21:25:15.925Z"
   },
   {
    "duration": 2,
    "start_time": "2021-09-22T21:25:17.169Z"
   },
   {
    "duration": 906,
    "start_time": "2021-09-22T21:25:17.173Z"
   },
   {
    "duration": 868,
    "start_time": "2021-09-22T21:25:18.081Z"
   },
   {
    "duration": 605,
    "start_time": "2021-09-22T21:25:18.951Z"
   },
   {
    "duration": 57,
    "start_time": "2021-09-22T21:25:19.558Z"
   },
   {
    "duration": 295,
    "start_time": "2021-09-22T21:25:19.618Z"
   },
   {
    "duration": 1039,
    "start_time": "2021-09-22T21:25:19.915Z"
   },
   {
    "duration": 2,
    "start_time": "2021-09-22T21:25:20.956Z"
   },
   {
    "duration": 35,
    "start_time": "2021-09-22T21:25:20.960Z"
   },
   {
    "duration": 24,
    "start_time": "2021-09-22T21:25:20.997Z"
   },
   {
    "duration": 135,
    "start_time": "2021-09-22T21:25:21.023Z"
   },
   {
    "duration": 4,
    "start_time": "2021-09-22T21:25:21.160Z"
   },
   {
    "duration": 905,
    "start_time": "2021-09-22T21:25:21.166Z"
   },
   {
    "duration": 335,
    "start_time": "2021-09-22T21:25:22.074Z"
   },
   {
    "duration": 329,
    "start_time": "2021-09-22T21:25:22.411Z"
   },
   {
    "duration": 232,
    "start_time": "2021-09-22T21:25:22.742Z"
   },
   {
    "duration": 28,
    "start_time": "2021-09-22T21:25:22.977Z"
   },
   {
    "duration": 252,
    "start_time": "2021-09-22T21:25:23.007Z"
   },
   {
    "duration": 219,
    "start_time": "2021-09-22T21:25:23.262Z"
   },
   {
    "duration": 202,
    "start_time": "2021-09-22T21:25:23.483Z"
   },
   {
    "duration": 2,
    "start_time": "2021-09-22T21:25:23.689Z"
   },
   {
    "duration": 421,
    "start_time": "2021-09-22T21:25:23.693Z"
   },
   {
    "duration": 18,
    "start_time": "2021-09-22T21:25:24.116Z"
   },
   {
    "duration": 695,
    "start_time": "2021-09-22T21:25:24.136Z"
   },
   {
    "duration": 3,
    "start_time": "2021-09-22T21:25:24.833Z"
   },
   {
    "duration": 2736,
    "start_time": "2021-09-22T21:25:24.838Z"
   },
   {
    "duration": 307,
    "start_time": "2021-09-22T21:25:27.658Z"
   },
   {
    "duration": 3434,
    "start_time": "2021-09-22T21:25:27.967Z"
   },
   {
    "duration": 25,
    "start_time": "2021-09-22T21:25:31.403Z"
   },
   {
    "duration": 1404,
    "start_time": "2021-09-22T21:25:31.430Z"
   },
   {
    "duration": 33,
    "start_time": "2021-09-22T21:25:32.836Z"
   },
   {
    "duration": 245695,
    "start_time": "2021-09-22T21:25:32.877Z"
   },
   {
    "duration": 897,
    "start_time": "2021-09-22T21:29:38.575Z"
   },
   {
    "duration": 123700,
    "start_time": "2021-09-22T21:29:39.473Z"
   },
   {
    "duration": 328,
    "start_time": "2021-09-22T21:31:43.176Z"
   },
   {
    "duration": 4357,
    "start_time": "2021-09-22T21:31:43.506Z"
   },
   {
    "duration": 388685,
    "start_time": "2021-09-22T21:31:47.865Z"
   },
   {
    "duration": -1227,
    "start_time": "2021-09-22T21:40:04.660Z"
   },
   {
    "duration": -1234,
    "start_time": "2021-09-22T21:40:04.667Z"
   },
   {
    "duration": 503,
    "start_time": "2021-09-22T21:40:05.857Z"
   },
   {
    "duration": 2157,
    "start_time": "2021-09-22T21:40:49.139Z"
   },
   {
    "duration": 1173,
    "start_time": "2021-09-22T21:40:51.298Z"
   },
   {
    "duration": 2,
    "start_time": "2021-09-22T21:40:52.473Z"
   },
   {
    "duration": 846,
    "start_time": "2021-09-22T21:40:52.478Z"
   },
   {
    "duration": 833,
    "start_time": "2021-09-22T21:40:53.326Z"
   },
   {
    "duration": 615,
    "start_time": "2021-09-22T21:40:54.163Z"
   },
   {
    "duration": 50,
    "start_time": "2021-09-22T21:40:54.780Z"
   },
   {
    "duration": 299,
    "start_time": "2021-09-22T21:40:54.833Z"
   },
   {
    "duration": 747,
    "start_time": "2021-09-22T21:40:55.134Z"
   },
   {
    "duration": 3,
    "start_time": "2021-09-22T21:40:55.882Z"
   },
   {
    "duration": 8,
    "start_time": "2021-09-22T21:40:55.886Z"
   },
   {
    "duration": 14,
    "start_time": "2021-09-22T21:40:55.896Z"
   },
   {
    "duration": 176,
    "start_time": "2021-09-22T21:40:55.911Z"
   },
   {
    "duration": 3,
    "start_time": "2021-09-22T21:40:56.088Z"
   },
   {
    "duration": 975,
    "start_time": "2021-09-22T21:40:56.093Z"
   },
   {
    "duration": 240,
    "start_time": "2021-09-22T21:40:57.070Z"
   },
   {
    "duration": 233,
    "start_time": "2021-09-22T21:40:57.312Z"
   },
   {
    "duration": 239,
    "start_time": "2021-09-22T21:40:57.548Z"
   },
   {
    "duration": 36,
    "start_time": "2021-09-22T21:40:57.789Z"
   },
   {
    "duration": 322,
    "start_time": "2021-09-22T21:40:57.827Z"
   },
   {
    "duration": 226,
    "start_time": "2021-09-22T21:40:58.153Z"
   },
   {
    "duration": 199,
    "start_time": "2021-09-22T21:40:58.381Z"
   },
   {
    "duration": 3,
    "start_time": "2021-09-22T21:40:58.584Z"
   },
   {
    "duration": 438,
    "start_time": "2021-09-22T21:40:58.589Z"
   },
   {
    "duration": 24,
    "start_time": "2021-09-22T21:40:59.028Z"
   },
   {
    "duration": 679,
    "start_time": "2021-09-22T21:40:59.056Z"
   },
   {
    "duration": 3,
    "start_time": "2021-09-22T21:40:59.737Z"
   },
   {
    "duration": 4332,
    "start_time": "2021-09-22T21:40:59.741Z"
   },
   {
    "duration": 281,
    "start_time": "2021-09-22T21:41:04.076Z"
   },
   {
    "duration": 3403,
    "start_time": "2021-09-22T21:41:04.361Z"
   },
   {
    "duration": 19,
    "start_time": "2021-09-22T21:41:07.766Z"
   },
   {
    "duration": 1442,
    "start_time": "2021-09-22T21:41:07.786Z"
   },
   {
    "duration": 120,
    "start_time": "2021-09-22T21:41:09.229Z"
   },
   {
    "duration": 449,
    "start_time": "2021-09-22T21:41:09.352Z"
   },
   {
    "duration": 4193,
    "start_time": "2021-09-22T21:41:09.803Z"
   },
   {
    "duration": 295797,
    "start_time": "2021-09-22T21:41:13.998Z"
   },
   {
    "duration": 618,
    "start_time": "2021-09-22T21:46:09.797Z"
   },
   {
    "duration": 80,
    "start_time": "2021-09-22T21:47:50.585Z"
   },
   {
    "duration": 548,
    "start_time": "2021-09-22T21:48:12.410Z"
   },
   {
    "duration": 3,
    "start_time": "2021-09-22T21:48:34.833Z"
   },
   {
    "duration": 500,
    "start_time": "2021-09-22T21:48:40.059Z"
   },
   {
    "duration": 2303,
    "start_time": "2021-09-22T21:48:54.421Z"
   },
   {
    "duration": 1386,
    "start_time": "2021-09-22T21:48:56.726Z"
   },
   {
    "duration": 3,
    "start_time": "2021-09-22T21:48:58.114Z"
   },
   {
    "duration": 1208,
    "start_time": "2021-09-22T21:48:58.119Z"
   },
   {
    "duration": 1264,
    "start_time": "2021-09-22T21:48:59.329Z"
   },
   {
    "duration": 830,
    "start_time": "2021-09-22T21:49:00.596Z"
   },
   {
    "duration": 93,
    "start_time": "2021-09-22T21:49:01.429Z"
   },
   {
    "duration": 425,
    "start_time": "2021-09-22T21:49:01.524Z"
   },
   {
    "duration": 985,
    "start_time": "2021-09-22T21:49:01.952Z"
   },
   {
    "duration": 11,
    "start_time": "2021-09-22T21:49:02.940Z"
   },
   {
    "duration": 11,
    "start_time": "2021-09-22T21:49:02.954Z"
   },
   {
    "duration": 8,
    "start_time": "2021-09-22T21:49:02.967Z"
   },
   {
    "duration": 110,
    "start_time": "2021-09-22T21:49:02.977Z"
   },
   {
    "duration": 4,
    "start_time": "2021-09-22T21:49:03.089Z"
   },
   {
    "duration": 985,
    "start_time": "2021-09-22T21:49:03.094Z"
   },
   {
    "duration": 233,
    "start_time": "2021-09-22T21:49:04.081Z"
   },
   {
    "duration": 248,
    "start_time": "2021-09-22T21:49:04.316Z"
   },
   {
    "duration": 227,
    "start_time": "2021-09-22T21:49:04.566Z"
   },
   {
    "duration": 27,
    "start_time": "2021-09-22T21:49:04.795Z"
   },
   {
    "duration": 248,
    "start_time": "2021-09-22T21:49:04.824Z"
   },
   {
    "duration": 159,
    "start_time": "2021-09-22T21:49:05.073Z"
   },
   {
    "duration": 154,
    "start_time": "2021-09-22T21:49:05.234Z"
   },
   {
    "duration": 2,
    "start_time": "2021-09-22T21:49:05.389Z"
   },
   {
    "duration": 425,
    "start_time": "2021-09-22T21:49:05.393Z"
   },
   {
    "duration": 16,
    "start_time": "2021-09-22T21:49:05.820Z"
   },
   {
    "duration": 671,
    "start_time": "2021-09-22T21:49:05.838Z"
   },
   {
    "duration": 3,
    "start_time": "2021-09-22T21:49:06.513Z"
   },
   {
    "duration": 3233,
    "start_time": "2021-09-22T21:49:06.518Z"
   },
   {
    "duration": 2917,
    "start_time": "2021-09-22T21:49:09.756Z"
   },
   {
    "duration": 96,
    "start_time": "2021-09-22T21:49:12.764Z"
   },
   {
    "duration": 3353,
    "start_time": "2021-09-22T21:49:12.862Z"
   },
   {
    "duration": 22,
    "start_time": "2021-09-22T21:49:16.217Z"
   },
   {
    "duration": 1359,
    "start_time": "2021-09-22T21:49:16.241Z"
   },
   {
    "duration": 61,
    "start_time": "2021-09-22T21:49:17.602Z"
   },
   {
    "duration": 426,
    "start_time": "2021-09-22T21:49:17.666Z"
   },
   {
    "duration": 4376,
    "start_time": "2021-09-22T21:49:18.094Z"
   },
   {
    "duration": 276987,
    "start_time": "2021-09-22T21:49:22.471Z"
   },
   {
    "duration": 620,
    "start_time": "2021-09-22T21:53:59.460Z"
   },
   {
    "duration": 497,
    "start_time": "2021-09-22T21:54:12.304Z"
   },
   {
    "duration": 2295,
    "start_time": "2021-09-22T21:54:36.420Z"
   },
   {
    "duration": 1470,
    "start_time": "2021-09-22T21:54:38.717Z"
   },
   {
    "duration": 3,
    "start_time": "2021-09-22T21:54:40.192Z"
   },
   {
    "duration": 1228,
    "start_time": "2021-09-22T21:54:40.197Z"
   },
   {
    "duration": 1221,
    "start_time": "2021-09-22T21:54:41.427Z"
   },
   {
    "duration": 571,
    "start_time": "2021-09-22T21:54:42.650Z"
   },
   {
    "duration": 62,
    "start_time": "2021-09-22T21:54:43.223Z"
   },
   {
    "duration": 373,
    "start_time": "2021-09-22T21:54:43.287Z"
   },
   {
    "duration": 976,
    "start_time": "2021-09-22T21:54:43.662Z"
   },
   {
    "duration": 2,
    "start_time": "2021-09-22T21:54:44.640Z"
   },
   {
    "duration": 11,
    "start_time": "2021-09-22T21:54:44.643Z"
   },
   {
    "duration": 7,
    "start_time": "2021-09-22T21:54:44.655Z"
   },
   {
    "duration": 118,
    "start_time": "2021-09-22T21:54:44.664Z"
   },
   {
    "duration": 4,
    "start_time": "2021-09-22T21:54:44.783Z"
   },
   {
    "duration": 993,
    "start_time": "2021-09-22T21:54:44.788Z"
   },
   {
    "duration": 236,
    "start_time": "2021-09-22T21:54:45.782Z"
   },
   {
    "duration": 242,
    "start_time": "2021-09-22T21:54:46.019Z"
   },
   {
    "duration": 228,
    "start_time": "2021-09-22T21:54:46.263Z"
   },
   {
    "duration": 28,
    "start_time": "2021-09-22T21:54:46.492Z"
   },
   {
    "duration": 242,
    "start_time": "2021-09-22T21:54:46.522Z"
   },
   {
    "duration": 163,
    "start_time": "2021-09-22T21:54:46.766Z"
   },
   {
    "duration": 150,
    "start_time": "2021-09-22T21:54:46.933Z"
   },
   {
    "duration": 2,
    "start_time": "2021-09-22T21:54:47.085Z"
   },
   {
    "duration": 420,
    "start_time": "2021-09-22T21:54:47.089Z"
   },
   {
    "duration": 18,
    "start_time": "2021-09-22T21:54:47.511Z"
   },
   {
    "duration": 683,
    "start_time": "2021-09-22T21:54:47.531Z"
   },
   {
    "duration": 3,
    "start_time": "2021-09-22T21:54:48.216Z"
   },
   {
    "duration": 3446,
    "start_time": "2021-09-22T21:54:48.221Z"
   },
   {
    "duration": 3121,
    "start_time": "2021-09-22T21:54:51.750Z"
   },
   {
    "duration": 288,
    "start_time": "2021-09-22T21:54:54.873Z"
   },
   {
    "duration": 3847,
    "start_time": "2021-09-22T21:54:55.167Z"
   },
   {
    "duration": 31,
    "start_time": "2021-09-22T21:54:59.017Z"
   },
   {
    "duration": 1333,
    "start_time": "2021-09-22T21:54:59.060Z"
   },
   {
    "duration": 154,
    "start_time": "2021-09-22T21:55:00.394Z"
   },
   {
    "duration": 3217,
    "start_time": "2021-09-22T21:55:25.734Z"
   },
   {
    "duration": 3090,
    "start_time": "2021-09-22T22:01:50.882Z"
   },
   {
    "duration": 729,
    "start_time": "2021-09-22T22:02:44.995Z"
   },
   {
    "duration": 3858,
    "start_time": "2021-09-22T22:08:51.392Z"
   },
   {
    "duration": 236,
    "start_time": "2021-09-22T22:09:04.271Z"
   },
   {
    "duration": 85,
    "start_time": "2021-09-22T22:10:35.238Z"
   },
   {
    "duration": 84,
    "start_time": "2021-09-22T22:13:12.614Z"
   },
   {
    "duration": 2344,
    "start_time": "2021-09-22T22:13:24.702Z"
   },
   {
    "duration": 1580,
    "start_time": "2021-09-22T22:13:27.049Z"
   },
   {
    "duration": 3,
    "start_time": "2021-09-22T22:13:28.634Z"
   },
   {
    "duration": 1246,
    "start_time": "2021-09-22T22:13:28.649Z"
   },
   {
    "duration": 1303,
    "start_time": "2021-09-22T22:13:29.897Z"
   },
   {
    "duration": 829,
    "start_time": "2021-09-22T22:13:31.202Z"
   },
   {
    "duration": 64,
    "start_time": "2021-09-22T22:13:32.033Z"
   },
   {
    "duration": 288,
    "start_time": "2021-09-22T22:13:32.100Z"
   },
   {
    "duration": 745,
    "start_time": "2021-09-22T22:13:32.390Z"
   },
   {
    "duration": 3,
    "start_time": "2021-09-22T22:13:33.136Z"
   },
   {
    "duration": 13,
    "start_time": "2021-09-22T22:13:33.140Z"
   },
   {
    "duration": 12,
    "start_time": "2021-09-22T22:13:33.155Z"
   },
   {
    "duration": 117,
    "start_time": "2021-09-22T22:13:33.169Z"
   },
   {
    "duration": 3,
    "start_time": "2021-09-22T22:13:33.288Z"
   },
   {
    "duration": 999,
    "start_time": "2021-09-22T22:13:33.293Z"
   },
   {
    "duration": 246,
    "start_time": "2021-09-22T22:13:34.294Z"
   },
   {
    "duration": 241,
    "start_time": "2021-09-22T22:13:34.542Z"
   },
   {
    "duration": 239,
    "start_time": "2021-09-22T22:13:34.785Z"
   },
   {
    "duration": 41,
    "start_time": "2021-09-22T22:13:35.026Z"
   },
   {
    "duration": 267,
    "start_time": "2021-09-22T22:13:35.069Z"
   },
   {
    "duration": 170,
    "start_time": "2021-09-22T22:13:35.338Z"
   },
   {
    "duration": 159,
    "start_time": "2021-09-22T22:13:35.512Z"
   },
   {
    "duration": 2,
    "start_time": "2021-09-22T22:13:35.674Z"
   },
   {
    "duration": 413,
    "start_time": "2021-09-22T22:13:35.678Z"
   },
   {
    "duration": 16,
    "start_time": "2021-09-22T22:13:36.093Z"
   },
   {
    "duration": 673,
    "start_time": "2021-09-22T22:13:36.111Z"
   },
   {
    "duration": 3,
    "start_time": "2021-09-22T22:13:36.786Z"
   },
   {
    "duration": 3577,
    "start_time": "2021-09-22T22:13:36.791Z"
   },
   {
    "duration": 3803,
    "start_time": "2021-09-22T22:13:40.370Z"
   },
   {
    "duration": 94,
    "start_time": "2021-09-22T22:13:44.256Z"
   },
   {
    "duration": 4322,
    "start_time": "2021-09-22T22:13:44.353Z"
   },
   {
    "duration": 32,
    "start_time": "2021-09-22T22:13:48.677Z"
   },
   {
    "duration": 1710,
    "start_time": "2021-09-22T22:13:48.712Z"
   },
   {
    "duration": 40,
    "start_time": "2021-09-22T22:13:50.423Z"
   },
   {
    "duration": 248638,
    "start_time": "2021-09-22T22:13:50.550Z"
   },
   {
    "duration": 835,
    "start_time": "2021-09-22T22:17:59.250Z"
   },
   {
    "duration": 119575,
    "start_time": "2021-09-22T22:18:00.087Z"
   },
   {
    "duration": 343,
    "start_time": "2021-09-22T22:19:59.667Z"
   },
   {
    "duration": 4356,
    "start_time": "2021-09-22T22:20:00.012Z"
   },
   {
    "duration": 286291,
    "start_time": "2021-09-22T22:20:04.370Z"
   },
   {
    "duration": 3056,
    "start_time": "2021-12-14T13:58:11.566Z"
   },
   {
    "duration": 1547,
    "start_time": "2021-12-14T13:58:14.625Z"
   },
   {
    "duration": 3,
    "start_time": "2021-12-14T13:58:16.174Z"
   },
   {
    "duration": 826,
    "start_time": "2021-12-14T13:58:16.178Z"
   },
   {
    "duration": 806,
    "start_time": "2021-12-14T13:58:17.006Z"
   },
   {
    "duration": 550,
    "start_time": "2021-12-14T13:58:17.814Z"
   },
   {
    "duration": 47,
    "start_time": "2021-12-14T13:58:18.365Z"
   },
   {
    "duration": 265,
    "start_time": "2021-12-14T13:58:18.414Z"
   },
   {
    "duration": 681,
    "start_time": "2021-12-14T13:58:18.682Z"
   },
   {
    "duration": 3,
    "start_time": "2021-12-14T13:58:19.365Z"
   },
   {
    "duration": 9,
    "start_time": "2021-12-14T13:58:19.370Z"
   },
   {
    "duration": 6,
    "start_time": "2021-12-14T13:58:19.380Z"
   },
   {
    "duration": 120,
    "start_time": "2021-12-14T13:58:19.388Z"
   },
   {
    "duration": 4,
    "start_time": "2021-12-14T13:58:19.510Z"
   },
   {
    "duration": 850,
    "start_time": "2021-12-14T13:58:19.516Z"
   },
   {
    "duration": 223,
    "start_time": "2021-12-14T13:58:20.368Z"
   },
   {
    "duration": 222,
    "start_time": "2021-12-14T13:58:20.593Z"
   },
   {
    "duration": 216,
    "start_time": "2021-12-14T13:58:20.816Z"
   },
   {
    "duration": 32,
    "start_time": "2021-12-14T13:58:21.034Z"
   },
   {
    "duration": 220,
    "start_time": "2021-12-14T13:58:21.068Z"
   },
   {
    "duration": 152,
    "start_time": "2021-12-14T13:58:21.290Z"
   },
   {
    "duration": 141,
    "start_time": "2021-12-14T13:58:21.444Z"
   },
   {
    "duration": 3,
    "start_time": "2021-12-14T13:58:21.588Z"
   },
   {
    "duration": 398,
    "start_time": "2021-12-14T13:58:21.593Z"
   },
   {
    "duration": 18,
    "start_time": "2021-12-14T13:58:21.993Z"
   },
   {
    "duration": 682,
    "start_time": "2021-12-14T13:58:22.013Z"
   },
   {
    "duration": 5,
    "start_time": "2021-12-14T13:58:22.698Z"
   },
   {
    "duration": 2664,
    "start_time": "2021-12-14T13:58:22.706Z"
   },
   {
    "duration": 2592,
    "start_time": "2021-12-14T13:58:25.372Z"
   },
   {
    "duration": 106,
    "start_time": "2021-12-14T13:58:27.966Z"
   },
   {
    "duration": 3386,
    "start_time": "2021-12-14T13:58:28.163Z"
   },
   {
    "duration": 36,
    "start_time": "2021-12-14T13:58:31.550Z"
   },
   {
    "duration": 1435,
    "start_time": "2021-12-14T13:58:31.588Z"
   },
   {
    "duration": 141,
    "start_time": "2021-12-14T13:58:33.025Z"
   },
   {
    "duration": 9808,
    "start_time": "2021-12-14T13:58:33.169Z"
   },
   {
    "duration": 894,
    "start_time": "2021-12-14T13:58:42.979Z"
   },
   {
    "duration": 92194,
    "start_time": "2021-12-14T13:58:43.875Z"
   },
   {
    "duration": 340,
    "start_time": "2021-12-14T14:00:16.071Z"
   },
   {
    "duration": 4556,
    "start_time": "2021-12-14T14:00:16.414Z"
   },
   {
    "duration": 7704,
    "start_time": "2021-12-14T14:00:20.972Z"
   },
   {
    "duration": 798,
    "start_time": "2021-12-14T14:00:28.678Z"
   }
  ],
  "kernelspec": {
   "display_name": "Python 3",
   "language": "python",
   "name": "python3"
  },
  "language_info": {
   "codemirror_mode": {
    "name": "ipython",
    "version": 3
   },
   "file_extension": ".py",
   "mimetype": "text/x-python",
   "name": "python",
   "nbconvert_exporter": "python",
   "pygments_lexer": "ipython3",
   "version": "3.7.8"
  },
  "toc": {
   "base_numbering": 1,
   "nav_menu": {},
   "number_sections": true,
   "sideBar": true,
   "skip_h1_title": true,
   "title_cell": "Table of Contents",
   "title_sidebar": "Contents",
   "toc_cell": false,
   "toc_position": {},
   "toc_section_display": true,
   "toc_window_display": true
  }
 },
 "nbformat": 4,
 "nbformat_minor": 2
}
